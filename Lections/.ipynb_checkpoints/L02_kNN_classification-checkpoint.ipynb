{
 "cells": [
  {
   "cell_type": "markdown",
   "id": "c5a1f76c",
   "metadata": {
    "colab_type": "text",
    "id": "view-in-github"
   },
   "source": [
    "<a href=\"https://colab.research.google.com/github/Existanze54/sirius-machine-learning-2024/blob/main/Lections/L02_kNN_classification.ipynb\" target=\"_parent\"><img src=\"https://colab.research.google.com/assets/colab-badge.svg\" alt=\"Open In Colab\"/></a>"
   ]
  },
  {
   "cell_type": "markdown",
   "id": "c2ff3aed-cb83-4720-aad7-c26d38fdaa3d",
   "metadata": {
    "id": "c2ff3aed-cb83-4720-aad7-c26d38fdaa3d"
   },
   "source": [
    "# Основные алгоритмы машинного обучения\n",
    "\n",
    "## Лекция 2\n",
    "\n",
    "### Основные понятия машинного обучения. Обучение модели. Задача классификации. Метод k ближайших соседей."
   ]
  },
  {
   "cell_type": "code",
   "execution_count": 1,
   "id": "685e76e1",
   "metadata": {
    "id": "685e76e1"
   },
   "outputs": [],
   "source": [
    "import numpy as np\n",
    "import pandas as pd\n",
    "import matplotlib.pyplot as plt\n",
    "import seaborn as sns\n",
    "\n",
    "sns.set()\n",
    "sns.set_style(\"ticks\")"
   ]
  },
  {
   "cell_type": "markdown",
   "id": "O0yV_QyFCV2F",
   "metadata": {
    "id": "O0yV_QyFCV2F"
   },
   "source": [
    "<img src=\"https://data.bioml.ru/htdocs/courses/bioml/neural_networks/autoencoders/unsupervised2.png\" alt=\"Domains_tree\" width= \"700px;\"/>\n",
    "\n",
    "Сегодня мы с вами поговорим про задачу **классификации**.\n",
    "\n",
    "Имея множество объектов, хотим для каждого из них уметь предсказывать метку -- так называемый *класс объекта* -- из некоторого конечного и известного заранее множества меток.\n",
    "\n",
    "Если говорить более формально, то, определив множество признаковых описаний объектов $X$, и зная множество допустимых значений целевой переменной $Y$, ищем алгоритм, с допустимой точностью приближающий отображение $y*: X→Y$ для любого произвольного объекта $x \\in X$.\n",
    "\n",
    "![classification.png](https://data.bioml.ru/htdocs/courses/bioml/classic_ml/supervised/basic_concepts/classification.png)\n",
    "\n",
    "\n",
    "Но из ниоткуда такой алгоритм, конечно же, не возьмется. Более того, на реальных задачах у нас скорее всего не получится выразить отображение $y*: X→Y$ строгой математической формулой. А это означает, что для решения задачи нашу модель придется **обучать** на известных примерах: конечном множестве пар $\\{(x_{1},y_{1}),\\dots ,(x_{m},y_{m})\\}$, называемом *обучающей выборкой*."
   ]
  },
  {
   "cell_type": "markdown",
   "id": "3f76314f",
   "metadata": {
    "id": "3f76314f"
   },
   "source": [
    "## Обучение модели"
   ]
  },
  {
   "cell_type": "markdown",
   "id": "04f277ad",
   "metadata": {
    "id": "04f277ad"
   },
   "source": [
    "**Как вы думаете, что значит фраза \"обучить модель\"?**"
   ]
  },
  {
   "cell_type": "markdown",
   "id": "aa8ded7c-56c1-4ed9-8e10-b159ee621a25",
   "metadata": {
    "id": "aa8ded7c-56c1-4ed9-8e10-b159ee621a25"
   },
   "source": [
    "![ml1_stonks.jpg](https://data.bioml.ru/htdocs/courses/bioml/classic_ml/supervised/basic_concepts/ml1_stonks.jpg)"
   ]
  },
  {
   "cell_type": "markdown",
   "id": "11ba8b06",
   "metadata": {
    "id": "11ba8b06"
   },
   "source": [
    "**Обучение** для модели - это итеративное улучшение описания данных моделью с помощью изменения ее параметров."
   ]
  },
  {
   "cell_type": "markdown",
   "id": "23bfa833",
   "metadata": {
    "id": "23bfa833"
   },
   "source": [
    "Например, для простой линейной модели, проводящей прямую через точки, обучение будет выглядеть как-то так:"
   ]
  },
  {
   "cell_type": "markdown",
   "id": "37d07547",
   "metadata": {
    "id": "37d07547"
   },
   "source": [
    "![training_gif.gif](https://data.bioml.ru/htdocs/courses/bioml/classic_ml/supervised/basic_concepts/training_gif.gif)"
   ]
  },
  {
   "cell_type": "markdown",
   "id": "7ee02dcd",
   "metadata": {
    "id": "7ee02dcd"
   },
   "source": [
    "Сколько здесь параметров и как эти параметры меняются?"
   ]
  },
  {
   "cell_type": "markdown",
   "id": "51398ad1",
   "metadata": {
    "id": "51398ad1"
   },
   "source": [
    "Фактически при обучении происходит **\"подгон\" параметров** вашей модели таким образом, чтобы данные **как можно лучше были описаны** этой моделью. Подгоном это можно назвать потому, что мы формулируем гипотезу после того, как видим данные, а не заранее."
   ]
  },
  {
   "cell_type": "markdown",
   "id": "790addc8",
   "metadata": {
    "id": "790addc8"
   },
   "source": [
    "*Получается, машинное обучение - это профессиональный уровень подгона моделей?*"
   ]
  },
  {
   "cell_type": "markdown",
   "id": "e29c5b84",
   "metadata": {
    "id": "e29c5b84"
   },
   "source": [
    "Это не совсем так. Давайте рассмотрим эту проблему на примере самой простой модели."
   ]
  },
  {
   "cell_type": "markdown",
   "id": "312b8502",
   "metadata": {
    "id": "312b8502"
   },
   "source": [
    "## Самая простая модель классификации"
   ]
  },
  {
   "cell_type": "markdown",
   "id": "8b994352",
   "metadata": {
    "id": "8b994352"
   },
   "source": [
    "**Как вы думаете, как устроена самая простая модель для задачи классификации?**"
   ]
  },
  {
   "cell_type": "markdown",
   "id": "a858c024",
   "metadata": {
    "id": "a858c024"
   },
   "source": [
    "Представим, что в исходных данных у нас есть несколько размеченных образцов (будем дальше называть их **точками**). Будем считать признаки точки ее координатами в пространстве."
   ]
  },
  {
   "cell_type": "markdown",
   "id": "214e228f",
   "metadata": {
    "id": "214e228f"
   },
   "source": [
    "Тогда самый простой* способ предсказывать класс точки - это **искать ближайшую точку и выдавать ее класс в качестве предсказания**."
   ]
  },
  {
   "cell_type": "markdown",
   "id": "79645d08",
   "metadata": {
    "id": "79645d08"
   },
   "source": [
    "Немного более общий способ называется **k-NN** (метод k ближайших соседей, k nearest neighbours)."
   ]
  },
  {
   "cell_type": "markdown",
   "id": "d89df00c",
   "metadata": {
    "id": "d89df00c"
   },
   "source": [
    "В этом случае находится **k ближайших известных точек** к той, которую мы хотим классифицировать, и предсказывается **тот класс, которого больше** среди \"соседей\"."
   ]
  },
  {
   "cell_type": "markdown",
   "id": "e770282f",
   "metadata": {
    "id": "e770282f"
   },
   "source": [
    "Можно заметить, что в зависимости от выбранного значения **k** ответ модели для каждой конкретной точки может отличаться..\n",
    "\n",
    "![knn_ex.png](https://data.bioml.ru/htdocs/courses/bioml/classic_ml/supervised/knn/knn_ex.png)"
   ]
  },
  {
   "cell_type": "markdown",
   "id": "gSBGTnYLM514",
   "metadata": {
    "id": "gSBGTnYLM514"
   },
   "source": [
    "В замечательном пакете sklearn классификатор kNN уже реализован для нас и доступен доступен в виде класса <a href=\"https://scikit-learn.org/stable/modules/generated/sklearn.neighbors.KNeighborsClassifier.html\">sklearn.neighbors.KNeighborsClassifier</a>\n",
    "\n",
    "\n",
    "\n",
    "![sklearn_knn](https://data.bioml.ru/htdocs/courses/bioml/classic_ml/supervised/knn/sklearn_knn.png)"
   ]
  },
  {
   "cell_type": "markdown",
   "id": "261cd587",
   "metadata": {
    "id": "261cd587"
   },
   "source": [
    "### Попробуем обучить классификатор k-NN"
   ]
  },
  {
   "cell_type": "code",
   "execution_count": 2,
   "id": "f299d608",
   "metadata": {
    "id": "f299d608"
   },
   "outputs": [],
   "source": [
    "import sklearn.datasets\n",
    "from sklearn.neighbors import KNeighborsClassifier"
   ]
  },
  {
   "cell_type": "code",
   "execution_count": 3,
   "id": "1c4b1ad0",
   "metadata": {
    "id": "1c4b1ad0"
   },
   "outputs": [],
   "source": [
    "breast_cancer = sklearn.datasets.load_breast_cancer()\n",
    "X = breast_cancer.data\n",
    "y = breast_cancer.target"
   ]
  },
  {
   "cell_type": "code",
   "execution_count": null,
   "id": "qSttWh6WZnx2",
   "metadata": {
    "colab": {
     "base_uri": "https://localhost:8080/"
    },
    "id": "qSttWh6WZnx2",
    "outputId": "26ef5e9c-b836-4926-a7f7-2d99829b0b68"
   },
   "outputs": [
    {
     "name": "stdout",
     "output_type": "stream",
     "text": [
      "{'data': array([[1.799e+01, 1.038e+01, 1.228e+02, ..., 2.654e-01, 4.601e-01,\n",
      "        1.189e-01],\n",
      "       [2.057e+01, 1.777e+01, 1.329e+02, ..., 1.860e-01, 2.750e-01,\n",
      "        8.902e-02],\n",
      "       [1.969e+01, 2.125e+01, 1.300e+02, ..., 2.430e-01, 3.613e-01,\n",
      "        8.758e-02],\n",
      "       ...,\n",
      "       [1.660e+01, 2.808e+01, 1.083e+02, ..., 1.418e-01, 2.218e-01,\n",
      "        7.820e-02],\n",
      "       [2.060e+01, 2.933e+01, 1.401e+02, ..., 2.650e-01, 4.087e-01,\n",
      "        1.240e-01],\n",
      "       [7.760e+00, 2.454e+01, 4.792e+01, ..., 0.000e+00, 2.871e-01,\n",
      "        7.039e-02]]), 'target': array([0, 0, 0, 0, 0, 0, 0, 0, 0, 0, 0, 0, 0, 0, 0, 0, 0, 0, 0, 1, 1, 1,\n",
      "       0, 0, 0, 0, 0, 0, 0, 0, 0, 0, 0, 0, 0, 0, 0, 1, 0, 0, 0, 0, 0, 0,\n",
      "       0, 0, 1, 0, 1, 1, 1, 1, 1, 0, 0, 1, 0, 0, 1, 1, 1, 1, 0, 1, 0, 0,\n",
      "       1, 1, 1, 1, 0, 1, 0, 0, 1, 0, 1, 0, 0, 1, 1, 1, 0, 0, 1, 0, 0, 0,\n",
      "       1, 1, 1, 0, 1, 1, 0, 0, 1, 1, 1, 0, 0, 1, 1, 1, 1, 0, 1, 1, 0, 1,\n",
      "       1, 1, 1, 1, 1, 1, 1, 0, 0, 0, 1, 0, 0, 1, 1, 1, 0, 0, 1, 0, 1, 0,\n",
      "       0, 1, 0, 0, 1, 1, 0, 1, 1, 0, 1, 1, 1, 1, 0, 1, 1, 1, 1, 1, 1, 1,\n",
      "       1, 1, 0, 1, 1, 1, 1, 0, 0, 1, 0, 1, 1, 0, 0, 1, 1, 0, 0, 1, 1, 1,\n",
      "       1, 0, 1, 1, 0, 0, 0, 1, 0, 1, 0, 1, 1, 1, 0, 1, 1, 0, 0, 1, 0, 0,\n",
      "       0, 0, 1, 0, 0, 0, 1, 0, 1, 0, 1, 1, 0, 1, 0, 0, 0, 0, 1, 1, 0, 0,\n",
      "       1, 1, 1, 0, 1, 1, 1, 1, 1, 0, 0, 1, 1, 0, 1, 1, 0, 0, 1, 0, 1, 1,\n",
      "       1, 1, 0, 1, 1, 1, 1, 1, 0, 1, 0, 0, 0, 0, 0, 0, 0, 0, 0, 0, 0, 0,\n",
      "       0, 0, 1, 1, 1, 1, 1, 1, 0, 1, 0, 1, 1, 0, 1, 1, 0, 1, 0, 0, 1, 1,\n",
      "       1, 1, 1, 1, 1, 1, 1, 1, 1, 1, 1, 0, 1, 1, 0, 1, 0, 1, 1, 1, 1, 1,\n",
      "       1, 1, 1, 1, 1, 1, 1, 1, 1, 0, 1, 1, 1, 0, 1, 0, 1, 1, 1, 1, 0, 0,\n",
      "       0, 1, 1, 1, 1, 0, 1, 0, 1, 0, 1, 1, 1, 0, 1, 1, 1, 1, 1, 1, 1, 0,\n",
      "       0, 0, 1, 1, 1, 1, 1, 1, 1, 1, 1, 1, 1, 0, 0, 1, 0, 0, 0, 1, 0, 0,\n",
      "       1, 1, 1, 1, 1, 0, 1, 1, 1, 1, 1, 0, 1, 1, 1, 0, 1, 1, 0, 0, 1, 1,\n",
      "       1, 1, 1, 1, 0, 1, 1, 1, 1, 1, 1, 1, 0, 1, 1, 1, 1, 1, 0, 1, 1, 0,\n",
      "       1, 1, 1, 1, 1, 1, 1, 1, 1, 1, 1, 1, 0, 1, 0, 0, 1, 0, 1, 1, 1, 1,\n",
      "       1, 0, 1, 1, 0, 1, 0, 1, 1, 0, 1, 0, 1, 1, 1, 1, 1, 1, 1, 1, 0, 0,\n",
      "       1, 1, 1, 1, 1, 1, 0, 1, 1, 1, 1, 1, 1, 1, 1, 1, 1, 0, 1, 1, 1, 1,\n",
      "       1, 1, 1, 0, 1, 0, 1, 1, 0, 1, 1, 1, 1, 1, 0, 0, 1, 0, 1, 0, 1, 1,\n",
      "       1, 1, 1, 0, 1, 1, 0, 1, 0, 1, 0, 0, 1, 1, 1, 0, 1, 1, 1, 1, 1, 1,\n",
      "       1, 1, 1, 1, 1, 0, 1, 0, 0, 1, 1, 1, 1, 1, 1, 1, 1, 1, 1, 1, 1, 1,\n",
      "       1, 1, 1, 1, 1, 1, 1, 1, 1, 1, 1, 1, 0, 0, 0, 0, 0, 0, 1]), 'frame': None, 'target_names': array(['malignant', 'benign'], dtype='<U9'), 'DESCR': '.. _breast_cancer_dataset:\\n\\nBreast cancer wisconsin (diagnostic) dataset\\n--------------------------------------------\\n\\n**Data Set Characteristics:**\\n\\n:Number of Instances: 569\\n\\n:Number of Attributes: 30 numeric, predictive attributes and the class\\n\\n:Attribute Information:\\n    - radius (mean of distances from center to points on the perimeter)\\n    - texture (standard deviation of gray-scale values)\\n    - perimeter\\n    - area\\n    - smoothness (local variation in radius lengths)\\n    - compactness (perimeter^2 / area - 1.0)\\n    - concavity (severity of concave portions of the contour)\\n    - concave points (number of concave portions of the contour)\\n    - symmetry\\n    - fractal dimension (\"coastline approximation\" - 1)\\n\\n    The mean, standard error, and \"worst\" or largest (mean of the three\\n    worst/largest values) of these features were computed for each image,\\n    resulting in 30 features.  For instance, field 0 is Mean Radius, field\\n    10 is Radius SE, field 20 is Worst Radius.\\n\\n    - class:\\n            - WDBC-Malignant\\n            - WDBC-Benign\\n\\n:Summary Statistics:\\n\\n===================================== ====== ======\\n                                        Min    Max\\n===================================== ====== ======\\nradius (mean):                        6.981  28.11\\ntexture (mean):                       9.71   39.28\\nperimeter (mean):                     43.79  188.5\\narea (mean):                          143.5  2501.0\\nsmoothness (mean):                    0.053  0.163\\ncompactness (mean):                   0.019  0.345\\nconcavity (mean):                     0.0    0.427\\nconcave points (mean):                0.0    0.201\\nsymmetry (mean):                      0.106  0.304\\nfractal dimension (mean):             0.05   0.097\\nradius (standard error):              0.112  2.873\\ntexture (standard error):             0.36   4.885\\nperimeter (standard error):           0.757  21.98\\narea (standard error):                6.802  542.2\\nsmoothness (standard error):          0.002  0.031\\ncompactness (standard error):         0.002  0.135\\nconcavity (standard error):           0.0    0.396\\nconcave points (standard error):      0.0    0.053\\nsymmetry (standard error):            0.008  0.079\\nfractal dimension (standard error):   0.001  0.03\\nradius (worst):                       7.93   36.04\\ntexture (worst):                      12.02  49.54\\nperimeter (worst):                    50.41  251.2\\narea (worst):                         185.2  4254.0\\nsmoothness (worst):                   0.071  0.223\\ncompactness (worst):                  0.027  1.058\\nconcavity (worst):                    0.0    1.252\\nconcave points (worst):               0.0    0.291\\nsymmetry (worst):                     0.156  0.664\\nfractal dimension (worst):            0.055  0.208\\n===================================== ====== ======\\n\\n:Missing Attribute Values: None\\n\\n:Class Distribution: 212 - Malignant, 357 - Benign\\n\\n:Creator:  Dr. William H. Wolberg, W. Nick Street, Olvi L. Mangasarian\\n\\n:Donor: Nick Street\\n\\n:Date: November, 1995\\n\\nThis is a copy of UCI ML Breast Cancer Wisconsin (Diagnostic) datasets.\\nhttps://goo.gl/U2Uwz2\\n\\nFeatures are computed from a digitized image of a fine needle\\naspirate (FNA) of a breast mass.  They describe\\ncharacteristics of the cell nuclei present in the image.\\n\\nSeparating plane described above was obtained using\\nMultisurface Method-Tree (MSM-T) [K. P. Bennett, \"Decision Tree\\nConstruction Via Linear Programming.\" Proceedings of the 4th\\nMidwest Artificial Intelligence and Cognitive Science Society,\\npp. 97-101, 1992], a classification method which uses linear\\nprogramming to construct a decision tree.  Relevant features\\nwere selected using an exhaustive search in the space of 1-4\\nfeatures and 1-3 separating planes.\\n\\nThe actual linear program used to obtain the separating plane\\nin the 3-dimensional space is that described in:\\n[K. P. Bennett and O. L. Mangasarian: \"Robust Linear\\nProgramming Discrimination of Two Linearly Inseparable Sets\",\\nOptimization Methods and Software 1, 1992, 23-34].\\n\\nThis database is also available through the UW CS ftp server:\\n\\nftp ftp.cs.wisc.edu\\ncd math-prog/cpo-dataset/machine-learn/WDBC/\\n\\n.. dropdown:: References\\n\\n  - W.N. Street, W.H. Wolberg and O.L. Mangasarian. Nuclear feature extraction\\n    for breast tumor diagnosis. IS&T/SPIE 1993 International Symposium on\\n    Electronic Imaging: Science and Technology, volume 1905, pages 861-870,\\n    San Jose, CA, 1993.\\n  - O.L. Mangasarian, W.N. Street and W.H. Wolberg. Breast cancer diagnosis and\\n    prognosis via linear programming. Operations Research, 43(4), pages 570-577,\\n    July-August 1995.\\n  - W.H. Wolberg, W.N. Street, and O.L. Mangasarian. Machine learning techniques\\n    to diagnose breast cancer from fine-needle aspirates. Cancer Letters 77 (1994)\\n    163-171.\\n', 'feature_names': array(['mean radius', 'mean texture', 'mean perimeter', 'mean area',\n",
      "       'mean smoothness', 'mean compactness', 'mean concavity',\n",
      "       'mean concave points', 'mean symmetry', 'mean fractal dimension',\n",
      "       'radius error', 'texture error', 'perimeter error', 'area error',\n",
      "       'smoothness error', 'compactness error', 'concavity error',\n",
      "       'concave points error', 'symmetry error',\n",
      "       'fractal dimension error', 'worst radius', 'worst texture',\n",
      "       'worst perimeter', 'worst area', 'worst smoothness',\n",
      "       'worst compactness', 'worst concavity', 'worst concave points',\n",
      "       'worst symmetry', 'worst fractal dimension'], dtype='<U23'), 'filename': 'breast_cancer.csv', 'data_module': 'sklearn.datasets.data'}\n"
     ]
    }
   ],
   "source": [
    "# print(breast_cancer)"
   ]
  },
  {
   "cell_type": "code",
   "execution_count": 4,
   "id": "098fcb41",
   "metadata": {
    "colab": {
     "base_uri": "https://localhost:8080/",
     "height": 80
    },
    "id": "098fcb41",
    "outputId": "5cca6ae0-72b6-4abe-da4b-f1d4c82de9c0"
   },
   "outputs": [
    {
     "data": {
      "text/html": [
       "<style>#sk-container-id-1 {\n",
       "  /* Definition of color scheme common for light and dark mode */\n",
       "  --sklearn-color-text: black;\n",
       "  --sklearn-color-line: gray;\n",
       "  /* Definition of color scheme for unfitted estimators */\n",
       "  --sklearn-color-unfitted-level-0: #fff5e6;\n",
       "  --sklearn-color-unfitted-level-1: #f6e4d2;\n",
       "  --sklearn-color-unfitted-level-2: #ffe0b3;\n",
       "  --sklearn-color-unfitted-level-3: chocolate;\n",
       "  /* Definition of color scheme for fitted estimators */\n",
       "  --sklearn-color-fitted-level-0: #f0f8ff;\n",
       "  --sklearn-color-fitted-level-1: #d4ebff;\n",
       "  --sklearn-color-fitted-level-2: #b3dbfd;\n",
       "  --sklearn-color-fitted-level-3: cornflowerblue;\n",
       "\n",
       "  /* Specific color for light theme */\n",
       "  --sklearn-color-text-on-default-background: var(--sg-text-color, var(--theme-code-foreground, var(--jp-content-font-color1, black)));\n",
       "  --sklearn-color-background: var(--sg-background-color, var(--theme-background, var(--jp-layout-color0, white)));\n",
       "  --sklearn-color-border-box: var(--sg-text-color, var(--theme-code-foreground, var(--jp-content-font-color1, black)));\n",
       "  --sklearn-color-icon: #696969;\n",
       "\n",
       "  @media (prefers-color-scheme: dark) {\n",
       "    /* Redefinition of color scheme for dark theme */\n",
       "    --sklearn-color-text-on-default-background: var(--sg-text-color, var(--theme-code-foreground, var(--jp-content-font-color1, white)));\n",
       "    --sklearn-color-background: var(--sg-background-color, var(--theme-background, var(--jp-layout-color0, #111)));\n",
       "    --sklearn-color-border-box: var(--sg-text-color, var(--theme-code-foreground, var(--jp-content-font-color1, white)));\n",
       "    --sklearn-color-icon: #878787;\n",
       "  }\n",
       "}\n",
       "\n",
       "#sk-container-id-1 {\n",
       "  color: var(--sklearn-color-text);\n",
       "}\n",
       "\n",
       "#sk-container-id-1 pre {\n",
       "  padding: 0;\n",
       "}\n",
       "\n",
       "#sk-container-id-1 input.sk-hidden--visually {\n",
       "  border: 0;\n",
       "  clip: rect(1px 1px 1px 1px);\n",
       "  clip: rect(1px, 1px, 1px, 1px);\n",
       "  height: 1px;\n",
       "  margin: -1px;\n",
       "  overflow: hidden;\n",
       "  padding: 0;\n",
       "  position: absolute;\n",
       "  width: 1px;\n",
       "}\n",
       "\n",
       "#sk-container-id-1 div.sk-dashed-wrapped {\n",
       "  border: 1px dashed var(--sklearn-color-line);\n",
       "  margin: 0 0.4em 0.5em 0.4em;\n",
       "  box-sizing: border-box;\n",
       "  padding-bottom: 0.4em;\n",
       "  background-color: var(--sklearn-color-background);\n",
       "}\n",
       "\n",
       "#sk-container-id-1 div.sk-container {\n",
       "  /* jupyter's `normalize.less` sets `[hidden] { display: none; }`\n",
       "     but bootstrap.min.css set `[hidden] { display: none !important; }`\n",
       "     so we also need the `!important` here to be able to override the\n",
       "     default hidden behavior on the sphinx rendered scikit-learn.org.\n",
       "     See: https://github.com/scikit-learn/scikit-learn/issues/21755 */\n",
       "  display: inline-block !important;\n",
       "  position: relative;\n",
       "}\n",
       "\n",
       "#sk-container-id-1 div.sk-text-repr-fallback {\n",
       "  display: none;\n",
       "}\n",
       "\n",
       "div.sk-parallel-item,\n",
       "div.sk-serial,\n",
       "div.sk-item {\n",
       "  /* draw centered vertical line to link estimators */\n",
       "  background-image: linear-gradient(var(--sklearn-color-text-on-default-background), var(--sklearn-color-text-on-default-background));\n",
       "  background-size: 2px 100%;\n",
       "  background-repeat: no-repeat;\n",
       "  background-position: center center;\n",
       "}\n",
       "\n",
       "/* Parallel-specific style estimator block */\n",
       "\n",
       "#sk-container-id-1 div.sk-parallel-item::after {\n",
       "  content: \"\";\n",
       "  width: 100%;\n",
       "  border-bottom: 2px solid var(--sklearn-color-text-on-default-background);\n",
       "  flex-grow: 1;\n",
       "}\n",
       "\n",
       "#sk-container-id-1 div.sk-parallel {\n",
       "  display: flex;\n",
       "  align-items: stretch;\n",
       "  justify-content: center;\n",
       "  background-color: var(--sklearn-color-background);\n",
       "  position: relative;\n",
       "}\n",
       "\n",
       "#sk-container-id-1 div.sk-parallel-item {\n",
       "  display: flex;\n",
       "  flex-direction: column;\n",
       "}\n",
       "\n",
       "#sk-container-id-1 div.sk-parallel-item:first-child::after {\n",
       "  align-self: flex-end;\n",
       "  width: 50%;\n",
       "}\n",
       "\n",
       "#sk-container-id-1 div.sk-parallel-item:last-child::after {\n",
       "  align-self: flex-start;\n",
       "  width: 50%;\n",
       "}\n",
       "\n",
       "#sk-container-id-1 div.sk-parallel-item:only-child::after {\n",
       "  width: 0;\n",
       "}\n",
       "\n",
       "/* Serial-specific style estimator block */\n",
       "\n",
       "#sk-container-id-1 div.sk-serial {\n",
       "  display: flex;\n",
       "  flex-direction: column;\n",
       "  align-items: center;\n",
       "  background-color: var(--sklearn-color-background);\n",
       "  padding-right: 1em;\n",
       "  padding-left: 1em;\n",
       "}\n",
       "\n",
       "\n",
       "/* Toggleable style: style used for estimator/Pipeline/ColumnTransformer box that is\n",
       "clickable and can be expanded/collapsed.\n",
       "- Pipeline and ColumnTransformer use this feature and define the default style\n",
       "- Estimators will overwrite some part of the style using the `sk-estimator` class\n",
       "*/\n",
       "\n",
       "/* Pipeline and ColumnTransformer style (default) */\n",
       "\n",
       "#sk-container-id-1 div.sk-toggleable {\n",
       "  /* Default theme specific background. It is overwritten whether we have a\n",
       "  specific estimator or a Pipeline/ColumnTransformer */\n",
       "  background-color: var(--sklearn-color-background);\n",
       "}\n",
       "\n",
       "/* Toggleable label */\n",
       "#sk-container-id-1 label.sk-toggleable__label {\n",
       "  cursor: pointer;\n",
       "  display: block;\n",
       "  width: 100%;\n",
       "  margin-bottom: 0;\n",
       "  padding: 0.5em;\n",
       "  box-sizing: border-box;\n",
       "  text-align: center;\n",
       "}\n",
       "\n",
       "#sk-container-id-1 label.sk-toggleable__label-arrow:before {\n",
       "  /* Arrow on the left of the label */\n",
       "  content: \"▸\";\n",
       "  float: left;\n",
       "  margin-right: 0.25em;\n",
       "  color: var(--sklearn-color-icon);\n",
       "}\n",
       "\n",
       "#sk-container-id-1 label.sk-toggleable__label-arrow:hover:before {\n",
       "  color: var(--sklearn-color-text);\n",
       "}\n",
       "\n",
       "/* Toggleable content - dropdown */\n",
       "\n",
       "#sk-container-id-1 div.sk-toggleable__content {\n",
       "  max-height: 0;\n",
       "  max-width: 0;\n",
       "  overflow: hidden;\n",
       "  text-align: left;\n",
       "  /* unfitted */\n",
       "  background-color: var(--sklearn-color-unfitted-level-0);\n",
       "}\n",
       "\n",
       "#sk-container-id-1 div.sk-toggleable__content.fitted {\n",
       "  /* fitted */\n",
       "  background-color: var(--sklearn-color-fitted-level-0);\n",
       "}\n",
       "\n",
       "#sk-container-id-1 div.sk-toggleable__content pre {\n",
       "  margin: 0.2em;\n",
       "  border-radius: 0.25em;\n",
       "  color: var(--sklearn-color-text);\n",
       "  /* unfitted */\n",
       "  background-color: var(--sklearn-color-unfitted-level-0);\n",
       "}\n",
       "\n",
       "#sk-container-id-1 div.sk-toggleable__content.fitted pre {\n",
       "  /* unfitted */\n",
       "  background-color: var(--sklearn-color-fitted-level-0);\n",
       "}\n",
       "\n",
       "#sk-container-id-1 input.sk-toggleable__control:checked~div.sk-toggleable__content {\n",
       "  /* Expand drop-down */\n",
       "  max-height: 200px;\n",
       "  max-width: 100%;\n",
       "  overflow: auto;\n",
       "}\n",
       "\n",
       "#sk-container-id-1 input.sk-toggleable__control:checked~label.sk-toggleable__label-arrow:before {\n",
       "  content: \"▾\";\n",
       "}\n",
       "\n",
       "/* Pipeline/ColumnTransformer-specific style */\n",
       "\n",
       "#sk-container-id-1 div.sk-label input.sk-toggleable__control:checked~label.sk-toggleable__label {\n",
       "  color: var(--sklearn-color-text);\n",
       "  background-color: var(--sklearn-color-unfitted-level-2);\n",
       "}\n",
       "\n",
       "#sk-container-id-1 div.sk-label.fitted input.sk-toggleable__control:checked~label.sk-toggleable__label {\n",
       "  background-color: var(--sklearn-color-fitted-level-2);\n",
       "}\n",
       "\n",
       "/* Estimator-specific style */\n",
       "\n",
       "/* Colorize estimator box */\n",
       "#sk-container-id-1 div.sk-estimator input.sk-toggleable__control:checked~label.sk-toggleable__label {\n",
       "  /* unfitted */\n",
       "  background-color: var(--sklearn-color-unfitted-level-2);\n",
       "}\n",
       "\n",
       "#sk-container-id-1 div.sk-estimator.fitted input.sk-toggleable__control:checked~label.sk-toggleable__label {\n",
       "  /* fitted */\n",
       "  background-color: var(--sklearn-color-fitted-level-2);\n",
       "}\n",
       "\n",
       "#sk-container-id-1 div.sk-label label.sk-toggleable__label,\n",
       "#sk-container-id-1 div.sk-label label {\n",
       "  /* The background is the default theme color */\n",
       "  color: var(--sklearn-color-text-on-default-background);\n",
       "}\n",
       "\n",
       "/* On hover, darken the color of the background */\n",
       "#sk-container-id-1 div.sk-label:hover label.sk-toggleable__label {\n",
       "  color: var(--sklearn-color-text);\n",
       "  background-color: var(--sklearn-color-unfitted-level-2);\n",
       "}\n",
       "\n",
       "/* Label box, darken color on hover, fitted */\n",
       "#sk-container-id-1 div.sk-label.fitted:hover label.sk-toggleable__label.fitted {\n",
       "  color: var(--sklearn-color-text);\n",
       "  background-color: var(--sklearn-color-fitted-level-2);\n",
       "}\n",
       "\n",
       "/* Estimator label */\n",
       "\n",
       "#sk-container-id-1 div.sk-label label {\n",
       "  font-family: monospace;\n",
       "  font-weight: bold;\n",
       "  display: inline-block;\n",
       "  line-height: 1.2em;\n",
       "}\n",
       "\n",
       "#sk-container-id-1 div.sk-label-container {\n",
       "  text-align: center;\n",
       "}\n",
       "\n",
       "/* Estimator-specific */\n",
       "#sk-container-id-1 div.sk-estimator {\n",
       "  font-family: monospace;\n",
       "  border: 1px dotted var(--sklearn-color-border-box);\n",
       "  border-radius: 0.25em;\n",
       "  box-sizing: border-box;\n",
       "  margin-bottom: 0.5em;\n",
       "  /* unfitted */\n",
       "  background-color: var(--sklearn-color-unfitted-level-0);\n",
       "}\n",
       "\n",
       "#sk-container-id-1 div.sk-estimator.fitted {\n",
       "  /* fitted */\n",
       "  background-color: var(--sklearn-color-fitted-level-0);\n",
       "}\n",
       "\n",
       "/* on hover */\n",
       "#sk-container-id-1 div.sk-estimator:hover {\n",
       "  /* unfitted */\n",
       "  background-color: var(--sklearn-color-unfitted-level-2);\n",
       "}\n",
       "\n",
       "#sk-container-id-1 div.sk-estimator.fitted:hover {\n",
       "  /* fitted */\n",
       "  background-color: var(--sklearn-color-fitted-level-2);\n",
       "}\n",
       "\n",
       "/* Specification for estimator info (e.g. \"i\" and \"?\") */\n",
       "\n",
       "/* Common style for \"i\" and \"?\" */\n",
       "\n",
       ".sk-estimator-doc-link,\n",
       "a:link.sk-estimator-doc-link,\n",
       "a:visited.sk-estimator-doc-link {\n",
       "  float: right;\n",
       "  font-size: smaller;\n",
       "  line-height: 1em;\n",
       "  font-family: monospace;\n",
       "  background-color: var(--sklearn-color-background);\n",
       "  border-radius: 1em;\n",
       "  height: 1em;\n",
       "  width: 1em;\n",
       "  text-decoration: none !important;\n",
       "  margin-left: 1ex;\n",
       "  /* unfitted */\n",
       "  border: var(--sklearn-color-unfitted-level-1) 1pt solid;\n",
       "  color: var(--sklearn-color-unfitted-level-1);\n",
       "}\n",
       "\n",
       ".sk-estimator-doc-link.fitted,\n",
       "a:link.sk-estimator-doc-link.fitted,\n",
       "a:visited.sk-estimator-doc-link.fitted {\n",
       "  /* fitted */\n",
       "  border: var(--sklearn-color-fitted-level-1) 1pt solid;\n",
       "  color: var(--sklearn-color-fitted-level-1);\n",
       "}\n",
       "\n",
       "/* On hover */\n",
       "div.sk-estimator:hover .sk-estimator-doc-link:hover,\n",
       ".sk-estimator-doc-link:hover,\n",
       "div.sk-label-container:hover .sk-estimator-doc-link:hover,\n",
       ".sk-estimator-doc-link:hover {\n",
       "  /* unfitted */\n",
       "  background-color: var(--sklearn-color-unfitted-level-3);\n",
       "  color: var(--sklearn-color-background);\n",
       "  text-decoration: none;\n",
       "}\n",
       "\n",
       "div.sk-estimator.fitted:hover .sk-estimator-doc-link.fitted:hover,\n",
       ".sk-estimator-doc-link.fitted:hover,\n",
       "div.sk-label-container:hover .sk-estimator-doc-link.fitted:hover,\n",
       ".sk-estimator-doc-link.fitted:hover {\n",
       "  /* fitted */\n",
       "  background-color: var(--sklearn-color-fitted-level-3);\n",
       "  color: var(--sklearn-color-background);\n",
       "  text-decoration: none;\n",
       "}\n",
       "\n",
       "/* Span, style for the box shown on hovering the info icon */\n",
       ".sk-estimator-doc-link span {\n",
       "  display: none;\n",
       "  z-index: 9999;\n",
       "  position: relative;\n",
       "  font-weight: normal;\n",
       "  right: .2ex;\n",
       "  padding: .5ex;\n",
       "  margin: .5ex;\n",
       "  width: min-content;\n",
       "  min-width: 20ex;\n",
       "  max-width: 50ex;\n",
       "  color: var(--sklearn-color-text);\n",
       "  box-shadow: 2pt 2pt 4pt #999;\n",
       "  /* unfitted */\n",
       "  background: var(--sklearn-color-unfitted-level-0);\n",
       "  border: .5pt solid var(--sklearn-color-unfitted-level-3);\n",
       "}\n",
       "\n",
       ".sk-estimator-doc-link.fitted span {\n",
       "  /* fitted */\n",
       "  background: var(--sklearn-color-fitted-level-0);\n",
       "  border: var(--sklearn-color-fitted-level-3);\n",
       "}\n",
       "\n",
       ".sk-estimator-doc-link:hover span {\n",
       "  display: block;\n",
       "}\n",
       "\n",
       "/* \"?\"-specific style due to the `<a>` HTML tag */\n",
       "\n",
       "#sk-container-id-1 a.estimator_doc_link {\n",
       "  float: right;\n",
       "  font-size: 1rem;\n",
       "  line-height: 1em;\n",
       "  font-family: monospace;\n",
       "  background-color: var(--sklearn-color-background);\n",
       "  border-radius: 1rem;\n",
       "  height: 1rem;\n",
       "  width: 1rem;\n",
       "  text-decoration: none;\n",
       "  /* unfitted */\n",
       "  color: var(--sklearn-color-unfitted-level-1);\n",
       "  border: var(--sklearn-color-unfitted-level-1) 1pt solid;\n",
       "}\n",
       "\n",
       "#sk-container-id-1 a.estimator_doc_link.fitted {\n",
       "  /* fitted */\n",
       "  border: var(--sklearn-color-fitted-level-1) 1pt solid;\n",
       "  color: var(--sklearn-color-fitted-level-1);\n",
       "}\n",
       "\n",
       "/* On hover */\n",
       "#sk-container-id-1 a.estimator_doc_link:hover {\n",
       "  /* unfitted */\n",
       "  background-color: var(--sklearn-color-unfitted-level-3);\n",
       "  color: var(--sklearn-color-background);\n",
       "  text-decoration: none;\n",
       "}\n",
       "\n",
       "#sk-container-id-1 a.estimator_doc_link.fitted:hover {\n",
       "  /* fitted */\n",
       "  background-color: var(--sklearn-color-fitted-level-3);\n",
       "}\n",
       "</style><div id=\"sk-container-id-1\" class=\"sk-top-container\"><div class=\"sk-text-repr-fallback\"><pre>KNeighborsClassifier()</pre><b>In a Jupyter environment, please rerun this cell to show the HTML representation or trust the notebook. <br />On GitHub, the HTML representation is unable to render, please try loading this page with nbviewer.org.</b></div><div class=\"sk-container\" hidden><div class=\"sk-item\"><div class=\"sk-estimator fitted sk-toggleable\"><input class=\"sk-toggleable__control sk-hidden--visually\" id=\"sk-estimator-id-1\" type=\"checkbox\" checked><label for=\"sk-estimator-id-1\" class=\"sk-toggleable__label fitted sk-toggleable__label-arrow fitted\">&nbsp;&nbsp;KNeighborsClassifier<a class=\"sk-estimator-doc-link fitted\" rel=\"noreferrer\" target=\"_blank\" href=\"https://scikit-learn.org/1.5/modules/generated/sklearn.neighbors.KNeighborsClassifier.html\">?<span>Documentation for KNeighborsClassifier</span></a><span class=\"sk-estimator-doc-link fitted\">i<span>Fitted</span></span></label><div class=\"sk-toggleable__content fitted\"><pre>KNeighborsClassifier()</pre></div> </div></div></div></div>"
      ],
      "text/plain": [
       "KNeighborsClassifier()"
      ]
     },
     "execution_count": 4,
     "metadata": {},
     "output_type": "execute_result"
    }
   ],
   "source": [
    "knn = KNeighborsClassifier(n_neighbors=5)\n",
    "knn.fit(X, y)"
   ]
  },
  {
   "cell_type": "code",
   "execution_count": 5,
   "id": "b727d7b3",
   "metadata": {
    "colab": {
     "base_uri": "https://localhost:8080/"
    },
    "id": "b727d7b3",
    "outputId": "f57701f0-5079-46a8-fa0f-328f80bd9e63"
   },
   "outputs": [
    {
     "data": {
      "text/plain": [
       "array([0, 0, 0, 1, 0, 0, 0, 0, 0, 0, 0, 0, 0, 1, 1, 0, 0, 0, 0, 1, 1, 1,\n",
       "       0, 0, 0, 0, 1, 0, 0, 0])"
      ]
     },
     "execution_count": 5,
     "metadata": {},
     "output_type": "execute_result"
    }
   ],
   "source": [
    "knn.predict(X)[:30]"
   ]
  },
  {
   "cell_type": "code",
   "execution_count": 6,
   "id": "33ef2af3",
   "metadata": {
    "colab": {
     "base_uri": "https://localhost:8080/"
    },
    "id": "33ef2af3",
    "outputId": "c47be27a-369f-47b0-c784-a3e0b0ede71b"
   },
   "outputs": [
    {
     "data": {
      "text/plain": [
       "array([0, 0, 0, 0, 0, 0, 0, 0, 0, 0, 0, 0, 0, 0, 0, 0, 0, 0, 0, 1, 1, 1,\n",
       "       0, 0, 0, 0, 0, 0, 0, 0])"
      ]
     },
     "execution_count": 6,
     "metadata": {},
     "output_type": "execute_result"
    }
   ],
   "source": [
    "y[:30]"
   ]
  },
  {
   "cell_type": "markdown",
   "id": "d24a45dc",
   "metadata": {
    "id": "d24a45dc"
   },
   "source": [
    "Последние два вектора похожи, но хочется это как-то **измерить количественно**. Каким образом можно это сделать?"
   ]
  },
  {
   "cell_type": "markdown",
   "id": "00cefbac",
   "metadata": {
    "id": "00cefbac"
   },
   "source": [
    "Для этого существует множество различных метрик качества. Мы вернемся к этому позднее."
   ]
  },
  {
   "cell_type": "code",
   "execution_count": null,
   "id": "3eEZE_61auMT",
   "metadata": {
    "colab": {
     "base_uri": "https://localhost:8080/"
    },
    "id": "3eEZE_61auMT",
    "outputId": "29498600-4a08-4572-aa10-93d4890071e2"
   },
   "outputs": [
    {
     "data": {
      "text/plain": [
       "0.8666666666666667"
      ]
     },
     "execution_count": 8,
     "metadata": {},
     "output_type": "execute_result"
    }
   ],
   "source": [
    "# (knn.predict(X)[:30] == y[:30]).mean()"
   ]
  },
  {
   "cell_type": "code",
   "execution_count": null,
   "id": "nG76Y05T-Noh",
   "metadata": {
    "colab": {
     "base_uri": "https://localhost:8080/"
    },
    "id": "nG76Y05T-Noh",
    "outputId": "70801bd7-71c0-46ed-84e1-63a3ed648c3b"
   },
   "outputs": [
    {
     "data": {
      "text/plain": [
       "0.9472759226713533"
      ]
     },
     "execution_count": 9,
     "metadata": {},
     "output_type": "execute_result"
    }
   ],
   "source": [
    "# (knn.predict(X) == y).mean()"
   ]
  },
  {
   "cell_type": "markdown",
   "id": "KEtHZ_4uxV3e",
   "metadata": {
    "id": "KEtHZ_4uxV3e"
   },
   "source": [
    "### Как k-NN делает предсказание?"
   ]
  },
  {
   "cell_type": "markdown",
   "id": "4kT7h5cextYA",
   "metadata": {
    "id": "4kT7h5cextYA"
   },
   "source": [
    "Воспользуемся удобными средствами, предоставляемыми sklearn, и попробуем визуализировать, как будет выглядеть принцип принятия решения классификатором k-NN на для случая двух признаков."
   ]
  },
  {
   "cell_type": "code",
   "execution_count": 7,
   "id": "hgGMrYB_xVa9",
   "metadata": {
    "colab": {
     "base_uri": "https://localhost:8080/",
     "height": 681
    },
    "id": "hgGMrYB_xVa9",
    "outputId": "84553daf-78c0-4ba4-802e-f37b5e80759d"
   },
   "outputs": [
    {
     "data": {
      "image/png": "[encoded data removed]",
      "text/plain": [
       "<Figure size 800x800 with 1 Axes>"
      ]
     },
     "metadata": {},
     "output_type": "display_data"
    }
   ],
   "source": [
    "from matplotlib.colors import ListedColormap\n",
    "from sklearn.neighbors import KNeighborsClassifier\n",
    "from sklearn.datasets import make_moons\n",
    "\n",
    "n_samples = 300\n",
    "f, ax = plt.subplots(1, 1, figsize=(8, 8))\n",
    "\n",
    "points1, labels1 = make_moons(noise=0.2, random_state=371, n_samples=n_samples)\n",
    "sns.scatterplot(x=points1[:, 0], y=points1[:, 1], hue=labels1, ax=ax);"
   ]
  },
  {
   "cell_type": "code",
   "execution_count": 8,
   "id": "mV_va2690s5S",
   "metadata": {
    "colab": {
     "base_uri": "https://localhost:8080/",
     "height": 80
    },
    "id": "mV_va2690s5S",
    "outputId": "70ba879a-ddb1-49ee-edf0-5a748bfaa3a2"
   },
   "outputs": [
    {
     "data": {
      "text/html": [
       "<style>#sk-container-id-2 {\n",
       "  /* Definition of color scheme common for light and dark mode */\n",
       "  --sklearn-color-text: black;\n",
       "  --sklearn-color-line: gray;\n",
       "  /* Definition of color scheme for unfitted estimators */\n",
       "  --sklearn-color-unfitted-level-0: #fff5e6;\n",
       "  --sklearn-color-unfitted-level-1: #f6e4d2;\n",
       "  --sklearn-color-unfitted-level-2: #ffe0b3;\n",
       "  --sklearn-color-unfitted-level-3: chocolate;\n",
       "  /* Definition of color scheme for fitted estimators */\n",
       "  --sklearn-color-fitted-level-0: #f0f8ff;\n",
       "  --sklearn-color-fitted-level-1: #d4ebff;\n",
       "  --sklearn-color-fitted-level-2: #b3dbfd;\n",
       "  --sklearn-color-fitted-level-3: cornflowerblue;\n",
       "\n",
       "  /* Specific color for light theme */\n",
       "  --sklearn-color-text-on-default-background: var(--sg-text-color, var(--theme-code-foreground, var(--jp-content-font-color1, black)));\n",
       "  --sklearn-color-background: var(--sg-background-color, var(--theme-background, var(--jp-layout-color0, white)));\n",
       "  --sklearn-color-border-box: var(--sg-text-color, var(--theme-code-foreground, var(--jp-content-font-color1, black)));\n",
       "  --sklearn-color-icon: #696969;\n",
       "\n",
       "  @media (prefers-color-scheme: dark) {\n",
       "    /* Redefinition of color scheme for dark theme */\n",
       "    --sklearn-color-text-on-default-background: var(--sg-text-color, var(--theme-code-foreground, var(--jp-content-font-color1, white)));\n",
       "    --sklearn-color-background: var(--sg-background-color, var(--theme-background, var(--jp-layout-color0, #111)));\n",
       "    --sklearn-color-border-box: var(--sg-text-color, var(--theme-code-foreground, var(--jp-content-font-color1, white)));\n",
       "    --sklearn-color-icon: #878787;\n",
       "  }\n",
       "}\n",
       "\n",
       "#sk-container-id-2 {\n",
       "  color: var(--sklearn-color-text);\n",
       "}\n",
       "\n",
       "#sk-container-id-2 pre {\n",
       "  padding: 0;\n",
       "}\n",
       "\n",
       "#sk-container-id-2 input.sk-hidden--visually {\n",
       "  border: 0;\n",
       "  clip: rect(1px 1px 1px 1px);\n",
       "  clip: rect(1px, 1px, 1px, 1px);\n",
       "  height: 1px;\n",
       "  margin: -1px;\n",
       "  overflow: hidden;\n",
       "  padding: 0;\n",
       "  position: absolute;\n",
       "  width: 1px;\n",
       "}\n",
       "\n",
       "#sk-container-id-2 div.sk-dashed-wrapped {\n",
       "  border: 1px dashed var(--sklearn-color-line);\n",
       "  margin: 0 0.4em 0.5em 0.4em;\n",
       "  box-sizing: border-box;\n",
       "  padding-bottom: 0.4em;\n",
       "  background-color: var(--sklearn-color-background);\n",
       "}\n",
       "\n",
       "#sk-container-id-2 div.sk-container {\n",
       "  /* jupyter's `normalize.less` sets `[hidden] { display: none; }`\n",
       "     but bootstrap.min.css set `[hidden] { display: none !important; }`\n",
       "     so we also need the `!important` here to be able to override the\n",
       "     default hidden behavior on the sphinx rendered scikit-learn.org.\n",
       "     See: https://github.com/scikit-learn/scikit-learn/issues/21755 */\n",
       "  display: inline-block !important;\n",
       "  position: relative;\n",
       "}\n",
       "\n",
       "#sk-container-id-2 div.sk-text-repr-fallback {\n",
       "  display: none;\n",
       "}\n",
       "\n",
       "div.sk-parallel-item,\n",
       "div.sk-serial,\n",
       "div.sk-item {\n",
       "  /* draw centered vertical line to link estimators */\n",
       "  background-image: linear-gradient(var(--sklearn-color-text-on-default-background), var(--sklearn-color-text-on-default-background));\n",
       "  background-size: 2px 100%;\n",
       "  background-repeat: no-repeat;\n",
       "  background-position: center center;\n",
       "}\n",
       "\n",
       "/* Parallel-specific style estimator block */\n",
       "\n",
       "#sk-container-id-2 div.sk-parallel-item::after {\n",
       "  content: \"\";\n",
       "  width: 100%;\n",
       "  border-bottom: 2px solid var(--sklearn-color-text-on-default-background);\n",
       "  flex-grow: 1;\n",
       "}\n",
       "\n",
       "#sk-container-id-2 div.sk-parallel {\n",
       "  display: flex;\n",
       "  align-items: stretch;\n",
       "  justify-content: center;\n",
       "  background-color: var(--sklearn-color-background);\n",
       "  position: relative;\n",
       "}\n",
       "\n",
       "#sk-container-id-2 div.sk-parallel-item {\n",
       "  display: flex;\n",
       "  flex-direction: column;\n",
       "}\n",
       "\n",
       "#sk-container-id-2 div.sk-parallel-item:first-child::after {\n",
       "  align-self: flex-end;\n",
       "  width: 50%;\n",
       "}\n",
       "\n",
       "#sk-container-id-2 div.sk-parallel-item:last-child::after {\n",
       "  align-self: flex-start;\n",
       "  width: 50%;\n",
       "}\n",
       "\n",
       "#sk-container-id-2 div.sk-parallel-item:only-child::after {\n",
       "  width: 0;\n",
       "}\n",
       "\n",
       "/* Serial-specific style estimator block */\n",
       "\n",
       "#sk-container-id-2 div.sk-serial {\n",
       "  display: flex;\n",
       "  flex-direction: column;\n",
       "  align-items: center;\n",
       "  background-color: var(--sklearn-color-background);\n",
       "  padding-right: 1em;\n",
       "  padding-left: 1em;\n",
       "}\n",
       "\n",
       "\n",
       "/* Toggleable style: style used for estimator/Pipeline/ColumnTransformer box that is\n",
       "clickable and can be expanded/collapsed.\n",
       "- Pipeline and ColumnTransformer use this feature and define the default style\n",
       "- Estimators will overwrite some part of the style using the `sk-estimator` class\n",
       "*/\n",
       "\n",
       "/* Pipeline and ColumnTransformer style (default) */\n",
       "\n",
       "#sk-container-id-2 div.sk-toggleable {\n",
       "  /* Default theme specific background. It is overwritten whether we have a\n",
       "  specific estimator or a Pipeline/ColumnTransformer */\n",
       "  background-color: var(--sklearn-color-background);\n",
       "}\n",
       "\n",
       "/* Toggleable label */\n",
       "#sk-container-id-2 label.sk-toggleable__label {\n",
       "  cursor: pointer;\n",
       "  display: block;\n",
       "  width: 100%;\n",
       "  margin-bottom: 0;\n",
       "  padding: 0.5em;\n",
       "  box-sizing: border-box;\n",
       "  text-align: center;\n",
       "}\n",
       "\n",
       "#sk-container-id-2 label.sk-toggleable__label-arrow:before {\n",
       "  /* Arrow on the left of the label */\n",
       "  content: \"▸\";\n",
       "  float: left;\n",
       "  margin-right: 0.25em;\n",
       "  color: var(--sklearn-color-icon);\n",
       "}\n",
       "\n",
       "#sk-container-id-2 label.sk-toggleable__label-arrow:hover:before {\n",
       "  color: var(--sklearn-color-text);\n",
       "}\n",
       "\n",
       "/* Toggleable content - dropdown */\n",
       "\n",
       "#sk-container-id-2 div.sk-toggleable__content {\n",
       "  max-height: 0;\n",
       "  max-width: 0;\n",
       "  overflow: hidden;\n",
       "  text-align: left;\n",
       "  /* unfitted */\n",
       "  background-color: var(--sklearn-color-unfitted-level-0);\n",
       "}\n",
       "\n",
       "#sk-container-id-2 div.sk-toggleable__content.fitted {\n",
       "  /* fitted */\n",
       "  background-color: var(--sklearn-color-fitted-level-0);\n",
       "}\n",
       "\n",
       "#sk-container-id-2 div.sk-toggleable__content pre {\n",
       "  margin: 0.2em;\n",
       "  border-radius: 0.25em;\n",
       "  color: var(--sklearn-color-text);\n",
       "  /* unfitted */\n",
       "  background-color: var(--sklearn-color-unfitted-level-0);\n",
       "}\n",
       "\n",
       "#sk-container-id-2 div.sk-toggleable__content.fitted pre {\n",
       "  /* unfitted */\n",
       "  background-color: var(--sklearn-color-fitted-level-0);\n",
       "}\n",
       "\n",
       "#sk-container-id-2 input.sk-toggleable__control:checked~div.sk-toggleable__content {\n",
       "  /* Expand drop-down */\n",
       "  max-height: 200px;\n",
       "  max-width: 100%;\n",
       "  overflow: auto;\n",
       "}\n",
       "\n",
       "#sk-container-id-2 input.sk-toggleable__control:checked~label.sk-toggleable__label-arrow:before {\n",
       "  content: \"▾\";\n",
       "}\n",
       "\n",
       "/* Pipeline/ColumnTransformer-specific style */\n",
       "\n",
       "#sk-container-id-2 div.sk-label input.sk-toggleable__control:checked~label.sk-toggleable__label {\n",
       "  color: var(--sklearn-color-text);\n",
       "  background-color: var(--sklearn-color-unfitted-level-2);\n",
       "}\n",
       "\n",
       "#sk-container-id-2 div.sk-label.fitted input.sk-toggleable__control:checked~label.sk-toggleable__label {\n",
       "  background-color: var(--sklearn-color-fitted-level-2);\n",
       "}\n",
       "\n",
       "/* Estimator-specific style */\n",
       "\n",
       "/* Colorize estimator box */\n",
       "#sk-container-id-2 div.sk-estimator input.sk-toggleable__control:checked~label.sk-toggleable__label {\n",
       "  /* unfitted */\n",
       "  background-color: var(--sklearn-color-unfitted-level-2);\n",
       "}\n",
       "\n",
       "#sk-container-id-2 div.sk-estimator.fitted input.sk-toggleable__control:checked~label.sk-toggleable__label {\n",
       "  /* fitted */\n",
       "  background-color: var(--sklearn-color-fitted-level-2);\n",
       "}\n",
       "\n",
       "#sk-container-id-2 div.sk-label label.sk-toggleable__label,\n",
       "#sk-container-id-2 div.sk-label label {\n",
       "  /* The background is the default theme color */\n",
       "  color: var(--sklearn-color-text-on-default-background);\n",
       "}\n",
       "\n",
       "/* On hover, darken the color of the background */\n",
       "#sk-container-id-2 div.sk-label:hover label.sk-toggleable__label {\n",
       "  color: var(--sklearn-color-text);\n",
       "  background-color: var(--sklearn-color-unfitted-level-2);\n",
       "}\n",
       "\n",
       "/* Label box, darken color on hover, fitted */\n",
       "#sk-container-id-2 div.sk-label.fitted:hover label.sk-toggleable__label.fitted {\n",
       "  color: var(--sklearn-color-text);\n",
       "  background-color: var(--sklearn-color-fitted-level-2);\n",
       "}\n",
       "\n",
       "/* Estimator label */\n",
       "\n",
       "#sk-container-id-2 div.sk-label label {\n",
       "  font-family: monospace;\n",
       "  font-weight: bold;\n",
       "  display: inline-block;\n",
       "  line-height: 1.2em;\n",
       "}\n",
       "\n",
       "#sk-container-id-2 div.sk-label-container {\n",
       "  text-align: center;\n",
       "}\n",
       "\n",
       "/* Estimator-specific */\n",
       "#sk-container-id-2 div.sk-estimator {\n",
       "  font-family: monospace;\n",
       "  border: 1px dotted var(--sklearn-color-border-box);\n",
       "  border-radius: 0.25em;\n",
       "  box-sizing: border-box;\n",
       "  margin-bottom: 0.5em;\n",
       "  /* unfitted */\n",
       "  background-color: var(--sklearn-color-unfitted-level-0);\n",
       "}\n",
       "\n",
       "#sk-container-id-2 div.sk-estimator.fitted {\n",
       "  /* fitted */\n",
       "  background-color: var(--sklearn-color-fitted-level-0);\n",
       "}\n",
       "\n",
       "/* on hover */\n",
       "#sk-container-id-2 div.sk-estimator:hover {\n",
       "  /* unfitted */\n",
       "  background-color: var(--sklearn-color-unfitted-level-2);\n",
       "}\n",
       "\n",
       "#sk-container-id-2 div.sk-estimator.fitted:hover {\n",
       "  /* fitted */\n",
       "  background-color: var(--sklearn-color-fitted-level-2);\n",
       "}\n",
       "\n",
       "/* Specification for estimator info (e.g. \"i\" and \"?\") */\n",
       "\n",
       "/* Common style for \"i\" and \"?\" */\n",
       "\n",
       ".sk-estimator-doc-link,\n",
       "a:link.sk-estimator-doc-link,\n",
       "a:visited.sk-estimator-doc-link {\n",
       "  float: right;\n",
       "  font-size: smaller;\n",
       "  line-height: 1em;\n",
       "  font-family: monospace;\n",
       "  background-color: var(--sklearn-color-background);\n",
       "  border-radius: 1em;\n",
       "  height: 1em;\n",
       "  width: 1em;\n",
       "  text-decoration: none !important;\n",
       "  margin-left: 1ex;\n",
       "  /* unfitted */\n",
       "  border: var(--sklearn-color-unfitted-level-1) 1pt solid;\n",
       "  color: var(--sklearn-color-unfitted-level-1);\n",
       "}\n",
       "\n",
       ".sk-estimator-doc-link.fitted,\n",
       "a:link.sk-estimator-doc-link.fitted,\n",
       "a:visited.sk-estimator-doc-link.fitted {\n",
       "  /* fitted */\n",
       "  border: var(--sklearn-color-fitted-level-1) 1pt solid;\n",
       "  color: var(--sklearn-color-fitted-level-1);\n",
       "}\n",
       "\n",
       "/* On hover */\n",
       "div.sk-estimator:hover .sk-estimator-doc-link:hover,\n",
       ".sk-estimator-doc-link:hover,\n",
       "div.sk-label-container:hover .sk-estimator-doc-link:hover,\n",
       ".sk-estimator-doc-link:hover {\n",
       "  /* unfitted */\n",
       "  background-color: var(--sklearn-color-unfitted-level-3);\n",
       "  color: var(--sklearn-color-background);\n",
       "  text-decoration: none;\n",
       "}\n",
       "\n",
       "div.sk-estimator.fitted:hover .sk-estimator-doc-link.fitted:hover,\n",
       ".sk-estimator-doc-link.fitted:hover,\n",
       "div.sk-label-container:hover .sk-estimator-doc-link.fitted:hover,\n",
       ".sk-estimator-doc-link.fitted:hover {\n",
       "  /* fitted */\n",
       "  background-color: var(--sklearn-color-fitted-level-3);\n",
       "  color: var(--sklearn-color-background);\n",
       "  text-decoration: none;\n",
       "}\n",
       "\n",
       "/* Span, style for the box shown on hovering the info icon */\n",
       ".sk-estimator-doc-link span {\n",
       "  display: none;\n",
       "  z-index: 9999;\n",
       "  position: relative;\n",
       "  font-weight: normal;\n",
       "  right: .2ex;\n",
       "  padding: .5ex;\n",
       "  margin: .5ex;\n",
       "  width: min-content;\n",
       "  min-width: 20ex;\n",
       "  max-width: 50ex;\n",
       "  color: var(--sklearn-color-text);\n",
       "  box-shadow: 2pt 2pt 4pt #999;\n",
       "  /* unfitted */\n",
       "  background: var(--sklearn-color-unfitted-level-0);\n",
       "  border: .5pt solid var(--sklearn-color-unfitted-level-3);\n",
       "}\n",
       "\n",
       ".sk-estimator-doc-link.fitted span {\n",
       "  /* fitted */\n",
       "  background: var(--sklearn-color-fitted-level-0);\n",
       "  border: var(--sklearn-color-fitted-level-3);\n",
       "}\n",
       "\n",
       ".sk-estimator-doc-link:hover span {\n",
       "  display: block;\n",
       "}\n",
       "\n",
       "/* \"?\"-specific style due to the `<a>` HTML tag */\n",
       "\n",
       "#sk-container-id-2 a.estimator_doc_link {\n",
       "  float: right;\n",
       "  font-size: 1rem;\n",
       "  line-height: 1em;\n",
       "  font-family: monospace;\n",
       "  background-color: var(--sklearn-color-background);\n",
       "  border-radius: 1rem;\n",
       "  height: 1rem;\n",
       "  width: 1rem;\n",
       "  text-decoration: none;\n",
       "  /* unfitted */\n",
       "  color: var(--sklearn-color-unfitted-level-1);\n",
       "  border: var(--sklearn-color-unfitted-level-1) 1pt solid;\n",
       "}\n",
       "\n",
       "#sk-container-id-2 a.estimator_doc_link.fitted {\n",
       "  /* fitted */\n",
       "  border: var(--sklearn-color-fitted-level-1) 1pt solid;\n",
       "  color: var(--sklearn-color-fitted-level-1);\n",
       "}\n",
       "\n",
       "/* On hover */\n",
       "#sk-container-id-2 a.estimator_doc_link:hover {\n",
       "  /* unfitted */\n",
       "  background-color: var(--sklearn-color-unfitted-level-3);\n",
       "  color: var(--sklearn-color-background);\n",
       "  text-decoration: none;\n",
       "}\n",
       "\n",
       "#sk-container-id-2 a.estimator_doc_link.fitted:hover {\n",
       "  /* fitted */\n",
       "  background-color: var(--sklearn-color-fitted-level-3);\n",
       "}\n",
       "</style><div id=\"sk-container-id-2\" class=\"sk-top-container\"><div class=\"sk-text-repr-fallback\"><pre>KNeighborsClassifier()</pre><b>In a Jupyter environment, please rerun this cell to show the HTML representation or trust the notebook. <br />On GitHub, the HTML representation is unable to render, please try loading this page with nbviewer.org.</b></div><div class=\"sk-container\" hidden><div class=\"sk-item\"><div class=\"sk-estimator fitted sk-toggleable\"><input class=\"sk-toggleable__control sk-hidden--visually\" id=\"sk-estimator-id-2\" type=\"checkbox\" checked><label for=\"sk-estimator-id-2\" class=\"sk-toggleable__label fitted sk-toggleable__label-arrow fitted\">&nbsp;&nbsp;KNeighborsClassifier<a class=\"sk-estimator-doc-link fitted\" rel=\"noreferrer\" target=\"_blank\" href=\"https://scikit-learn.org/1.5/modules/generated/sklearn.neighbors.KNeighborsClassifier.html\">?<span>Documentation for KNeighborsClassifier</span></a><span class=\"sk-estimator-doc-link fitted\">i<span>Fitted</span></span></label><div class=\"sk-toggleable__content fitted\"><pre>KNeighborsClassifier()</pre></div> </div></div></div></div>"
      ],
      "text/plain": [
       "KNeighborsClassifier()"
      ]
     },
     "execution_count": 8,
     "metadata": {},
     "output_type": "execute_result"
    }
   ],
   "source": [
    "n_nei = 5\n",
    "points, labels = points1, labels1\n",
    "\n",
    "classifier = KNeighborsClassifier(n_neighbors=n_nei)\n",
    "classifier.fit(points, labels)"
   ]
  },
  {
   "cell_type": "code",
   "execution_count": null,
   "id": "OIq311tW0tDG",
   "metadata": {
    "colab": {
     "base_uri": "https://localhost:8080/",
     "height": 681
    },
    "id": "OIq311tW0tDG",
    "outputId": "155ba73c-afc8-458f-9151-775e875bcaca"
   },
   "outputs": [
    {
     "data": {
      "image/png": "[encoded data removed]",
      "text/plain": [
       "<Figure size 800x800 with 1 Axes>"
      ]
     },
     "metadata": {},
     "output_type": "display_data"
    }
   ],
   "source": [
    "h = .02 # step size for plot grid\n",
    "\n",
    "\n",
    "cmap_light = ListedColormap(['lightgreen', 'cyan'])\n",
    "cmap_bold = ListedColormap(['darkgreen', 'c'])\n",
    "\n",
    "\n",
    "x_min, x_max = points[:, 0].min() - 1, points[:, 0].max() + 1\n",
    "y_min, y_max = points[:, 1].min() - 1, points[:, 1].max() + 1\n",
    "xx, yy = np.meshgrid(np.arange(x_min, x_max, h),\n",
    "                         np.arange(y_min, y_max, h))\n",
    "Z = classifier.predict(np.c_[xx.ravel(), yy.ravel()])\n",
    "\n",
    "Z = Z.reshape(xx.shape)\n",
    "\n",
    "f, ax = plt.subplots(1, 1, figsize=(8, 8))\n",
    "plt.pcolormesh(xx, yy, Z, cmap=cmap_light)\n",
    "\n",
    "# Plot also the training points\n",
    "plt.scatter(points[:, 0], points[:, 1], c=labels, cmap=cmap_bold,\n",
    "                edgecolor='k', s=20)\n",
    "plt.xlim(xx.min(), xx.max())\n",
    "plt.ylim(yy.min(), yy.max())\n",
    "plt.show()"
   ]
  },
  {
   "cell_type": "markdown",
   "id": "ZrPy-XM3xU9H",
   "metadata": {
    "id": "ZrPy-XM3xU9H"
   },
   "source": [
    "Любая точка, попавшая в зеленую область, будет классифицирована как \"зеленый\" класс, а в синюю - как \"синий\". Можно заметить, что некоторые из точек попали в \"чужую\" область -- никто не обещал, что классификатор будет работать идеально. Как вы думаете, от чего это зависит?"
   ]
  },
  {
   "cell_type": "markdown",
   "id": "723a0b77",
   "metadata": {
    "id": "723a0b77"
   },
   "source": [
    "### Плюсы и минусы k-NN"
   ]
  },
  {
   "cell_type": "markdown",
   "id": "7c970d1d",
   "metadata": {
    "id": "7c970d1d"
   },
   "source": [
    "**Плюсы**:\n",
    "* Простота реализации\n",
    "* Дает хорошую интуицию о поведении почти всех моделей машинного обучения\n",
    "* Можно сравнивать с другими моделями ML. Наши модели должны работать лучше k-NN, т.к. в нем мы ничего не оптимизируем."
   ]
  },
  {
   "cell_type": "markdown",
   "id": "aeaf53a7",
   "metadata": {
    "id": "aeaf53a7"
   },
   "source": [
    "**Минусы**:\n",
    "* Длительное время предсказания (особенно для больших выборок)\n",
    "* Трудность в интерпретации предсказания\n",
    "* Необходима предобработка признаков"
   ]
  },
  {
   "cell_type": "markdown",
   "id": "a32a53ab-27a4-4570-a912-e8b1a860c051",
   "metadata": {
    "id": "a32a53ab-27a4-4570-a912-e8b1a860c051"
   },
   "source": [
    "### Предобработка признаков"
   ]
  },
  {
   "cell_type": "markdown",
   "id": "1f3dd6a1",
   "metadata": {
    "id": "1f3dd6a1"
   },
   "source": [
    "**Иногда признаки не сравнимы между собой** или вообще измеряются в разных величинах. Масштаб признаков непосредственно влияет на определение расстояния между объектами.\n",
    "\n",
    "Проблема, например, если один признак измеряется в см, а другой в м (или вообще другой единице измерения).\n",
    "\n",
    "В Sklearn есть отдельный класс для стандартизации признаков в вашем датасете: <a href=\"https://scikit-learn.org/stable/modules/generated/sklearn.preprocessing.StandardScaler.html\">sklearn.preprocessing.StandardScaler</a>.\n",
    "\n",
    "Он \"запоминает\" среднее и стандартное отклонение для каждого признака в вашем датасете (метод **fit**), после чего сможет стандартизировать с их помощью любую выборку такой размерности (метод **transform**)."
   ]
  },
  {
   "cell_type": "code",
   "execution_count": 9,
   "id": "wbgR3FInq2ZU",
   "metadata": {
    "id": "wbgR3FInq2ZU"
   },
   "outputs": [],
   "source": [
    "from sklearn.preprocessing import StandardScaler, MinMaxScaler\n",
    "from sklearn.datasets import load_breast_cancer\n",
    "\n",
    "breast_cancer = load_breast_cancer(as_frame=True)\n",
    "X = breast_cancer.data\n",
    "y = breast_cancer.target\n",
    "\n",
    "selection = X[[\"mean symmetry\", \"mean area\"]].values"
   ]
  },
  {
   "cell_type": "code",
   "execution_count": 11,
   "id": "KbkxT4EdsJSd",
   "metadata": {
    "id": "KbkxT4EdsJSd"
   },
   "outputs": [],
   "source": [
    "# create scaler object\n",
    "scaler = StandardScaler()\n",
    "# fit data to scaler\n",
    "scaler.fit(selection)\n",
    "# return transformed result\n",
    "scaled_selection = scaler.transform(selection)"
   ]
  },
  {
   "cell_type": "code",
   "execution_count": 12,
   "id": "VFiJcArIsVY-",
   "metadata": {
    "colab": {
     "base_uri": "https://localhost:8080/",
     "height": 630
    },
    "id": "VFiJcArIsVY-",
    "outputId": "45fa2c22-9570-4a5e-e239-106f6a4e4158"
   },
   "outputs": [
    {
     "data": {
      "image/png": "[encoded data removed]",
      "text/plain": [
       "<Figure size 1500x1000 with 2 Axes>"
      ]
     },
     "metadata": {},
     "output_type": "display_data"
    }
   ],
   "source": [
    "fig, axes = plt.subplots(1,2, figsize=(15,10))\n",
    "\n",
    "axes[0].plot(selection[:,0], selection[:,1], 'b.')\n",
    "axes[1].plot(scaled_selection[:,0], scaled_selection[:,1], 'b.')\n",
    "# set same x limits on left and right plots\n",
    "axes[0].set_xlim(axes[1].get_xlim())\n",
    "axes[0].set_title(\"До стандартизации признаков\", size=16)\n",
    "axes[1].set_title(\"После стандартизации\", size=16);"
   ]
  },
  {
   "cell_type": "markdown",
   "id": "57e01878",
   "metadata": {
    "id": "57e01878"
   },
   "source": [
    "### Сложность модели k-NN"
   ]
  },
  {
   "cell_type": "markdown",
   "id": "35e355c2",
   "metadata": {
    "id": "35e355c2"
   },
   "source": [
    "**Что такое \"сложность\" модели?**"
   ]
  },
  {
   "cell_type": "markdown",
   "id": "be1e1cc1",
   "metadata": {
    "id": "be1e1cc1"
   },
   "source": [
    "Этот вопрос выглядит очень простым, но ответ на него довольно непрост.\n",
    "\n",
    "В общем смысле, под \"сложностью\" в этом курсе мы будем понимать вовсе не то, насколько сложный алгоритм лежит в основе модели, а то, **насколько большое количество информации о закономерностях в данных способна выявить модель в процессе обучения**."
   ]
  },
  {
   "cell_type": "markdown",
   "id": "6695f315",
   "metadata": {
    "id": "6695f315"
   },
   "source": [
    "Количество информации, хранящейся в обученной модели, можно считать соразмерным тому, насколько точно мы можем восстановить информацию об использованных для обучения данных."
   ]
  },
  {
   "cell_type": "markdown",
   "id": "cc3cb96d",
   "metadata": {
    "id": "cc3cb96d"
   },
   "source": [
    "Очень близкое понятие - это \"емкость\" модели (model capacity). Обычно они взаимоменяемы.\n",
    "\n",
    "**Как вы думаете, всегда ли верно утверждение \"чем сложнее модель $-$ тем она лучше?\"**"
   ]
  },
  {
   "cell_type": "markdown",
   "id": "c38a9ea2",
   "metadata": {
    "id": "c38a9ea2"
   },
   "source": [
    "**Имея в виду такое определение \"сложности\", какие модели k-NN являются более сложными?**\n",
    "\n",
    "Модель сложнее при высоких k или при низких?"
   ]
  },
  {
   "cell_type": "code",
   "execution_count": 16,
   "id": "02u2gDZY2ucw",
   "metadata": {
    "colab": {
     "base_uri": "https://localhost:8080/",
     "height": 921
    },
    "id": "02u2gDZY2ucw",
    "outputId": "351e4220-cff5-4a34-e220-90119b1906a6"
   },
   "outputs": [
    {
     "ename": "NameError",
     "evalue": "name 'h' is not defined",
     "output_type": "error",
     "traceback": [
      "\u001b[1;31m---------------------------------------------------------------------------\u001b[0m",
      "\u001b[1;31mNameError\u001b[0m                                 Traceback (most recent call last)",
      "Cell \u001b[1;32mIn[16], line 11\u001b[0m\n\u001b[0;32m      9\u001b[0m x_min, x_max \u001b[38;5;241m=\u001b[39m points[:, \u001b[38;5;241m0\u001b[39m]\u001b[38;5;241m.\u001b[39mmin() \u001b[38;5;241m-\u001b[39m \u001b[38;5;241m1\u001b[39m, points[:, \u001b[38;5;241m0\u001b[39m]\u001b[38;5;241m.\u001b[39mmax() \u001b[38;5;241m+\u001b[39m \u001b[38;5;241m1\u001b[39m\n\u001b[0;32m     10\u001b[0m y_min, y_max \u001b[38;5;241m=\u001b[39m points[:, \u001b[38;5;241m1\u001b[39m]\u001b[38;5;241m.\u001b[39mmin() \u001b[38;5;241m-\u001b[39m \u001b[38;5;241m1\u001b[39m, points[:, \u001b[38;5;241m1\u001b[39m]\u001b[38;5;241m.\u001b[39mmax() \u001b[38;5;241m+\u001b[39m \u001b[38;5;241m1\u001b[39m\n\u001b[1;32m---> 11\u001b[0m xx, yy \u001b[38;5;241m=\u001b[39m np\u001b[38;5;241m.\u001b[39mmeshgrid(np\u001b[38;5;241m.\u001b[39marange(x_min, x_max, \u001b[43mh\u001b[49m),\n\u001b[0;32m     12\u001b[0m                      np\u001b[38;5;241m.\u001b[39marange(y_min, y_max, h))\n\u001b[0;32m     13\u001b[0m Z \u001b[38;5;241m=\u001b[39m classifier\u001b[38;5;241m.\u001b[39mpredict(np\u001b[38;5;241m.\u001b[39mc_[xx\u001b[38;5;241m.\u001b[39mravel(), yy\u001b[38;5;241m.\u001b[39mravel()])\n\u001b[0;32m     14\u001b[0m Z \u001b[38;5;241m=\u001b[39m Z\u001b[38;5;241m.\u001b[39mreshape(xx\u001b[38;5;241m.\u001b[39mshape)\n",
      "\u001b[1;31mNameError\u001b[0m: name 'h' is not defined"
     ]
    },
    {
     "data": {
      "image/png": "[encoded data removed]",
      "text/plain": [
       "<Figure size 1600x1600 with 9 Axes>"
      ]
     },
     "metadata": {},
     "output_type": "display_data"
    }
   ],
   "source": [
    "f, axes = plt.subplots(3, 3, figsize=(16, 16))\n",
    "n_samples = 300\n",
    "points, labels = make_moons(noise=0.3, random_state=371, n_samples=n_samples)\n",
    "\n",
    "for n_nei, ax in zip((1, 3, 5, 20, 30, 50, 100, 150, 300), axes.flat):\n",
    "    classifier = KNeighborsClassifier(n_neighbors=n_nei)\n",
    "    classifier.fit(points, labels)\n",
    "\n",
    "    x_min, x_max = points[:, 0].min() - 1, points[:, 0].max() + 1\n",
    "    y_min, y_max = points[:, 1].min() - 1, points[:, 1].max() + 1\n",
    "    xx, yy = np.meshgrid(np.arange(x_min, x_max, h),\n",
    "                         np.arange(y_min, y_max, h))\n",
    "    Z = classifier.predict(np.c_[xx.ravel(), yy.ravel()])\n",
    "    Z = Z.reshape(xx.shape)\n",
    "    ax.pcolormesh(xx, yy, Z, cmap=cmap_light)\n",
    "\n",
    "    # Plot also the training points\n",
    "    ax.scatter(points[:, 0], points[:, 1], c=labels, cmap=cmap_bold,\n",
    "                edgecolor='k', s=20)\n",
    "    ax.set_xlim(xx.min(), xx.max())\n",
    "    ax.set_ylim(yy.min(), yy.max())\n",
    "    ax.set_title(f\"K = {n_nei}\")"
   ]
  },
  {
   "cell_type": "markdown",
   "id": "494c8119",
   "metadata": {
    "id": "494c8119"
   },
   "source": [
    "Как мы видим, границы между классами по версии модели с низкими k оказываются **очень рваными** и не всегда соответствующими действительности.\n",
    "\n",
    "В то же время, при очень высоких k мы наблюдаем **чрезмерно простую границу**."
   ]
  },
  {
   "cell_type": "markdown",
   "id": "bed4d02c-46d0-434f-9259-aea9e0bc3006",
   "metadata": {
    "id": "bed4d02c-46d0-434f-9259-aea9e0bc3006"
   },
   "source": [
    "**Какой будет результат, если взять число соседей, равное размеру выборки?**"
   ]
  },
  {
   "cell_type": "markdown",
   "id": "3c69a589",
   "metadata": {
    "id": "3c69a589"
   },
   "source": [
    "**Какой вывод мы можем сделать?**"
   ]
  },
  {
   "cell_type": "markdown",
   "id": "f63512dd",
   "metadata": {
    "id": "f63512dd"
   },
   "source": [
    "* Слишком простая модель не способна описать данные хорошо. Она выявляет только **очень базовые закономерности**.\n",
    "* Слишком сложная модель начинает описывать **шум, который присутствует в данных**.\n",
    "* Для адекватного предсказания нужно брать модель **и не слишком сложную, и не слишком простую**."
   ]
  },
  {
   "cell_type": "markdown",
   "id": "d19b74ec",
   "metadata": {
    "id": "d19b74ec"
   },
   "source": [
    "![model_complexity.png](https://data.bioml.ru/htdocs/courses/bioml/classic_ml/supervised/basic_concepts/model_complexity.png)"
   ]
  },
  {
   "cell_type": "markdown",
   "id": "0faf12b1",
   "metadata": {
    "id": "0faf12b1"
   },
   "source": [
    "## Недообучение и переобучение"
   ]
  },
  {
   "cell_type": "markdown",
   "id": "bf94ed92",
   "metadata": {
    "id": "bf94ed92"
   },
   "source": [
    "Как мы заметили, при усложнении модели ее **описание входных данных становится более и более точным, в какой-то момент становясь неадекватно точным**. Так происходит не только с моделью k-NN. Давайте рассмотрим пример аппрокисмации полиномом (полиномиальная регрессия):"
   ]
  },
  {
   "cell_type": "markdown",
   "id": "69eccdb6",
   "metadata": {
    "id": "69eccdb6"
   },
   "source": [
    "![overfitting.png](https://data.bioml.ru/htdocs/courses/bioml/classic_ml/supervised/basic_concepts/overfitting.png)"
   ]
  },
  {
   "cell_type": "markdown",
   "id": "de6e4fe9",
   "metadata": {
    "id": "de6e4fe9"
   },
   "source": [
    "Как мы видим, при степени k = 1 модель недостаточно сложна, чтобы уловить зависимости в данных, а при степени k = 17 модель описывает все: и шум, и данные, и поэтому хуже описывает исходную функцию.\n",
    "\n",
    "Эти явления называют **недообучением** и **переобучением** модели."
   ]
  },
  {
   "cell_type": "markdown",
   "id": "18a83e8a",
   "metadata": {
    "id": "18a83e8a"
   },
   "source": [
    "**Недообучение модели** возникает, когда модели не хватает сложности для того, чтобы выучить взаимосвязь, лежащую в основе данных."
   ]
  },
  {
   "cell_type": "markdown",
   "id": "39c3b087",
   "metadata": {
    "id": "39c3b087"
   },
   "source": [
    "**Переобучение модели** возникает, когда модель хорошо описывает не только сами данные, но и шум в этих данных."
   ]
  },
  {
   "cell_type": "markdown",
   "id": "89eb394b",
   "metadata": {
    "id": "89eb394b"
   },
   "source": [
    "Предположим, что мы можем количественно измерять качество предсказаний модели k-NN. Давайте оценим, насколько хорошо полученная модель опишет те же данные, которые использовались для ее обучения.\n",
    "\n",
    "**Как вы думаете, для какого k качество было бы наилучшим?**"
   ]
  },
  {
   "cell_type": "markdown",
   "id": "b401fb06",
   "metadata": {
    "id": "b401fb06"
   },
   "source": [
    "Для k = 1. Это так, потому что при предсказании используется **точка, наиболее близкая к определяемой**, то есть **она сама**. Очевидно, предсказываемый класс будет всегда совпадать."
   ]
  },
  {
   "cell_type": "markdown",
   "id": "f50d43d7",
   "metadata": {
    "id": "f50d43d7"
   },
   "source": [
    "![knn_k1.png](https://data.bioml.ru/htdocs/courses/bioml/classic_ml/supervised/knn/knn_k1.png)"
   ]
  },
  {
   "cell_type": "markdown",
   "id": "87ae8f4c",
   "metadata": {
    "id": "87ae8f4c"
   },
   "source": [
    "![knn_quality.png](https://data.bioml.ru/htdocs/courses/bioml/classic_ml/supervised/knn/knn_quality.png)"
   ]
  },
  {
   "cell_type": "markdown",
   "id": "9fdc59d7",
   "metadata": {
    "id": "9fdc59d7"
   },
   "source": [
    "Это как раз тот случай \"идеального подгона\" - мы подогнали нашу модель так, что она идеально описывает входные данные. Но задача машинного обучения вовсе не в этом..."
   ]
  },
  {
   "cell_type": "markdown",
   "id": "w0Mkim2-sYH7",
   "metadata": {
    "id": "w0Mkim2-sYH7"
   },
   "source": [
    "...ведь тогда непобедимым бейзлайном является обычный словарь :^)"
   ]
  },
  {
   "cell_type": "markdown",
   "id": "86561f71",
   "metadata": {
    "id": "86561f71"
   },
   "source": [
    "### Задача обучения с учителем\n",
    "\n",
    "Задача машинного обучения - создать такую модель, которая будет **хорошо описывать новые данные**, которые модель не \"видела\"."
   ]
  },
  {
   "cell_type": "markdown",
   "id": "a2b9b95d",
   "metadata": {
    "id": "a2b9b95d"
   },
   "source": [
    "**Как вы думаете, каким способом нужно оценивать качество модели?**"
   ]
  },
  {
   "cell_type": "markdown",
   "id": "8ae6ba1d",
   "metadata": {
    "id": "8ae6ba1d"
   },
   "source": [
    "Классический способ: **до обучения модели выборка разбивается на 2 части**: одна из них называется **тренировочной** (train), а другая - **тестовой** (test)."
   ]
  },
  {
   "cell_type": "markdown",
   "id": "d90945a1",
   "metadata": {
    "id": "d90945a1"
   },
   "source": [
    "**В какой пропорции разбивают на train/test?**"
   ]
  },
  {
   "cell_type": "markdown",
   "id": "a3e3d81f",
   "metadata": {
    "id": "a3e3d81f"
   },
   "source": [
    "На самом деле, это достаточно творческий вопрос, и ответ на него в первую очередь **зависит от объема и природы ваших данных**. Иногда для теста достаточно 1% информации, а иногда нужно положить туда добрую половину."
   ]
  },
  {
   "cell_type": "markdown",
   "id": "92c5b382",
   "metadata": {
    "id": "92c5b382"
   },
   "source": [
    "Обычно берут **70-80% для обучения** и **20-30% для теста** модели, но это не жесткое правило."
   ]
  },
  {
   "cell_type": "markdown",
   "id": "28bba7ff",
   "metadata": {
    "id": "28bba7ff"
   },
   "source": [
    "![train-test.png](https://data.bioml.ru/htdocs/courses/bioml/classic_ml/supervised/basic_concepts/train-test.png)"
   ]
  },
  {
   "cell_type": "markdown",
   "id": "b983ee41-fdbd-4612-9316-6ebad7d73d16",
   "metadata": {
    "id": "b983ee41-fdbd-4612-9316-6ebad7d73d16"
   },
   "source": [
    "#### Зависимость качества от сложности модели"
   ]
  },
  {
   "cell_type": "markdown",
   "id": "3ba7d2d4",
   "metadata": {
    "id": "3ba7d2d4"
   },
   "source": [
    "Если оценим качество модели k-NN в зависимости от числа соседей k на train и test, то получим такую картину:"
   ]
  },
  {
   "cell_type": "markdown",
   "id": "7cbddca5",
   "metadata": {
    "id": "7cbddca5"
   },
   "source": [
    "![knn_quality_test.png](https://data.bioml.ru/htdocs/courses/bioml/classic_ml/supervised/knn/knn_quality_test.png)"
   ]
  },
  {
   "cell_type": "markdown",
   "id": "WR2vlB9kUMyL",
   "metadata": {
    "id": "WR2vlB9kUMyL"
   },
   "source": [
    "По оси X отложены k в порядке убывания, то есть сложность модели растет вдоль X."
   ]
  },
  {
   "cell_type": "markdown",
   "id": "205c955f",
   "metadata": {
    "id": "205c955f"
   },
   "source": [
    "Как мы видим, при k $\\approx$ 30 качество на test перестает расти с увеличением сложности модели. При дальнейшем увеличении сложности качество на test падает."
   ]
  },
  {
   "cell_type": "markdown",
   "id": "h0afyS-gUA7c",
   "metadata": {
    "id": "h0afyS-gUA7c"
   },
   "source": [
    "Наибольшее качество достигается в районе k~33 - 27. Из этого лучше брать наиболее простую модель (т.е. при k=33)."
   ]
  },
  {
   "cell_type": "markdown",
   "id": "77590ea2",
   "metadata": {
    "id": "77590ea2"
   },
   "source": [
    "Когда с увеличением сложности модели вы наблюдаете **увеличение качества модели на train** и **уменьшение качества на test**, происходит переобучение.\n",
    "\n",
    "![knn_quality_test.png](https://data.bioml.ru/htdocs/courses/bioml/classic_ml/supervised/knn/knn_quality_test.png)"
   ]
  },
  {
   "cell_type": "markdown",
   "id": "9b70c504-c29c-499c-bd81-9014f37f6e2a",
   "metadata": {
    "id": "9b70c504-c29c-499c-bd81-9014f37f6e2a"
   },
   "source": [
    "#### Зависимость качества от соотношения train/test"
   ]
  },
  {
   "cell_type": "markdown",
   "id": "Y1wATlU8vpTX",
   "metadata": {
    "id": "Y1wATlU8vpTX"
   },
   "source": [
    "Качество также зависит от соотношения train/test."
   ]
  },
  {
   "cell_type": "markdown",
   "id": "bb6c0570-1d5e-489c-bb5f-beb2129979e2",
   "metadata": {
    "id": "bb6c0570-1d5e-489c-bb5f-beb2129979e2"
   },
   "source": [
    "![train-test-split.png](https://data.bioml.ru/htdocs/courses/bioml/classic_ml/supervised/knn/train-test-split.png)"
   ]
  },
  {
   "cell_type": "markdown",
   "id": "b41404ff",
   "metadata": {
    "id": "b41404ff"
   },
   "source": [
    "Для того чтобы посмотреть, как это все работает, нужно познакомиться с разными **метриками качества**."
   ]
  },
  {
   "cell_type": "markdown",
   "id": "86bf01b6",
   "metadata": {
    "id": "86bf01b6"
   },
   "source": [
    "## Оценка качества модели в задаче классификации"
   ]
  },
  {
   "cell_type": "markdown",
   "id": "87cca948",
   "metadata": {
    "id": "87cca948"
   },
   "source": [
    "Хорошо бы иметь возможность количественно **оценить, насколько хорошо обученная модель описывает данные**. Для этого используют несколько разных метрик качества."
   ]
  },
  {
   "cell_type": "markdown",
   "id": "505e6ba0",
   "metadata": {
    "id": "505e6ba0"
   },
   "source": [
    "Для разных задач обучения с учителем (supervised) используются различные метрики. Мы разберем, какие метрики используются для задачи классификации и задачи регрессии."
   ]
  },
  {
   "cell_type": "markdown",
   "id": "27ba3f66",
   "metadata": {
    "id": "27ba3f66"
   },
   "source": [
    "Для каждой метрики мы попытаемся сформулировать т.н. **baseline** - качество, которое достигается либо случайным предсказателем, либо очень простой моделью."
   ]
  },
  {
   "cell_type": "markdown",
   "id": "63b34fe3",
   "metadata": {
    "id": "63b34fe3"
   },
   "source": [
    "Перед тем, как пытаться оценить качество модели классификации, мы:\n",
    "1. Составим тренировочную и тестовую выборки.\n",
    "2. Обучим модель на тренировочной выборке.\n",
    "3. Получим вектор предсказаний модели для тестовой выборки."
   ]
  },
  {
   "cell_type": "markdown",
   "id": "c40b60e4",
   "metadata": {
    "id": "c40b60e4"
   },
   "source": [
    "**Разбиение на train/test**\n",
    "\n",
    "sklearn предоставляет удобную функцию для разбиения ваших данных:"
   ]
  },
  {
   "cell_type": "code",
   "execution_count": 21,
   "id": "dc65e231",
   "metadata": {
    "id": "dc65e231"
   },
   "outputs": [],
   "source": [
    "from sklearn.model_selection import train_test_split"
   ]
  },
  {
   "cell_type": "code",
   "execution_count": 22,
   "id": "32f3a2e4",
   "metadata": {
    "id": "32f3a2e4"
   },
   "outputs": [],
   "source": [
    "from sklearn.datasets import load_breast_cancer\n",
    "breast_cancer = load_breast_cancer()\n",
    "X = breast_cancer.data\n",
    "y = breast_cancer.target\n",
    "\n",
    "X_train, X_test, y_train, y_test = train_test_split(X, y, test_size=0.3,\n",
    "                                                    random_state=777)"
   ]
  },
  {
   "cell_type": "code",
   "execution_count": 23,
   "id": "06e7f453",
   "metadata": {
    "colab": {
     "base_uri": "https://localhost:8080/"
    },
    "id": "06e7f453",
    "outputId": "17c868e4-b12b-4300-d746-2fea856ad454"
   },
   "outputs": [
    {
     "name": "stdout",
     "output_type": "stream",
     "text": [
      "Train size = (398,)\n",
      "Test size = (171,)\n"
     ]
    }
   ],
   "source": [
    "print(f\"Train size = {y_train.shape}\")\n",
    "print(f\"Test size = {y_test.shape}\")"
   ]
  },
  {
   "cell_type": "markdown",
   "id": "54eb6eac",
   "metadata": {
    "id": "54eb6eac"
   },
   "source": [
    "**Обучение модели на train**"
   ]
  },
  {
   "cell_type": "code",
   "execution_count": 24,
   "id": "3527fb90",
   "metadata": {
    "id": "3527fb90"
   },
   "outputs": [],
   "source": [
    "from sklearn.neighbors import KNeighborsClassifier"
   ]
  },
  {
   "cell_type": "code",
   "execution_count": 25,
   "id": "748d1861",
   "metadata": {
    "colab": {
     "base_uri": "https://localhost:8080/",
     "height": 80
    },
    "id": "748d1861",
    "outputId": "01549115-d7d0-4bf4-93d0-c0961b4d8918"
   },
   "outputs": [
    {
     "data": {
      "text/html": [
       "<style>#sk-container-id-3 {\n",
       "  /* Definition of color scheme common for light and dark mode */\n",
       "  --sklearn-color-text: black;\n",
       "  --sklearn-color-line: gray;\n",
       "  /* Definition of color scheme for unfitted estimators */\n",
       "  --sklearn-color-unfitted-level-0: #fff5e6;\n",
       "  --sklearn-color-unfitted-level-1: #f6e4d2;\n",
       "  --sklearn-color-unfitted-level-2: #ffe0b3;\n",
       "  --sklearn-color-unfitted-level-3: chocolate;\n",
       "  /* Definition of color scheme for fitted estimators */\n",
       "  --sklearn-color-fitted-level-0: #f0f8ff;\n",
       "  --sklearn-color-fitted-level-1: #d4ebff;\n",
       "  --sklearn-color-fitted-level-2: #b3dbfd;\n",
       "  --sklearn-color-fitted-level-3: cornflowerblue;\n",
       "\n",
       "  /* Specific color for light theme */\n",
       "  --sklearn-color-text-on-default-background: var(--sg-text-color, var(--theme-code-foreground, var(--jp-content-font-color1, black)));\n",
       "  --sklearn-color-background: var(--sg-background-color, var(--theme-background, var(--jp-layout-color0, white)));\n",
       "  --sklearn-color-border-box: var(--sg-text-color, var(--theme-code-foreground, var(--jp-content-font-color1, black)));\n",
       "  --sklearn-color-icon: #696969;\n",
       "\n",
       "  @media (prefers-color-scheme: dark) {\n",
       "    /* Redefinition of color scheme for dark theme */\n",
       "    --sklearn-color-text-on-default-background: var(--sg-text-color, var(--theme-code-foreground, var(--jp-content-font-color1, white)));\n",
       "    --sklearn-color-background: var(--sg-background-color, var(--theme-background, var(--jp-layout-color0, #111)));\n",
       "    --sklearn-color-border-box: var(--sg-text-color, var(--theme-code-foreground, var(--jp-content-font-color1, white)));\n",
       "    --sklearn-color-icon: #878787;\n",
       "  }\n",
       "}\n",
       "\n",
       "#sk-container-id-3 {\n",
       "  color: var(--sklearn-color-text);\n",
       "}\n",
       "\n",
       "#sk-container-id-3 pre {\n",
       "  padding: 0;\n",
       "}\n",
       "\n",
       "#sk-container-id-3 input.sk-hidden--visually {\n",
       "  border: 0;\n",
       "  clip: rect(1px 1px 1px 1px);\n",
       "  clip: rect(1px, 1px, 1px, 1px);\n",
       "  height: 1px;\n",
       "  margin: -1px;\n",
       "  overflow: hidden;\n",
       "  padding: 0;\n",
       "  position: absolute;\n",
       "  width: 1px;\n",
       "}\n",
       "\n",
       "#sk-container-id-3 div.sk-dashed-wrapped {\n",
       "  border: 1px dashed var(--sklearn-color-line);\n",
       "  margin: 0 0.4em 0.5em 0.4em;\n",
       "  box-sizing: border-box;\n",
       "  padding-bottom: 0.4em;\n",
       "  background-color: var(--sklearn-color-background);\n",
       "}\n",
       "\n",
       "#sk-container-id-3 div.sk-container {\n",
       "  /* jupyter's `normalize.less` sets `[hidden] { display: none; }`\n",
       "     but bootstrap.min.css set `[hidden] { display: none !important; }`\n",
       "     so we also need the `!important` here to be able to override the\n",
       "     default hidden behavior on the sphinx rendered scikit-learn.org.\n",
       "     See: https://github.com/scikit-learn/scikit-learn/issues/21755 */\n",
       "  display: inline-block !important;\n",
       "  position: relative;\n",
       "}\n",
       "\n",
       "#sk-container-id-3 div.sk-text-repr-fallback {\n",
       "  display: none;\n",
       "}\n",
       "\n",
       "div.sk-parallel-item,\n",
       "div.sk-serial,\n",
       "div.sk-item {\n",
       "  /* draw centered vertical line to link estimators */\n",
       "  background-image: linear-gradient(var(--sklearn-color-text-on-default-background), var(--sklearn-color-text-on-default-background));\n",
       "  background-size: 2px 100%;\n",
       "  background-repeat: no-repeat;\n",
       "  background-position: center center;\n",
       "}\n",
       "\n",
       "/* Parallel-specific style estimator block */\n",
       "\n",
       "#sk-container-id-3 div.sk-parallel-item::after {\n",
       "  content: \"\";\n",
       "  width: 100%;\n",
       "  border-bottom: 2px solid var(--sklearn-color-text-on-default-background);\n",
       "  flex-grow: 1;\n",
       "}\n",
       "\n",
       "#sk-container-id-3 div.sk-parallel {\n",
       "  display: flex;\n",
       "  align-items: stretch;\n",
       "  justify-content: center;\n",
       "  background-color: var(--sklearn-color-background);\n",
       "  position: relative;\n",
       "}\n",
       "\n",
       "#sk-container-id-3 div.sk-parallel-item {\n",
       "  display: flex;\n",
       "  flex-direction: column;\n",
       "}\n",
       "\n",
       "#sk-container-id-3 div.sk-parallel-item:first-child::after {\n",
       "  align-self: flex-end;\n",
       "  width: 50%;\n",
       "}\n",
       "\n",
       "#sk-container-id-3 div.sk-parallel-item:last-child::after {\n",
       "  align-self: flex-start;\n",
       "  width: 50%;\n",
       "}\n",
       "\n",
       "#sk-container-id-3 div.sk-parallel-item:only-child::after {\n",
       "  width: 0;\n",
       "}\n",
       "\n",
       "/* Serial-specific style estimator block */\n",
       "\n",
       "#sk-container-id-3 div.sk-serial {\n",
       "  display: flex;\n",
       "  flex-direction: column;\n",
       "  align-items: center;\n",
       "  background-color: var(--sklearn-color-background);\n",
       "  padding-right: 1em;\n",
       "  padding-left: 1em;\n",
       "}\n",
       "\n",
       "\n",
       "/* Toggleable style: style used for estimator/Pipeline/ColumnTransformer box that is\n",
       "clickable and can be expanded/collapsed.\n",
       "- Pipeline and ColumnTransformer use this feature and define the default style\n",
       "- Estimators will overwrite some part of the style using the `sk-estimator` class\n",
       "*/\n",
       "\n",
       "/* Pipeline and ColumnTransformer style (default) */\n",
       "\n",
       "#sk-container-id-3 div.sk-toggleable {\n",
       "  /* Default theme specific background. It is overwritten whether we have a\n",
       "  specific estimator or a Pipeline/ColumnTransformer */\n",
       "  background-color: var(--sklearn-color-background);\n",
       "}\n",
       "\n",
       "/* Toggleable label */\n",
       "#sk-container-id-3 label.sk-toggleable__label {\n",
       "  cursor: pointer;\n",
       "  display: block;\n",
       "  width: 100%;\n",
       "  margin-bottom: 0;\n",
       "  padding: 0.5em;\n",
       "  box-sizing: border-box;\n",
       "  text-align: center;\n",
       "}\n",
       "\n",
       "#sk-container-id-3 label.sk-toggleable__label-arrow:before {\n",
       "  /* Arrow on the left of the label */\n",
       "  content: \"▸\";\n",
       "  float: left;\n",
       "  margin-right: 0.25em;\n",
       "  color: var(--sklearn-color-icon);\n",
       "}\n",
       "\n",
       "#sk-container-id-3 label.sk-toggleable__label-arrow:hover:before {\n",
       "  color: var(--sklearn-color-text);\n",
       "}\n",
       "\n",
       "/* Toggleable content - dropdown */\n",
       "\n",
       "#sk-container-id-3 div.sk-toggleable__content {\n",
       "  max-height: 0;\n",
       "  max-width: 0;\n",
       "  overflow: hidden;\n",
       "  text-align: left;\n",
       "  /* unfitted */\n",
       "  background-color: var(--sklearn-color-unfitted-level-0);\n",
       "}\n",
       "\n",
       "#sk-container-id-3 div.sk-toggleable__content.fitted {\n",
       "  /* fitted */\n",
       "  background-color: var(--sklearn-color-fitted-level-0);\n",
       "}\n",
       "\n",
       "#sk-container-id-3 div.sk-toggleable__content pre {\n",
       "  margin: 0.2em;\n",
       "  border-radius: 0.25em;\n",
       "  color: var(--sklearn-color-text);\n",
       "  /* unfitted */\n",
       "  background-color: var(--sklearn-color-unfitted-level-0);\n",
       "}\n",
       "\n",
       "#sk-container-id-3 div.sk-toggleable__content.fitted pre {\n",
       "  /* unfitted */\n",
       "  background-color: var(--sklearn-color-fitted-level-0);\n",
       "}\n",
       "\n",
       "#sk-container-id-3 input.sk-toggleable__control:checked~div.sk-toggleable__content {\n",
       "  /* Expand drop-down */\n",
       "  max-height: 200px;\n",
       "  max-width: 100%;\n",
       "  overflow: auto;\n",
       "}\n",
       "\n",
       "#sk-container-id-3 input.sk-toggleable__control:checked~label.sk-toggleable__label-arrow:before {\n",
       "  content: \"▾\";\n",
       "}\n",
       "\n",
       "/* Pipeline/ColumnTransformer-specific style */\n",
       "\n",
       "#sk-container-id-3 div.sk-label input.sk-toggleable__control:checked~label.sk-toggleable__label {\n",
       "  color: var(--sklearn-color-text);\n",
       "  background-color: var(--sklearn-color-unfitted-level-2);\n",
       "}\n",
       "\n",
       "#sk-container-id-3 div.sk-label.fitted input.sk-toggleable__control:checked~label.sk-toggleable__label {\n",
       "  background-color: var(--sklearn-color-fitted-level-2);\n",
       "}\n",
       "\n",
       "/* Estimator-specific style */\n",
       "\n",
       "/* Colorize estimator box */\n",
       "#sk-container-id-3 div.sk-estimator input.sk-toggleable__control:checked~label.sk-toggleable__label {\n",
       "  /* unfitted */\n",
       "  background-color: var(--sklearn-color-unfitted-level-2);\n",
       "}\n",
       "\n",
       "#sk-container-id-3 div.sk-estimator.fitted input.sk-toggleable__control:checked~label.sk-toggleable__label {\n",
       "  /* fitted */\n",
       "  background-color: var(--sklearn-color-fitted-level-2);\n",
       "}\n",
       "\n",
       "#sk-container-id-3 div.sk-label label.sk-toggleable__label,\n",
       "#sk-container-id-3 div.sk-label label {\n",
       "  /* The background is the default theme color */\n",
       "  color: var(--sklearn-color-text-on-default-background);\n",
       "}\n",
       "\n",
       "/* On hover, darken the color of the background */\n",
       "#sk-container-id-3 div.sk-label:hover label.sk-toggleable__label {\n",
       "  color: var(--sklearn-color-text);\n",
       "  background-color: var(--sklearn-color-unfitted-level-2);\n",
       "}\n",
       "\n",
       "/* Label box, darken color on hover, fitted */\n",
       "#sk-container-id-3 div.sk-label.fitted:hover label.sk-toggleable__label.fitted {\n",
       "  color: var(--sklearn-color-text);\n",
       "  background-color: var(--sklearn-color-fitted-level-2);\n",
       "}\n",
       "\n",
       "/* Estimator label */\n",
       "\n",
       "#sk-container-id-3 div.sk-label label {\n",
       "  font-family: monospace;\n",
       "  font-weight: bold;\n",
       "  display: inline-block;\n",
       "  line-height: 1.2em;\n",
       "}\n",
       "\n",
       "#sk-container-id-3 div.sk-label-container {\n",
       "  text-align: center;\n",
       "}\n",
       "\n",
       "/* Estimator-specific */\n",
       "#sk-container-id-3 div.sk-estimator {\n",
       "  font-family: monospace;\n",
       "  border: 1px dotted var(--sklearn-color-border-box);\n",
       "  border-radius: 0.25em;\n",
       "  box-sizing: border-box;\n",
       "  margin-bottom: 0.5em;\n",
       "  /* unfitted */\n",
       "  background-color: var(--sklearn-color-unfitted-level-0);\n",
       "}\n",
       "\n",
       "#sk-container-id-3 div.sk-estimator.fitted {\n",
       "  /* fitted */\n",
       "  background-color: var(--sklearn-color-fitted-level-0);\n",
       "}\n",
       "\n",
       "/* on hover */\n",
       "#sk-container-id-3 div.sk-estimator:hover {\n",
       "  /* unfitted */\n",
       "  background-color: var(--sklearn-color-unfitted-level-2);\n",
       "}\n",
       "\n",
       "#sk-container-id-3 div.sk-estimator.fitted:hover {\n",
       "  /* fitted */\n",
       "  background-color: var(--sklearn-color-fitted-level-2);\n",
       "}\n",
       "\n",
       "/* Specification for estimator info (e.g. \"i\" and \"?\") */\n",
       "\n",
       "/* Common style for \"i\" and \"?\" */\n",
       "\n",
       ".sk-estimator-doc-link,\n",
       "a:link.sk-estimator-doc-link,\n",
       "a:visited.sk-estimator-doc-link {\n",
       "  float: right;\n",
       "  font-size: smaller;\n",
       "  line-height: 1em;\n",
       "  font-family: monospace;\n",
       "  background-color: var(--sklearn-color-background);\n",
       "  border-radius: 1em;\n",
       "  height: 1em;\n",
       "  width: 1em;\n",
       "  text-decoration: none !important;\n",
       "  margin-left: 1ex;\n",
       "  /* unfitted */\n",
       "  border: var(--sklearn-color-unfitted-level-1) 1pt solid;\n",
       "  color: var(--sklearn-color-unfitted-level-1);\n",
       "}\n",
       "\n",
       ".sk-estimator-doc-link.fitted,\n",
       "a:link.sk-estimator-doc-link.fitted,\n",
       "a:visited.sk-estimator-doc-link.fitted {\n",
       "  /* fitted */\n",
       "  border: var(--sklearn-color-fitted-level-1) 1pt solid;\n",
       "  color: var(--sklearn-color-fitted-level-1);\n",
       "}\n",
       "\n",
       "/* On hover */\n",
       "div.sk-estimator:hover .sk-estimator-doc-link:hover,\n",
       ".sk-estimator-doc-link:hover,\n",
       "div.sk-label-container:hover .sk-estimator-doc-link:hover,\n",
       ".sk-estimator-doc-link:hover {\n",
       "  /* unfitted */\n",
       "  background-color: var(--sklearn-color-unfitted-level-3);\n",
       "  color: var(--sklearn-color-background);\n",
       "  text-decoration: none;\n",
       "}\n",
       "\n",
       "div.sk-estimator.fitted:hover .sk-estimator-doc-link.fitted:hover,\n",
       ".sk-estimator-doc-link.fitted:hover,\n",
       "div.sk-label-container:hover .sk-estimator-doc-link.fitted:hover,\n",
       ".sk-estimator-doc-link.fitted:hover {\n",
       "  /* fitted */\n",
       "  background-color: var(--sklearn-color-fitted-level-3);\n",
       "  color: var(--sklearn-color-background);\n",
       "  text-decoration: none;\n",
       "}\n",
       "\n",
       "/* Span, style for the box shown on hovering the info icon */\n",
       ".sk-estimator-doc-link span {\n",
       "  display: none;\n",
       "  z-index: 9999;\n",
       "  position: relative;\n",
       "  font-weight: normal;\n",
       "  right: .2ex;\n",
       "  padding: .5ex;\n",
       "  margin: .5ex;\n",
       "  width: min-content;\n",
       "  min-width: 20ex;\n",
       "  max-width: 50ex;\n",
       "  color: var(--sklearn-color-text);\n",
       "  box-shadow: 2pt 2pt 4pt #999;\n",
       "  /* unfitted */\n",
       "  background: var(--sklearn-color-unfitted-level-0);\n",
       "  border: .5pt solid var(--sklearn-color-unfitted-level-3);\n",
       "}\n",
       "\n",
       ".sk-estimator-doc-link.fitted span {\n",
       "  /* fitted */\n",
       "  background: var(--sklearn-color-fitted-level-0);\n",
       "  border: var(--sklearn-color-fitted-level-3);\n",
       "}\n",
       "\n",
       ".sk-estimator-doc-link:hover span {\n",
       "  display: block;\n",
       "}\n",
       "\n",
       "/* \"?\"-specific style due to the `<a>` HTML tag */\n",
       "\n",
       "#sk-container-id-3 a.estimator_doc_link {\n",
       "  float: right;\n",
       "  font-size: 1rem;\n",
       "  line-height: 1em;\n",
       "  font-family: monospace;\n",
       "  background-color: var(--sklearn-color-background);\n",
       "  border-radius: 1rem;\n",
       "  height: 1rem;\n",
       "  width: 1rem;\n",
       "  text-decoration: none;\n",
       "  /* unfitted */\n",
       "  color: var(--sklearn-color-unfitted-level-1);\n",
       "  border: var(--sklearn-color-unfitted-level-1) 1pt solid;\n",
       "}\n",
       "\n",
       "#sk-container-id-3 a.estimator_doc_link.fitted {\n",
       "  /* fitted */\n",
       "  border: var(--sklearn-color-fitted-level-1) 1pt solid;\n",
       "  color: var(--sklearn-color-fitted-level-1);\n",
       "}\n",
       "\n",
       "/* On hover */\n",
       "#sk-container-id-3 a.estimator_doc_link:hover {\n",
       "  /* unfitted */\n",
       "  background-color: var(--sklearn-color-unfitted-level-3);\n",
       "  color: var(--sklearn-color-background);\n",
       "  text-decoration: none;\n",
       "}\n",
       "\n",
       "#sk-container-id-3 a.estimator_doc_link.fitted:hover {\n",
       "  /* fitted */\n",
       "  background-color: var(--sklearn-color-fitted-level-3);\n",
       "}\n",
       "</style><div id=\"sk-container-id-3\" class=\"sk-top-container\"><div class=\"sk-text-repr-fallback\"><pre>KNeighborsClassifier(n_neighbors=35)</pre><b>In a Jupyter environment, please rerun this cell to show the HTML representation or trust the notebook. <br />On GitHub, the HTML representation is unable to render, please try loading this page with nbviewer.org.</b></div><div class=\"sk-container\" hidden><div class=\"sk-item\"><div class=\"sk-estimator fitted sk-toggleable\"><input class=\"sk-toggleable__control sk-hidden--visually\" id=\"sk-estimator-id-3\" type=\"checkbox\" checked><label for=\"sk-estimator-id-3\" class=\"sk-toggleable__label fitted sk-toggleable__label-arrow fitted\">&nbsp;&nbsp;KNeighborsClassifier<a class=\"sk-estimator-doc-link fitted\" rel=\"noreferrer\" target=\"_blank\" href=\"https://scikit-learn.org/1.5/modules/generated/sklearn.neighbors.KNeighborsClassifier.html\">?<span>Documentation for KNeighborsClassifier</span></a><span class=\"sk-estimator-doc-link fitted\">i<span>Fitted</span></span></label><div class=\"sk-toggleable__content fitted\"><pre>KNeighborsClassifier(n_neighbors=35)</pre></div> </div></div></div></div>"
      ],
      "text/plain": [
       "KNeighborsClassifier(n_neighbors=35)"
      ]
     },
     "execution_count": 25,
     "metadata": {},
     "output_type": "execute_result"
    }
   ],
   "source": [
    "knn = KNeighborsClassifier(n_neighbors=35)\n",
    "knn.fit(X_train, y_train)"
   ]
  },
  {
   "cell_type": "markdown",
   "id": "e8bc381f",
   "metadata": {
    "id": "e8bc381f"
   },
   "source": [
    "**Получение предсказаний для test**"
   ]
  },
  {
   "cell_type": "code",
   "execution_count": 26,
   "id": "63f41473",
   "metadata": {
    "id": "63f41473"
   },
   "outputs": [],
   "source": [
    "y_test_pred = knn.predict(X_test)"
   ]
  },
  {
   "cell_type": "markdown",
   "id": "9db935ed",
   "metadata": {
    "id": "9db935ed"
   },
   "source": [
    "**Получение предсказаний для train**\n",
    "\n",
    "(в педагогических целях)"
   ]
  },
  {
   "cell_type": "code",
   "execution_count": 27,
   "id": "fff0686e",
   "metadata": {
    "id": "fff0686e"
   },
   "outputs": [],
   "source": [
    "y_train_pred = knn.predict(X_train)"
   ]
  },
  {
   "cell_type": "markdown",
   "id": "66095250",
   "metadata": {
    "id": "66095250"
   },
   "source": [
    "### Метрика Accuracy (точность v1.0)"
   ]
  },
  {
   "cell_type": "markdown",
   "id": "e9783acb",
   "metadata": {
    "id": "e9783acb"
   },
   "source": [
    "*Однажды Сталин беседовал с метеорологами. Он сам в юности работал наблюдателем-метеорологом в Тифлисской физической обсерватории.*\n",
    "\n",
    "*— Какая у вас точность прогнозов? — спросил Сталин.*\n",
    "\n",
    "*— Сорок процентов, товарищ Сталин, — сокрушённо ответили метеорологи. — Современными приборами трудно достичь большей точности.*\n",
    "\n",
    "*— А вы говорите наоборот, — предложил Сталин, — и тогда у вас будет шестьдесят процентов!*"
   ]
  },
  {
   "cell_type": "markdown",
   "id": "129771b1",
   "metadata": {
    "id": "129771b1"
   },
   "source": [
    "**Accuracy** (точность) - метрика качества, равная доле правильно классифицированных образцов."
   ]
  },
  {
   "cell_type": "markdown",
   "id": "c1aae814",
   "metadata": {
    "id": "c1aae814"
   },
   "source": [
    "$$accuracy = \\dfrac{N_{correct}}{N}$$"
   ]
  },
  {
   "cell_type": "code",
   "execution_count": 18,
   "id": "806045c0",
   "metadata": {
    "id": "806045c0"
   },
   "outputs": [],
   "source": [
    "from sklearn.metrics import accuracy_score"
   ]
  },
  {
   "cell_type": "markdown",
   "id": "80207fe6",
   "metadata": {
    "id": "80207fe6"
   },
   "source": [
    "Качество на train:"
   ]
  },
  {
   "cell_type": "code",
   "execution_count": 28,
   "id": "eedf35ed",
   "metadata": {
    "colab": {
     "base_uri": "https://localhost:8080/"
    },
    "id": "eedf35ed",
    "outputId": "337fb088-42c4-4066-c29e-e8d792c5d9aa"
   },
   "outputs": [
    {
     "data": {
      "text/plain": [
       "0.9221105527638191"
      ]
     },
     "execution_count": 28,
     "metadata": {},
     "output_type": "execute_result"
    }
   ],
   "source": [
    "accuracy_score(y_true=y_train, y_pred=y_train_pred)"
   ]
  },
  {
   "cell_type": "markdown",
   "id": "c172c19b",
   "metadata": {
    "id": "c172c19b"
   },
   "source": [
    "Качество на test:"
   ]
  },
  {
   "cell_type": "code",
   "execution_count": 29,
   "id": "af530b39",
   "metadata": {
    "colab": {
     "base_uri": "https://localhost:8080/"
    },
    "id": "af530b39",
    "outputId": "765a1a4f-35d7-47ac-adc9-7348b44e5e34"
   },
   "outputs": [
    {
     "data": {
      "text/plain": [
       "0.9181286549707602"
      ]
     },
     "execution_count": 29,
     "metadata": {},
     "output_type": "execute_result"
    }
   ],
   "source": [
    "accuracy_score(y_true=y_test, y_pred=y_test_pred)"
   ]
  },
  {
   "cell_type": "markdown",
   "id": "448690ce",
   "metadata": {
    "id": "448690ce"
   },
   "source": [
    "Как мы видим, **качество на train выше, чем качество на test**."
   ]
  },
  {
   "cell_type": "markdown",
   "id": "0a8e1205",
   "metadata": {
    "id": "0a8e1205"
   },
   "source": [
    "Метрика accuracy **очень простая** и ее можно посчитать **для любого числа классов** (дальше мы будем рассматривать метрики для *бинарной* классификации)."
   ]
  },
  {
   "cell_type": "markdown",
   "id": "79da881a",
   "metadata": {
    "id": "79da881a"
   },
   "source": [
    "Однако в ее простоте заключается ее большой недостаток: accuracy не способна показать, в объектах какого класса мы ошибаемся чаще."
   ]
  },
  {
   "cell_type": "code",
   "execution_count": 30,
   "id": "9f7ff14a",
   "metadata": {
    "colab": {
     "base_uri": "https://localhost:8080/"
    },
    "id": "9f7ff14a",
    "outputId": "181e5889-fe77-4970-dccd-6037fb9544aa"
   },
   "outputs": [
    {
     "data": {
      "text/plain": [
       "0.951"
      ]
     },
     "execution_count": 30,
     "metadata": {},
     "output_type": "execute_result"
    }
   ],
   "source": [
    "import numpy as np\n",
    "\n",
    "dummy_y = np.zeros(1000)\n",
    "dummy_y[:50] = 1\n",
    "dummy_y_pred = np.zeros(1000)\n",
    "dummy_y_pred[0] = 1\n",
    "\n",
    "accuracy_score(y_true=dummy_y, y_pred=dummy_y_pred)"
   ]
  },
  {
   "cell_type": "markdown",
   "id": "ee16e3fd",
   "metadata": {
    "id": "ee16e3fd"
   },
   "source": [
    "Классификатор предсказывает нули почти вседа. По сути он бесполезен, но его метрика accuracy высокая."
   ]
  },
  {
   "cell_type": "markdown",
   "id": "bB7gc34OyCMe",
   "metadata": {
    "id": "bB7gc34OyCMe"
   },
   "source": [
    "В scikit-learn есть т.н. <a href=\"https://scikit-learn.org/stable/modules/generated/sklearn.dummy.DummyClassifier.html\">Dummy</a>-классификаторы, которыми удобно пользоваться для оценки качества бейзлайна."
   ]
  },
  {
   "cell_type": "markdown",
   "id": "22a936bc",
   "metadata": {
    "id": "22a936bc"
   },
   "source": [
    "Следовательно, **baseline для метрики accuracy - это наибольшая из долей классов**.\n",
    "\n",
    "Например, если класса 3, и их доли равны 20%, 30% и 50%, то baseline = 0.5.\n",
    "\n",
    "(Т.е. можем без всяких моделей возвращать метку наиболее представленного класса и получим точность, равную его доле)"
   ]
  },
  {
   "cell_type": "code",
   "execution_count": 31,
   "id": "X-e13lNAzxc7",
   "metadata": {
    "id": "X-e13lNAzxc7"
   },
   "outputs": [],
   "source": [
    "from sklearn.dummy import DummyClassifier"
   ]
  },
  {
   "cell_type": "code",
   "execution_count": 32,
   "id": "Q6neIkVSz0pS",
   "metadata": {
    "colab": {
     "base_uri": "https://localhost:8080/",
     "height": 80
    },
    "id": "Q6neIkVSz0pS",
    "outputId": "c8e1b112-c48e-4161-ed98-0d127b0ea79f"
   },
   "outputs": [
    {
     "data": {
      "text/html": [
       "<style>#sk-container-id-4 {\n",
       "  /* Definition of color scheme common for light and dark mode */\n",
       "  --sklearn-color-text: black;\n",
       "  --sklearn-color-line: gray;\n",
       "  /* Definition of color scheme for unfitted estimators */\n",
       "  --sklearn-color-unfitted-level-0: #fff5e6;\n",
       "  --sklearn-color-unfitted-level-1: #f6e4d2;\n",
       "  --sklearn-color-unfitted-level-2: #ffe0b3;\n",
       "  --sklearn-color-unfitted-level-3: chocolate;\n",
       "  /* Definition of color scheme for fitted estimators */\n",
       "  --sklearn-color-fitted-level-0: #f0f8ff;\n",
       "  --sklearn-color-fitted-level-1: #d4ebff;\n",
       "  --sklearn-color-fitted-level-2: #b3dbfd;\n",
       "  --sklearn-color-fitted-level-3: cornflowerblue;\n",
       "\n",
       "  /* Specific color for light theme */\n",
       "  --sklearn-color-text-on-default-background: var(--sg-text-color, var(--theme-code-foreground, var(--jp-content-font-color1, black)));\n",
       "  --sklearn-color-background: var(--sg-background-color, var(--theme-background, var(--jp-layout-color0, white)));\n",
       "  --sklearn-color-border-box: var(--sg-text-color, var(--theme-code-foreground, var(--jp-content-font-color1, black)));\n",
       "  --sklearn-color-icon: #696969;\n",
       "\n",
       "  @media (prefers-color-scheme: dark) {\n",
       "    /* Redefinition of color scheme for dark theme */\n",
       "    --sklearn-color-text-on-default-background: var(--sg-text-color, var(--theme-code-foreground, var(--jp-content-font-color1, white)));\n",
       "    --sklearn-color-background: var(--sg-background-color, var(--theme-background, var(--jp-layout-color0, #111)));\n",
       "    --sklearn-color-border-box: var(--sg-text-color, var(--theme-code-foreground, var(--jp-content-font-color1, white)));\n",
       "    --sklearn-color-icon: #878787;\n",
       "  }\n",
       "}\n",
       "\n",
       "#sk-container-id-4 {\n",
       "  color: var(--sklearn-color-text);\n",
       "}\n",
       "\n",
       "#sk-container-id-4 pre {\n",
       "  padding: 0;\n",
       "}\n",
       "\n",
       "#sk-container-id-4 input.sk-hidden--visually {\n",
       "  border: 0;\n",
       "  clip: rect(1px 1px 1px 1px);\n",
       "  clip: rect(1px, 1px, 1px, 1px);\n",
       "  height: 1px;\n",
       "  margin: -1px;\n",
       "  overflow: hidden;\n",
       "  padding: 0;\n",
       "  position: absolute;\n",
       "  width: 1px;\n",
       "}\n",
       "\n",
       "#sk-container-id-4 div.sk-dashed-wrapped {\n",
       "  border: 1px dashed var(--sklearn-color-line);\n",
       "  margin: 0 0.4em 0.5em 0.4em;\n",
       "  box-sizing: border-box;\n",
       "  padding-bottom: 0.4em;\n",
       "  background-color: var(--sklearn-color-background);\n",
       "}\n",
       "\n",
       "#sk-container-id-4 div.sk-container {\n",
       "  /* jupyter's `normalize.less` sets `[hidden] { display: none; }`\n",
       "     but bootstrap.min.css set `[hidden] { display: none !important; }`\n",
       "     so we also need the `!important` here to be able to override the\n",
       "     default hidden behavior on the sphinx rendered scikit-learn.org.\n",
       "     See: https://github.com/scikit-learn/scikit-learn/issues/21755 */\n",
       "  display: inline-block !important;\n",
       "  position: relative;\n",
       "}\n",
       "\n",
       "#sk-container-id-4 div.sk-text-repr-fallback {\n",
       "  display: none;\n",
       "}\n",
       "\n",
       "div.sk-parallel-item,\n",
       "div.sk-serial,\n",
       "div.sk-item {\n",
       "  /* draw centered vertical line to link estimators */\n",
       "  background-image: linear-gradient(var(--sklearn-color-text-on-default-background), var(--sklearn-color-text-on-default-background));\n",
       "  background-size: 2px 100%;\n",
       "  background-repeat: no-repeat;\n",
       "  background-position: center center;\n",
       "}\n",
       "\n",
       "/* Parallel-specific style estimator block */\n",
       "\n",
       "#sk-container-id-4 div.sk-parallel-item::after {\n",
       "  content: \"\";\n",
       "  width: 100%;\n",
       "  border-bottom: 2px solid var(--sklearn-color-text-on-default-background);\n",
       "  flex-grow: 1;\n",
       "}\n",
       "\n",
       "#sk-container-id-4 div.sk-parallel {\n",
       "  display: flex;\n",
       "  align-items: stretch;\n",
       "  justify-content: center;\n",
       "  background-color: var(--sklearn-color-background);\n",
       "  position: relative;\n",
       "}\n",
       "\n",
       "#sk-container-id-4 div.sk-parallel-item {\n",
       "  display: flex;\n",
       "  flex-direction: column;\n",
       "}\n",
       "\n",
       "#sk-container-id-4 div.sk-parallel-item:first-child::after {\n",
       "  align-self: flex-end;\n",
       "  width: 50%;\n",
       "}\n",
       "\n",
       "#sk-container-id-4 div.sk-parallel-item:last-child::after {\n",
       "  align-self: flex-start;\n",
       "  width: 50%;\n",
       "}\n",
       "\n",
       "#sk-container-id-4 div.sk-parallel-item:only-child::after {\n",
       "  width: 0;\n",
       "}\n",
       "\n",
       "/* Serial-specific style estimator block */\n",
       "\n",
       "#sk-container-id-4 div.sk-serial {\n",
       "  display: flex;\n",
       "  flex-direction: column;\n",
       "  align-items: center;\n",
       "  background-color: var(--sklearn-color-background);\n",
       "  padding-right: 1em;\n",
       "  padding-left: 1em;\n",
       "}\n",
       "\n",
       "\n",
       "/* Toggleable style: style used for estimator/Pipeline/ColumnTransformer box that is\n",
       "clickable and can be expanded/collapsed.\n",
       "- Pipeline and ColumnTransformer use this feature and define the default style\n",
       "- Estimators will overwrite some part of the style using the `sk-estimator` class\n",
       "*/\n",
       "\n",
       "/* Pipeline and ColumnTransformer style (default) */\n",
       "\n",
       "#sk-container-id-4 div.sk-toggleable {\n",
       "  /* Default theme specific background. It is overwritten whether we have a\n",
       "  specific estimator or a Pipeline/ColumnTransformer */\n",
       "  background-color: var(--sklearn-color-background);\n",
       "}\n",
       "\n",
       "/* Toggleable label */\n",
       "#sk-container-id-4 label.sk-toggleable__label {\n",
       "  cursor: pointer;\n",
       "  display: block;\n",
       "  width: 100%;\n",
       "  margin-bottom: 0;\n",
       "  padding: 0.5em;\n",
       "  box-sizing: border-box;\n",
       "  text-align: center;\n",
       "}\n",
       "\n",
       "#sk-container-id-4 label.sk-toggleable__label-arrow:before {\n",
       "  /* Arrow on the left of the label */\n",
       "  content: \"▸\";\n",
       "  float: left;\n",
       "  margin-right: 0.25em;\n",
       "  color: var(--sklearn-color-icon);\n",
       "}\n",
       "\n",
       "#sk-container-id-4 label.sk-toggleable__label-arrow:hover:before {\n",
       "  color: var(--sklearn-color-text);\n",
       "}\n",
       "\n",
       "/* Toggleable content - dropdown */\n",
       "\n",
       "#sk-container-id-4 div.sk-toggleable__content {\n",
       "  max-height: 0;\n",
       "  max-width: 0;\n",
       "  overflow: hidden;\n",
       "  text-align: left;\n",
       "  /* unfitted */\n",
       "  background-color: var(--sklearn-color-unfitted-level-0);\n",
       "}\n",
       "\n",
       "#sk-container-id-4 div.sk-toggleable__content.fitted {\n",
       "  /* fitted */\n",
       "  background-color: var(--sklearn-color-fitted-level-0);\n",
       "}\n",
       "\n",
       "#sk-container-id-4 div.sk-toggleable__content pre {\n",
       "  margin: 0.2em;\n",
       "  border-radius: 0.25em;\n",
       "  color: var(--sklearn-color-text);\n",
       "  /* unfitted */\n",
       "  background-color: var(--sklearn-color-unfitted-level-0);\n",
       "}\n",
       "\n",
       "#sk-container-id-4 div.sk-toggleable__content.fitted pre {\n",
       "  /* unfitted */\n",
       "  background-color: var(--sklearn-color-fitted-level-0);\n",
       "}\n",
       "\n",
       "#sk-container-id-4 input.sk-toggleable__control:checked~div.sk-toggleable__content {\n",
       "  /* Expand drop-down */\n",
       "  max-height: 200px;\n",
       "  max-width: 100%;\n",
       "  overflow: auto;\n",
       "}\n",
       "\n",
       "#sk-container-id-4 input.sk-toggleable__control:checked~label.sk-toggleable__label-arrow:before {\n",
       "  content: \"▾\";\n",
       "}\n",
       "\n",
       "/* Pipeline/ColumnTransformer-specific style */\n",
       "\n",
       "#sk-container-id-4 div.sk-label input.sk-toggleable__control:checked~label.sk-toggleable__label {\n",
       "  color: var(--sklearn-color-text);\n",
       "  background-color: var(--sklearn-color-unfitted-level-2);\n",
       "}\n",
       "\n",
       "#sk-container-id-4 div.sk-label.fitted input.sk-toggleable__control:checked~label.sk-toggleable__label {\n",
       "  background-color: var(--sklearn-color-fitted-level-2);\n",
       "}\n",
       "\n",
       "/* Estimator-specific style */\n",
       "\n",
       "/* Colorize estimator box */\n",
       "#sk-container-id-4 div.sk-estimator input.sk-toggleable__control:checked~label.sk-toggleable__label {\n",
       "  /* unfitted */\n",
       "  background-color: var(--sklearn-color-unfitted-level-2);\n",
       "}\n",
       "\n",
       "#sk-container-id-4 div.sk-estimator.fitted input.sk-toggleable__control:checked~label.sk-toggleable__label {\n",
       "  /* fitted */\n",
       "  background-color: var(--sklearn-color-fitted-level-2);\n",
       "}\n",
       "\n",
       "#sk-container-id-4 div.sk-label label.sk-toggleable__label,\n",
       "#sk-container-id-4 div.sk-label label {\n",
       "  /* The background is the default theme color */\n",
       "  color: var(--sklearn-color-text-on-default-background);\n",
       "}\n",
       "\n",
       "/* On hover, darken the color of the background */\n",
       "#sk-container-id-4 div.sk-label:hover label.sk-toggleable__label {\n",
       "  color: var(--sklearn-color-text);\n",
       "  background-color: var(--sklearn-color-unfitted-level-2);\n",
       "}\n",
       "\n",
       "/* Label box, darken color on hover, fitted */\n",
       "#sk-container-id-4 div.sk-label.fitted:hover label.sk-toggleable__label.fitted {\n",
       "  color: var(--sklearn-color-text);\n",
       "  background-color: var(--sklearn-color-fitted-level-2);\n",
       "}\n",
       "\n",
       "/* Estimator label */\n",
       "\n",
       "#sk-container-id-4 div.sk-label label {\n",
       "  font-family: monospace;\n",
       "  font-weight: bold;\n",
       "  display: inline-block;\n",
       "  line-height: 1.2em;\n",
       "}\n",
       "\n",
       "#sk-container-id-4 div.sk-label-container {\n",
       "  text-align: center;\n",
       "}\n",
       "\n",
       "/* Estimator-specific */\n",
       "#sk-container-id-4 div.sk-estimator {\n",
       "  font-family: monospace;\n",
       "  border: 1px dotted var(--sklearn-color-border-box);\n",
       "  border-radius: 0.25em;\n",
       "  box-sizing: border-box;\n",
       "  margin-bottom: 0.5em;\n",
       "  /* unfitted */\n",
       "  background-color: var(--sklearn-color-unfitted-level-0);\n",
       "}\n",
       "\n",
       "#sk-container-id-4 div.sk-estimator.fitted {\n",
       "  /* fitted */\n",
       "  background-color: var(--sklearn-color-fitted-level-0);\n",
       "}\n",
       "\n",
       "/* on hover */\n",
       "#sk-container-id-4 div.sk-estimator:hover {\n",
       "  /* unfitted */\n",
       "  background-color: var(--sklearn-color-unfitted-level-2);\n",
       "}\n",
       "\n",
       "#sk-container-id-4 div.sk-estimator.fitted:hover {\n",
       "  /* fitted */\n",
       "  background-color: var(--sklearn-color-fitted-level-2);\n",
       "}\n",
       "\n",
       "/* Specification for estimator info (e.g. \"i\" and \"?\") */\n",
       "\n",
       "/* Common style for \"i\" and \"?\" */\n",
       "\n",
       ".sk-estimator-doc-link,\n",
       "a:link.sk-estimator-doc-link,\n",
       "a:visited.sk-estimator-doc-link {\n",
       "  float: right;\n",
       "  font-size: smaller;\n",
       "  line-height: 1em;\n",
       "  font-family: monospace;\n",
       "  background-color: var(--sklearn-color-background);\n",
       "  border-radius: 1em;\n",
       "  height: 1em;\n",
       "  width: 1em;\n",
       "  text-decoration: none !important;\n",
       "  margin-left: 1ex;\n",
       "  /* unfitted */\n",
       "  border: var(--sklearn-color-unfitted-level-1) 1pt solid;\n",
       "  color: var(--sklearn-color-unfitted-level-1);\n",
       "}\n",
       "\n",
       ".sk-estimator-doc-link.fitted,\n",
       "a:link.sk-estimator-doc-link.fitted,\n",
       "a:visited.sk-estimator-doc-link.fitted {\n",
       "  /* fitted */\n",
       "  border: var(--sklearn-color-fitted-level-1) 1pt solid;\n",
       "  color: var(--sklearn-color-fitted-level-1);\n",
       "}\n",
       "\n",
       "/* On hover */\n",
       "div.sk-estimator:hover .sk-estimator-doc-link:hover,\n",
       ".sk-estimator-doc-link:hover,\n",
       "div.sk-label-container:hover .sk-estimator-doc-link:hover,\n",
       ".sk-estimator-doc-link:hover {\n",
       "  /* unfitted */\n",
       "  background-color: var(--sklearn-color-unfitted-level-3);\n",
       "  color: var(--sklearn-color-background);\n",
       "  text-decoration: none;\n",
       "}\n",
       "\n",
       "div.sk-estimator.fitted:hover .sk-estimator-doc-link.fitted:hover,\n",
       ".sk-estimator-doc-link.fitted:hover,\n",
       "div.sk-label-container:hover .sk-estimator-doc-link.fitted:hover,\n",
       ".sk-estimator-doc-link.fitted:hover {\n",
       "  /* fitted */\n",
       "  background-color: var(--sklearn-color-fitted-level-3);\n",
       "  color: var(--sklearn-color-background);\n",
       "  text-decoration: none;\n",
       "}\n",
       "\n",
       "/* Span, style for the box shown on hovering the info icon */\n",
       ".sk-estimator-doc-link span {\n",
       "  display: none;\n",
       "  z-index: 9999;\n",
       "  position: relative;\n",
       "  font-weight: normal;\n",
       "  right: .2ex;\n",
       "  padding: .5ex;\n",
       "  margin: .5ex;\n",
       "  width: min-content;\n",
       "  min-width: 20ex;\n",
       "  max-width: 50ex;\n",
       "  color: var(--sklearn-color-text);\n",
       "  box-shadow: 2pt 2pt 4pt #999;\n",
       "  /* unfitted */\n",
       "  background: var(--sklearn-color-unfitted-level-0);\n",
       "  border: .5pt solid var(--sklearn-color-unfitted-level-3);\n",
       "}\n",
       "\n",
       ".sk-estimator-doc-link.fitted span {\n",
       "  /* fitted */\n",
       "  background: var(--sklearn-color-fitted-level-0);\n",
       "  border: var(--sklearn-color-fitted-level-3);\n",
       "}\n",
       "\n",
       ".sk-estimator-doc-link:hover span {\n",
       "  display: block;\n",
       "}\n",
       "\n",
       "/* \"?\"-specific style due to the `<a>` HTML tag */\n",
       "\n",
       "#sk-container-id-4 a.estimator_doc_link {\n",
       "  float: right;\n",
       "  font-size: 1rem;\n",
       "  line-height: 1em;\n",
       "  font-family: monospace;\n",
       "  background-color: var(--sklearn-color-background);\n",
       "  border-radius: 1rem;\n",
       "  height: 1rem;\n",
       "  width: 1rem;\n",
       "  text-decoration: none;\n",
       "  /* unfitted */\n",
       "  color: var(--sklearn-color-unfitted-level-1);\n",
       "  border: var(--sklearn-color-unfitted-level-1) 1pt solid;\n",
       "}\n",
       "\n",
       "#sk-container-id-4 a.estimator_doc_link.fitted {\n",
       "  /* fitted */\n",
       "  border: var(--sklearn-color-fitted-level-1) 1pt solid;\n",
       "  color: var(--sklearn-color-fitted-level-1);\n",
       "}\n",
       "\n",
       "/* On hover */\n",
       "#sk-container-id-4 a.estimator_doc_link:hover {\n",
       "  /* unfitted */\n",
       "  background-color: var(--sklearn-color-unfitted-level-3);\n",
       "  color: var(--sklearn-color-background);\n",
       "  text-decoration: none;\n",
       "}\n",
       "\n",
       "#sk-container-id-4 a.estimator_doc_link.fitted:hover {\n",
       "  /* fitted */\n",
       "  background-color: var(--sklearn-color-fitted-level-3);\n",
       "}\n",
       "</style><div id=\"sk-container-id-4\" class=\"sk-top-container\"><div class=\"sk-text-repr-fallback\"><pre>DummyClassifier()</pre><b>In a Jupyter environment, please rerun this cell to show the HTML representation or trust the notebook. <br />On GitHub, the HTML representation is unable to render, please try loading this page with nbviewer.org.</b></div><div class=\"sk-container\" hidden><div class=\"sk-item\"><div class=\"sk-estimator fitted sk-toggleable\"><input class=\"sk-toggleable__control sk-hidden--visually\" id=\"sk-estimator-id-4\" type=\"checkbox\" checked><label for=\"sk-estimator-id-4\" class=\"sk-toggleable__label fitted sk-toggleable__label-arrow fitted\">&nbsp;&nbsp;DummyClassifier<a class=\"sk-estimator-doc-link fitted\" rel=\"noreferrer\" target=\"_blank\" href=\"https://scikit-learn.org/1.5/modules/generated/sklearn.dummy.DummyClassifier.html\">?<span>Documentation for DummyClassifier</span></a><span class=\"sk-estimator-doc-link fitted\">i<span>Fitted</span></span></label><div class=\"sk-toggleable__content fitted\"><pre>DummyClassifier()</pre></div> </div></div></div></div>"
      ],
      "text/plain": [
       "DummyClassifier()"
      ]
     },
     "execution_count": 32,
     "metadata": {},
     "output_type": "execute_result"
    }
   ],
   "source": [
    "clf = DummyClassifier()\n",
    "clf.fit(None, dummy_y)"
   ]
  },
  {
   "cell_type": "code",
   "execution_count": 33,
   "id": "ufaBCLiOz62c",
   "metadata": {
    "id": "ufaBCLiOz62c"
   },
   "outputs": [],
   "source": [
    "preds = clf.predict([None for i in range(dummy_y.shape[0])])"
   ]
  },
  {
   "cell_type": "code",
   "execution_count": 34,
   "id": "lMX06Ms50FWU",
   "metadata": {
    "colab": {
     "base_uri": "https://localhost:8080/"
    },
    "id": "lMX06Ms50FWU",
    "outputId": "59244685-ba14-49f1-d3ef-278d34a2838f"
   },
   "outputs": [
    {
     "data": {
      "text/plain": [
       "0.95"
      ]
     },
     "execution_count": 34,
     "metadata": {},
     "output_type": "execute_result"
    }
   ],
   "source": [
    "accuracy_score(y_true=dummy_y, y_pred=preds)"
   ]
  },
  {
   "cell_type": "markdown",
   "id": "976aab4b",
   "metadata": {
    "id": "976aab4b"
   },
   "source": [
    "**Почему так?**"
   ]
  },
  {
   "cell_type": "markdown",
   "id": "a92a01ba",
   "metadata": {
    "id": "a92a01ba"
   },
   "source": [
    "Модель, которая независимо от входных данных предсказывает наибольший класс (фактически предсказывая среднее) будет иметь такое качество."
   ]
  },
  {
   "cell_type": "markdown",
   "id": "382a7fd6",
   "metadata": {
    "id": "382a7fd6"
   },
   "source": [
    "### Метрики качества бинарной классификации"
   ]
  },
  {
   "cell_type": "markdown",
   "id": "e70b6a60",
   "metadata": {
    "id": "e70b6a60"
   },
   "source": [
    "При бинарной классификации обычно **выделяют \"положительный\"** (positive) **и \"отрицательный\"** (negative) **классы**."
   ]
  },
  {
   "cell_type": "markdown",
   "id": "b013aba8",
   "metadata": {
    "id": "b013aba8"
   },
   "source": [
    "![tp_fp_tn_fn.png](https://kodomo.fbb.msu.ru/FBB/year_20/ml/mfk/lec2/tp_fp_tn_fn.png)\n",
    "\n",
    "*Источник: [Wikipedia Commons](https://en.wikipedia.org/wiki/Sensitivity_and_specificity#/media/File:Sensitivity_and_specificity_1.01.svg)*"
   ]
  },
  {
   "cell_type": "markdown",
   "id": "1e999214",
   "metadata": {
    "id": "1e999214"
   },
   "source": [
    "**TP, FP, TN и FN** - это количества образцов в каждой из групп."
   ]
  },
  {
   "cell_type": "code",
   "execution_count": 35,
   "id": "a377cc1c",
   "metadata": {
    "id": "a377cc1c"
   },
   "outputs": [],
   "source": [
    "from sklearn.metrics import confusion_matrix"
   ]
  },
  {
   "cell_type": "code",
   "execution_count": 36,
   "id": "c5e6377e",
   "metadata": {
    "colab": {
     "base_uri": "https://localhost:8080/"
    },
    "id": "c5e6377e",
    "outputId": "21ab1cfd-4d67-4724-dafb-a38677ee5e28"
   },
   "outputs": [
    {
     "data": {
      "text/plain": [
       "array([[ 44,  13],\n",
       "       [  1, 113]], dtype=int64)"
      ]
     },
     "execution_count": 36,
     "metadata": {},
     "output_type": "execute_result"
    }
   ],
   "source": [
    "confusion_matrix(y_true=y_test, y_pred=y_test_pred)"
   ]
  },
  {
   "cell_type": "code",
   "execution_count": 39,
   "id": "9a048c20",
   "metadata": {
    "colab": {
     "base_uri": "https://localhost:8080/",
     "height": 366
    },
    "id": "9a048c20",
    "outputId": "2ba72b89-81fc-4da9-b485-98c0fe468f52"
   },
   "outputs": [
    {
     "ename": "ImportError",
     "evalue": "cannot import name 'plot_confusion_matrix' from 'sklearn.metrics' (C:\\Users\\LKDat\\AppData\\Local\\Programs\\Python\\Python312\\Lib\\site-packages\\sklearn\\metrics\\__init__.py)",
     "output_type": "error",
     "traceback": [
      "\u001b[1;31m---------------------------------------------------------------------------\u001b[0m",
      "\u001b[1;31mImportError\u001b[0m                               Traceback (most recent call last)",
      "Cell \u001b[1;32mIn[39], line 1\u001b[0m\n\u001b[1;32m----> 1\u001b[0m \u001b[38;5;28;01mfrom\u001b[39;00m \u001b[38;5;21;01msklearn\u001b[39;00m\u001b[38;5;21;01m.\u001b[39;00m\u001b[38;5;21;01mmetrics\u001b[39;00m \u001b[38;5;28;01mimport\u001b[39;00m plot_confusion_matrix\n\u001b[0;32m      3\u001b[0m plot_confusion_matrix(estimator\u001b[38;5;241m=\u001b[39mknn, X\u001b[38;5;241m=\u001b[39mX_test, y_true\u001b[38;5;241m=\u001b[39my_test)\n",
      "\u001b[1;31mImportError\u001b[0m: cannot import name 'plot_confusion_matrix' from 'sklearn.metrics' (C:\\Users\\LKDat\\AppData\\Local\\Programs\\Python\\Python312\\Lib\\site-packages\\sklearn\\metrics\\__init__.py)"
     ]
    }
   ],
   "source": [
    "#from sklearn.metrics import plot_confusion_matrix\n",
    "\n",
    "#plot_confusion_matrix(estimator=knn, X=X_test, y_true=y_test)"
   ]
  },
  {
   "cell_type": "code",
   "execution_count": 40,
   "id": "bqd1LRjLbTx5",
   "metadata": {
    "colab": {
     "base_uri": "https://localhost:8080/",
     "height": 475
    },
    "id": "bqd1LRjLbTx5",
    "outputId": "f497bf59-58a3-4cc5-97b4-6eac4b3691b2"
   },
   "outputs": [
    {
     "data": {
      "text/plain": [
       "<sklearn.metrics._plot.confusion_matrix.ConfusionMatrixDisplay at 0x262089693d0>"
      ]
     },
     "execution_count": 40,
     "metadata": {},
     "output_type": "execute_result"
    },
    {
     "data": {
      "image/png": "[encoded data removed]",
      "text/plain": [
       "<Figure size 640x480 with 2 Axes>"
      ]
     },
     "metadata": {},
     "output_type": "display_data"
    }
   ],
   "source": [
    "from sklearn.metrics import ConfusionMatrixDisplay\n",
    "\n",
    "ConfusionMatrixDisplay.from_estimator(knn, X_test, y_test)\n",
    "\n",
    "#Ошибка I - предсказываем, что событие есть, но оно не произлошло\n",
    "#Ошибка II - предсказываем, что собятия нет, но оно произлошло"
   ]
  },
  {
   "cell_type": "markdown",
   "id": "df6dfcf3",
   "metadata": {
    "id": "df6dfcf3"
   },
   "source": [
    "Сами по себе TP, FP, TN, FN говорят не очень многое, но **они могут быть использованы в комбинации**, и из них получают множество других метрик."
   ]
  },
  {
   "cell_type": "markdown",
   "id": "70b4b262",
   "metadata": {
    "id": "70b4b262"
   },
   "source": [
    "### Метрика precision (точность v2.0)"
   ]
  },
  {
   "cell_type": "markdown",
   "id": "3345f239",
   "metadata": {
    "id": "3345f239"
   },
   "source": [
    "Да, по-русски она тоже называется \"точность\". Эта метрика отражает, **сколько положительных предсказаний были правильными**."
   ]
  },
  {
   "cell_type": "markdown",
   "id": "03199bea",
   "metadata": {
    "id": "03199bea"
   },
   "source": [
    "$$precision = \\dfrac{TP}{TP + FP}$$"
   ]
  },
  {
   "cell_type": "code",
   "execution_count": 41,
   "id": "6a7a389c",
   "metadata": {
    "id": "6a7a389c"
   },
   "outputs": [],
   "source": [
    "from sklearn.metrics import precision_score"
   ]
  },
  {
   "cell_type": "code",
   "execution_count": 42,
   "id": "fc567ed4",
   "metadata": {
    "colab": {
     "base_uri": "https://localhost:8080/"
    },
    "id": "fc567ed4",
    "outputId": "a164ad3b-acb8-40be-a35c-ae5913247ce3"
   },
   "outputs": [
    {
     "data": {
      "text/plain": [
       "0.9108527131782945"
      ]
     },
     "execution_count": 42,
     "metadata": {},
     "output_type": "execute_result"
    }
   ],
   "source": [
    "precision_score(y_true=y_train, y_pred=y_train_pred)"
   ]
  },
  {
   "cell_type": "code",
   "execution_count": null,
   "id": "6d6abdff",
   "metadata": {
    "colab": {
     "base_uri": "https://localhost:8080/"
    },
    "id": "6d6abdff",
    "outputId": "da199333-916b-440f-beda-cc70a616e79f"
   },
   "outputs": [
    {
     "data": {
      "text/plain": [
       "0.8968253968253969"
      ]
     },
     "execution_count": 40,
     "metadata": {},
     "output_type": "execute_result"
    }
   ],
   "source": [
    "precision_score(y_true=y_test, y_pred=y_test_pred)"
   ]
  },
  {
   "cell_type": "markdown",
   "id": "49fb27e9",
   "metadata": {
    "id": "49fb27e9"
   },
   "source": [
    "Если положительный класс предсказывается очень редко, то метрика становится неинформативна."
   ]
  },
  {
   "cell_type": "code",
   "execution_count": 43,
   "id": "e083e882",
   "metadata": {
    "colab": {
     "base_uri": "https://localhost:8080/"
    },
    "id": "e083e882",
    "outputId": "014b8fdf-3058-4feb-9676-3274c4882009"
   },
   "outputs": [
    {
     "data": {
      "text/plain": [
       "1.0"
      ]
     },
     "execution_count": 43,
     "metadata": {},
     "output_type": "execute_result"
    }
   ],
   "source": [
    "import numpy as np\n",
    "\n",
    "dummy_y = np.zeros(1000)\n",
    "dummy_y[:50] = 1\n",
    "dummy_y_pred = np.zeros(1000)\n",
    "dummy_y_pred[0] = 1\n",
    "\n",
    "precision_score(y_true=dummy_y, y_pred=dummy_y_pred)"
   ]
  },
  {
   "cell_type": "markdown",
   "id": "2e1fb27a",
   "metadata": {
    "id": "2e1fb27a"
   },
   "source": [
    "### Метрика recall (sensitivity, чувствительность)"
   ]
  },
  {
   "cell_type": "markdown",
   "id": "4f215cfc",
   "metadata": {
    "id": "4f215cfc"
   },
   "source": [
    "Эта метрика показывает, **сколько положительных образцов были определены правильно**."
   ]
  },
  {
   "cell_type": "markdown",
   "id": "486bc249",
   "metadata": {
    "id": "486bc249"
   },
   "source": [
    "$$recall = \\dfrac{TP}{TP + FN}$$"
   ]
  },
  {
   "cell_type": "code",
   "execution_count": 45,
   "id": "89be02ff",
   "metadata": {
    "id": "89be02ff"
   },
   "outputs": [],
   "source": [
    "from sklearn.metrics import recall_score"
   ]
  },
  {
   "cell_type": "code",
   "execution_count": null,
   "id": "bef9f466",
   "metadata": {
    "colab": {
     "base_uri": "https://localhost:8080/"
    },
    "id": "bef9f466",
    "outputId": "922b1362-970d-4973-acb7-b8b4fd87b3e1"
   },
   "outputs": [
    {
     "data": {
      "text/plain": [
       "0.9670781893004116"
      ]
     },
     "execution_count": 43,
     "metadata": {},
     "output_type": "execute_result"
    }
   ],
   "source": [
    "recall_score(y_true=y_train, y_pred=y_train_pred)"
   ]
  },
  {
   "cell_type": "code",
   "execution_count": null,
   "id": "9c8773f2",
   "metadata": {
    "colab": {
     "base_uri": "https://localhost:8080/"
    },
    "id": "9c8773f2",
    "outputId": "6590c55e-7a66-4d1c-de5c-aed2dfb85fba"
   },
   "outputs": [
    {
     "data": {
      "text/plain": [
       "0.9912280701754386"
      ]
     },
     "execution_count": 44,
     "metadata": {},
     "output_type": "execute_result"
    }
   ],
   "source": [
    "recall_score(y_true=y_test, y_pred=y_test_pred)"
   ]
  },
  {
   "cell_type": "markdown",
   "id": "78c6c426",
   "metadata": {
    "id": "78c6c426"
   },
   "source": [
    "Если положительный класс предсказывается очень редко, то метрика это хорошо иллюстрирует."
   ]
  },
  {
   "cell_type": "code",
   "execution_count": 46,
   "id": "f40bf716",
   "metadata": {
    "id": "f40bf716",
    "outputId": "a53ba783-3f8f-4f27-dda1-b3a99a8828ea"
   },
   "outputs": [
    {
     "data": {
      "text/plain": [
       "0.02"
      ]
     },
     "execution_count": 46,
     "metadata": {},
     "output_type": "execute_result"
    }
   ],
   "source": [
    "import numpy as np\n",
    "\n",
    "dummy_y = np.zeros(1000)\n",
    "dummy_y[:50] = 1\n",
    "dummy_y_pred = np.zeros(1000)\n",
    "dummy_y_pred[0] = 1\n",
    "\n",
    "recall_score(y_true=dummy_y, y_pred=dummy_y_pred)"
   ]
  },
  {
   "cell_type": "markdown",
   "id": "c7213c40",
   "metadata": {
    "id": "c7213c40"
   },
   "source": [
    "...зато наоборот - плохо."
   ]
  },
  {
   "cell_type": "code",
   "execution_count": null,
   "id": "767da53b",
   "metadata": {
    "id": "767da53b",
    "outputId": "4ed7f453-ca1a-4962-a6ed-2fc743ea2faa"
   },
   "outputs": [
    {
     "data": {
      "text/plain": [
       "0.98"
      ]
     },
     "execution_count": 30,
     "metadata": {},
     "output_type": "execute_result"
    }
   ],
   "source": [
    "import numpy as np\n",
    "\n",
    "dummy_y = np.zeros(1000)\n",
    "dummy_y[:50] = 1\n",
    "dummy_y_pred = np.ones(1000)  # now all predictions are = 1\n",
    "dummy_y_pred[0] = 0\n",
    "\n",
    "recall_score(y_true=dummy_y, y_pred=dummy_y_pred)"
   ]
  },
  {
   "cell_type": "markdown",
   "id": "bd6071eb",
   "metadata": {
    "id": "bd6071eb"
   },
   "source": [
    "### Метрика specificity (специфичность)"
   ]
  },
  {
   "cell_type": "markdown",
   "id": "ffbe1956",
   "metadata": {
    "id": "ffbe1956"
   },
   "source": [
    "Эта метрика показывает, **сколько отрицательных образцов были определены правильно**."
   ]
  },
  {
   "cell_type": "markdown",
   "id": "1c965bc5",
   "metadata": {
    "id": "1c965bc5"
   },
   "source": [
    "$$specificity = \\dfrac{TN}{TN + FP}$$"
   ]
  },
  {
   "cell_type": "markdown",
   "id": "2066b7ad",
   "metadata": {
    "id": "2066b7ad"
   },
   "source": [
    "Фактически это **recall для негативного класса**."
   ]
  },
  {
   "cell_type": "code",
   "execution_count": null,
   "id": "8e05cf55",
   "metadata": {
    "colab": {
     "base_uri": "https://localhost:8080/",
     "height": 331
    },
    "id": "8e05cf55",
    "outputId": "1b50841c-b88d-4f6c-eca6-f9fc97a090ad"
   },
   "outputs": [
    {
     "ename": "ImportError",
     "errorDetails": {
      "actions": [
       {
        "action": "open_url",
        "actionText": "Open Examples",
        "url": "/notebooks/snippets/importing_libraries.ipynb"
       }
      ]
     },
     "evalue": "cannot import name 'specificity_score' from 'sklearn.metrics' (/usr/local/lib/python3.10/dist-packages/sklearn/metrics/__init__.py)",
     "output_type": "error",
     "traceback": [
      "\u001b[0;31m---------------------------------------------------------------------------\u001b[0m",
      "\u001b[0;31mImportError\u001b[0m                               Traceback (most recent call last)",
      "\u001b[0;32m<ipython-input-45-c9b5e9266fa3>\u001b[0m in \u001b[0;36m<cell line: 1>\u001b[0;34m()\u001b[0m\n\u001b[0;32m----> 1\u001b[0;31m \u001b[0;32mfrom\u001b[0m \u001b[0msklearn\u001b[0m\u001b[0;34m.\u001b[0m\u001b[0mmetrics\u001b[0m \u001b[0;32mimport\u001b[0m \u001b[0mspecificity_score\u001b[0m\u001b[0;34m\u001b[0m\u001b[0;34m\u001b[0m\u001b[0m\n\u001b[0m",
      "\u001b[0;31mImportError\u001b[0m: cannot import name 'specificity_score' from 'sklearn.metrics' (/usr/local/lib/python3.10/dist-packages/sklearn/metrics/__init__.py)",
      "",
      "\u001b[0;31m---------------------------------------------------------------------------\u001b[0;32m\nNOTE: If your import is failing due to a missing package, you can\nmanually install dependencies using either !pip or !apt.\n\nTo view examples of installing some common dependencies, click the\n\"Open Examples\" button below.\n\u001b[0;31m---------------------------------------------------------------------------\u001b[0m\n"
     ]
    }
   ],
   "source": [
    "from sklearn.metrics import specificity_score"
   ]
  },
  {
   "cell_type": "markdown",
   "id": "7dd879a0",
   "metadata": {
    "id": "7dd879a0"
   },
   "source": [
    "В scikit-learn нет функции для расчета этой метрики."
   ]
  },
  {
   "cell_type": "markdown",
   "id": "c178f00e",
   "metadata": {
    "id": "c178f00e"
   },
   "source": [
    "Как мы видим, перечисленные метрики (precision, recall, specificity) пользуются только частью матрицы ошибок. Следующие метрики пытаются исправить этот недостаток."
   ]
  },
  {
   "cell_type": "markdown",
   "id": "d098174f",
   "metadata": {
    "id": "d098174f"
   },
   "source": [
    "### F1-score"
   ]
  },
  {
   "cell_type": "markdown",
   "id": "2ecf8739",
   "metadata": {
    "id": "2ecf8739"
   },
   "source": [
    "Метрика F1 - это **среднее гармоническое precision и recall**."
   ]
  },
  {
   "cell_type": "markdown",
   "id": "1125d7ed",
   "metadata": {
    "id": "1125d7ed"
   },
   "source": [
    "$$F1 = \\dfrac{2}{\\dfrac{1}{recall} + \\dfrac{1}{precision}}$$"
   ]
  },
  {
   "cell_type": "code",
   "execution_count": 47,
   "id": "6e963fb0",
   "metadata": {
    "id": "6e963fb0"
   },
   "outputs": [],
   "source": [
    "from sklearn.metrics import f1_score"
   ]
  },
  {
   "cell_type": "code",
   "execution_count": 48,
   "id": "c3eec1ad",
   "metadata": {
    "colab": {
     "base_uri": "https://localhost:8080/"
    },
    "id": "c3eec1ad",
    "outputId": "03622f73-a16f-445b-9f41-1f1f22335cd9"
   },
   "outputs": [
    {
     "data": {
      "text/plain": [
       "0.93812375249501"
      ]
     },
     "execution_count": 48,
     "metadata": {},
     "output_type": "execute_result"
    }
   ],
   "source": [
    "f1_score(y_true=y_train, y_pred=y_train_pred)"
   ]
  },
  {
   "cell_type": "code",
   "execution_count": 49,
   "id": "acf2a359",
   "metadata": {
    "colab": {
     "base_uri": "https://localhost:8080/"
    },
    "id": "acf2a359",
    "outputId": "6c8fa99f-3880-450a-ae22-5e5182a4e5be"
   },
   "outputs": [
    {
     "data": {
      "text/plain": [
       "0.9416666666666667"
      ]
     },
     "execution_count": 49,
     "metadata": {},
     "output_type": "execute_result"
    }
   ],
   "source": [
    "f1_score(y_true=y_test, y_pred=y_test_pred)"
   ]
  },
  {
   "cell_type": "markdown",
   "id": "3c3147a3",
   "metadata": {
    "id": "3c3147a3"
   },
   "source": [
    "В обоих вырожденных случаях предсказания F1 ловит проблему (дает низкое качество)."
   ]
  },
  {
   "cell_type": "code",
   "execution_count": 50,
   "id": "5ae43757",
   "metadata": {
    "colab": {
     "base_uri": "https://localhost:8080/"
    },
    "id": "5ae43757",
    "outputId": "68d5eb5c-1bf3-4120-a52e-244380e036c2"
   },
   "outputs": [
    {
     "data": {
      "text/plain": [
       "0.0392156862745098"
      ]
     },
     "execution_count": 50,
     "metadata": {},
     "output_type": "execute_result"
    }
   ],
   "source": [
    "import numpy as np\n",
    "\n",
    "dummy_y = np.zeros(1000)\n",
    "dummy_y[:50] = 1\n",
    "dummy_y_pred = np.zeros(1000)\n",
    "dummy_y_pred[0] = 1\n",
    "\n",
    "f1_score(y_true=dummy_y, y_pred=dummy_y_pred)"
   ]
  },
  {
   "cell_type": "code",
   "execution_count": null,
   "id": "cc720d2b",
   "metadata": {
    "colab": {
     "base_uri": "https://localhost:8080/"
    },
    "id": "cc720d2b",
    "outputId": "8f7ba862-b69a-4ba3-ce59-75abc7a7708f"
   },
   "outputs": [
    {
     "data": {
      "text/plain": [
       "0.09342230695900858"
      ]
     },
     "execution_count": 49,
     "metadata": {},
     "output_type": "execute_result"
    }
   ],
   "source": [
    "import numpy as np\n",
    "\n",
    "dummy_y = np.zeros(1000)\n",
    "dummy_y[:50] = 1\n",
    "dummy_y_pred = np.ones(1000)  # now all predictions are = 1\n",
    "dummy_y_pred[0] = 0\n",
    "\n",
    "f1_score(y_true=dummy_y, y_pred=dummy_y_pred)"
   ]
  },
  {
   "cell_type": "markdown",
   "id": "ed95fc45",
   "metadata": {
    "id": "ed95fc45"
   },
   "source": [
    "### Метрика MCC (корреляция Мэтьюса)"
   ]
  },
  {
   "cell_type": "markdown",
   "id": "a83d55ed",
   "metadata": {
    "id": "a83d55ed"
   },
   "source": [
    "Метрика MCC (Matthews correlation coefficient) - это **коэффициент корреляции для бинарных величин**."
   ]
  },
  {
   "cell_type": "markdown",
   "id": "a26db5d7",
   "metadata": {
    "id": "a26db5d7"
   },
   "source": [
    "В начале 2020 года вышла [статья](https://bmcgenomics.biomedcentral.com/articles/10.1186/s12864-019-6413-7), где предлагается использовать для оценки качества классификатора корреляцию Мэтьюса.\n",
    "\n",
    "Авторы утверждают, что она работает лучше, чем  F1-score."
   ]
  },
  {
   "cell_type": "code",
   "execution_count": 51,
   "id": "a97c5bc1",
   "metadata": {
    "id": "a97c5bc1"
   },
   "outputs": [],
   "source": [
    "from sklearn.metrics import matthews_corrcoef"
   ]
  },
  {
   "cell_type": "code",
   "execution_count": 52,
   "id": "0230abb5",
   "metadata": {
    "colab": {
     "base_uri": "https://localhost:8080/"
    },
    "id": "0230abb5",
    "outputId": "50b76e47-d295-4eea-d289-650590ff8996"
   },
   "outputs": [
    {
     "data": {
      "text/plain": [
       "0.8360171378255667"
      ]
     },
     "execution_count": 52,
     "metadata": {},
     "output_type": "execute_result"
    }
   ],
   "source": [
    "matthews_corrcoef(y_true=y_train, y_pred=y_train_pred)"
   ]
  },
  {
   "cell_type": "code",
   "execution_count": 53,
   "id": "4a1d9533",
   "metadata": {
    "colab": {
     "base_uri": "https://localhost:8080/"
    },
    "id": "4a1d9533",
    "outputId": "f6e62683-785a-4db1-eac8-ec39ec057468"
   },
   "outputs": [
    {
     "data": {
      "text/plain": [
       "0.816982446237566"
      ]
     },
     "execution_count": 53,
     "metadata": {},
     "output_type": "execute_result"
    }
   ],
   "source": [
    "matthews_corrcoef(y_true=y_test, y_pred=y_test_pred)"
   ]
  },
  {
   "cell_type": "markdown",
   "id": "7a29f6e1",
   "metadata": {
    "id": "7a29f6e1"
   },
   "source": [
    "Замечательно то, что MCC симметричен относительно класса."
   ]
  },
  {
   "cell_type": "code",
   "execution_count": 54,
   "id": "d38a74f0",
   "metadata": {
    "colab": {
     "base_uri": "https://localhost:8080/"
    },
    "id": "d38a74f0",
    "outputId": "414350e5-0912-4141-beb5-198afe94a053"
   },
   "outputs": [
    {
     "data": {
      "text/plain": [
       "0.13790945949795835"
      ]
     },
     "execution_count": 54,
     "metadata": {},
     "output_type": "execute_result"
    }
   ],
   "source": [
    "import numpy as np\n",
    "\n",
    "dummy_y = np.zeros(1000)\n",
    "dummy_y[:50] = 1\n",
    "dummy_y_pred = np.zeros(1000)\n",
    "dummy_y_pred[0] = 1\n",
    "\n",
    "matthews_corrcoef(y_true=dummy_y, y_pred=dummy_y_pred)"
   ]
  },
  {
   "cell_type": "code",
   "execution_count": 55,
   "id": "0b8d809f",
   "metadata": {
    "colab": {
     "base_uri": "https://localhost:8080/"
    },
    "id": "0b8d809f",
    "outputId": "059ce12e-f79e-4a66-8ebc-fc0815fc201c"
   },
   "outputs": [
    {
     "data": {
      "text/plain": [
       "-0.13790945949795835"
      ]
     },
     "execution_count": 55,
     "metadata": {},
     "output_type": "execute_result"
    }
   ],
   "source": [
    "import numpy as np\n",
    "\n",
    "dummy_y = np.zeros(1000)\n",
    "dummy_y[:50] = 1\n",
    "dummy_y_pred = np.ones(1000)  # now all predictions are = 1\n",
    "dummy_y_pred[0] = 0\n",
    "\n",
    "matthews_corrcoef(y_true=dummy_y, y_pred=dummy_y_pred)"
   ]
  },
  {
   "cell_type": "markdown",
   "id": "204ffdc2",
   "metadata": {
    "id": "204ffdc2"
   },
   "source": [
    "### Classification report"
   ]
  },
  {
   "cell_type": "markdown",
   "id": "ff452117",
   "metadata": {
    "id": "ff452117"
   },
   "source": [
    "В sklearn есть замечательная возможность посмотреть быструю сводку различных метрик."
   ]
  },
  {
   "cell_type": "code",
   "execution_count": 56,
   "id": "8abfe625",
   "metadata": {
    "id": "8abfe625"
   },
   "outputs": [],
   "source": [
    "from sklearn.metrics import classification_report"
   ]
  },
  {
   "cell_type": "code",
   "execution_count": 57,
   "id": "880c2965",
   "metadata": {
    "colab": {
     "base_uri": "https://localhost:8080/"
    },
    "id": "880c2965",
    "outputId": "aad98e22-17e4-4e97-96ba-09eddd5b9503"
   },
   "outputs": [
    {
     "name": "stdout",
     "output_type": "stream",
     "text": [
      "              precision    recall  f1-score   support\n",
      "\n",
      "           0       0.94      0.85      0.89       155\n",
      "           1       0.91      0.97      0.94       243\n",
      "\n",
      "    accuracy                           0.92       398\n",
      "   macro avg       0.93      0.91      0.92       398\n",
      "weighted avg       0.92      0.92      0.92       398\n",
      "\n"
     ]
    }
   ],
   "source": [
    "print(classification_report(y_true=y_train, y_pred=y_train_pred))"
   ]
  },
  {
   "cell_type": "code",
   "execution_count": 58,
   "id": "e7dcbedd",
   "metadata": {
    "colab": {
     "base_uri": "https://localhost:8080/"
    },
    "id": "e7dcbedd",
    "outputId": "cd887d35-0981-433f-9fad-e5eda3b19715"
   },
   "outputs": [
    {
     "name": "stdout",
     "output_type": "stream",
     "text": [
      "              precision    recall  f1-score   support\n",
      "\n",
      "           0       0.98      0.77      0.86        57\n",
      "           1       0.90      0.99      0.94       114\n",
      "\n",
      "    accuracy                           0.92       171\n",
      "   macro avg       0.94      0.88      0.90       171\n",
      "weighted avg       0.92      0.92      0.92       171\n",
      "\n"
     ]
    }
   ],
   "source": [
    "print(classification_report(y_true=y_test, y_pred=y_test_pred))"
   ]
  },
  {
   "cell_type": "code",
   "execution_count": null,
   "id": "3e2889e4-7451-4452-87a5-25f06313d230",
   "metadata": {},
   "outputs": [],
   "source": []
  }
 ],
 "metadata": {
  "celltoolbar": "Slideshow",
  "colab": {
   "include_colab_link": true,
   "provenance": []
  },
  "kernelspec": {
   "display_name": "Python 3 (ipykernel)",
   "language": "python",
   "name": "python3"
  },
  "language_info": {
   "codemirror_mode": {
    "name": "ipython",
    "version": 3
   },
   "file_extension": ".py",
   "mimetype": "text/x-python",
   "name": "python",
   "nbconvert_exporter": "python",
   "pygments_lexer": "ipython3",
   "version": "3.12.6"
  }
 },
 "nbformat": 4,
 "nbformat_minor": 5
}

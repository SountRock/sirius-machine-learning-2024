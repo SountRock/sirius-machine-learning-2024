{
 "cells": [
  {
   "cell_type": "markdown",
   "id": "d195407a",
   "metadata": {
    "colab_type": "text",
    "id": "view-in-github"
   },
   "source": [
    "<a href=\"https://colab.research.google.com/github/Existanze54/sirius-machine-learning-2024/blob/main/Seminars/S2_kNN.ipynb\" target=\"_parent\"><img src=\"https://colab.research.google.com/assets/colab-badge.svg\" alt=\"Open In Colab\"/></a>"
   ]
  },
  {
   "cell_type": "markdown",
   "id": "bb9cd518-2ed8-495f-bea5-6c1c701708c6",
   "metadata": {
    "id": "bb9cd518-2ed8-495f-bea5-6c1c701708c6"
   },
   "source": [
    "# Оновные алгоритмы ML\n",
    "\n",
    "### Семинар 2: Метод kNN. Разбиение данных. Метрики качества.\n",
    "#### Учимся на геномных эмбеддингах. Работа с веществами в Python. Классификация веществ и проблемы разбиения их на обучение и тест."
   ]
  },
  {
   "cell_type": "code",
   "execution_count": 20,
   "id": "654ff1e0-8eac-452c-a57e-66501bb1a884",
   "metadata": {
    "id": "654ff1e0-8eac-452c-a57e-66501bb1a884"
   },
   "outputs": [],
   "source": [
    "import numpy as np\n",
    "import pandas as pd\n",
    "\n",
    "import matplotlib.pyplot as plt\n",
    "import seaborn as sns\n",
    "\n",
    "sns.set()\n",
    "sns.set_style(\"whitegrid\")"
   ]
  },
  {
   "cell_type": "markdown",
   "id": "52rEgXCz_YXo",
   "metadata": {
    "id": "52rEgXCz_YXo"
   },
   "source": [
    "### Задача 1: Предсказание рака молочной железы"
   ]
  },
  {
   "cell_type": "markdown",
   "id": "_DNBTbVC_YXp",
   "metadata": {
    "id": "_DNBTbVC_YXp"
   },
   "source": [
    "В этой задаче предлагается произвести предсказание рака молочной железы на известном <a href=\"https://archive.ics.uci.edu/ml/datasets/Breast+Cancer+Wisconsin+(Diagnostic)\">датасете</a> UCI ML Breast Cancer Wisconsin (Diagnostic) dataset."
   ]
  },
  {
   "cell_type": "code",
   "execution_count": 6,
   "id": "unHtz8tw_YXp",
   "metadata": {
    "id": "unHtz8tw_YXp"
   },
   "outputs": [],
   "source": [
    "from sklearn.datasets import load_breast_cancer\n",
    "data = load_breast_cancer(as_frame=True)"
   ]
  },
  {
   "cell_type": "code",
   "execution_count": 4,
   "id": "S2tmzCyJYhys",
   "metadata": {
    "id": "S2tmzCyJYhys"
   },
   "outputs": [
    {
     "name": "stdout",
     "output_type": "stream",
     "text": [
      ".. _breast_cancer_dataset:\n",
      "\n",
      "Breast cancer wisconsin (diagnostic) dataset\n",
      "--------------------------------------------\n",
      "\n",
      "**Data Set Characteristics:**\n",
      "\n",
      ":Number of Instances: 569\n",
      "\n",
      ":Number of Attributes: 30 numeric, predictive attributes and the class\n",
      "\n",
      ":Attribute Information:\n",
      "    - radius (mean of distances from center to points on the perimeter)\n",
      "    - texture (standard deviation of gray-scale values)\n",
      "    - perimeter\n",
      "    - area\n",
      "    - smoothness (local variation in radius lengths)\n",
      "    - compactness (perimeter^2 / area - 1.0)\n",
      "    - concavity (severity of concave portions of the contour)\n",
      "    - concave points (number of concave portions of the contour)\n",
      "    - symmetry\n",
      "    - fractal dimension (\"coastline approximation\" - 1)\n",
      "\n",
      "    The mean, standard error, and \"worst\" or largest (mean of the three\n",
      "    worst/largest values) of these features were computed for each image,\n",
      "    resulting in 30 features.  For instance, field 0 is Mean Radius, field\n",
      "    10 is Radius SE, field 20 is Worst Radius.\n",
      "\n",
      "    - class:\n",
      "            - WDBC-Malignant\n",
      "            - WDBC-Benign\n",
      "\n",
      ":Summary Statistics:\n",
      "\n",
      "===================================== ====== ======\n",
      "                                        Min    Max\n",
      "===================================== ====== ======\n",
      "radius (mean):                        6.981  28.11\n",
      "texture (mean):                       9.71   39.28\n",
      "perimeter (mean):                     43.79  188.5\n",
      "area (mean):                          143.5  2501.0\n",
      "smoothness (mean):                    0.053  0.163\n",
      "compactness (mean):                   0.019  0.345\n",
      "concavity (mean):                     0.0    0.427\n",
      "concave points (mean):                0.0    0.201\n",
      "symmetry (mean):                      0.106  0.304\n",
      "fractal dimension (mean):             0.05   0.097\n",
      "radius (standard error):              0.112  2.873\n",
      "texture (standard error):             0.36   4.885\n",
      "perimeter (standard error):           0.757  21.98\n",
      "area (standard error):                6.802  542.2\n",
      "smoothness (standard error):          0.002  0.031\n",
      "compactness (standard error):         0.002  0.135\n",
      "concavity (standard error):           0.0    0.396\n",
      "concave points (standard error):      0.0    0.053\n",
      "symmetry (standard error):            0.008  0.079\n",
      "fractal dimension (standard error):   0.001  0.03\n",
      "radius (worst):                       7.93   36.04\n",
      "texture (worst):                      12.02  49.54\n",
      "perimeter (worst):                    50.41  251.2\n",
      "area (worst):                         185.2  4254.0\n",
      "smoothness (worst):                   0.071  0.223\n",
      "compactness (worst):                  0.027  1.058\n",
      "concavity (worst):                    0.0    1.252\n",
      "concave points (worst):               0.0    0.291\n",
      "symmetry (worst):                     0.156  0.664\n",
      "fractal dimension (worst):            0.055  0.208\n",
      "===================================== ====== ======\n",
      "\n",
      ":Missing Attribute Values: None\n",
      "\n",
      ":Class Distribution: 212 - Malignant, 357 - Benign\n",
      "\n",
      ":Creator:  Dr. William H. Wolberg, W. Nick Street, Olvi L. Mangasarian\n",
      "\n",
      ":Donor: Nick Street\n",
      "\n",
      ":Date: November, 1995\n",
      "\n",
      "This is a copy of UCI ML Breast Cancer Wisconsin (Diagnostic) datasets.\n",
      "https://goo.gl/U2Uwz2\n",
      "\n",
      "Features are computed from a digitized image of a fine needle\n",
      "aspirate (FNA) of a breast mass.  They describe\n",
      "characteristics of the cell nuclei present in the image.\n",
      "\n",
      "Separating plane described above was obtained using\n",
      "Multisurface Method-Tree (MSM-T) [K. P. Bennett, \"Decision Tree\n",
      "Construction Via Linear Programming.\" Proceedings of the 4th\n",
      "Midwest Artificial Intelligence and Cognitive Science Society,\n",
      "pp. 97-101, 1992], a classification method which uses linear\n",
      "programming to construct a decision tree.  Relevant features\n",
      "were selected using an exhaustive search in the space of 1-4\n",
      "features and 1-3 separating planes.\n",
      "\n",
      "The actual linear program used to obtain the separating plane\n",
      "in the 3-dimensional space is that described in:\n",
      "[K. P. Bennett and O. L. Mangasarian: \"Robust Linear\n",
      "Programming Discrimination of Two Linearly Inseparable Sets\",\n",
      "Optimization Methods and Software 1, 1992, 23-34].\n",
      "\n",
      "This database is also available through the UW CS ftp server:\n",
      "\n",
      "ftp ftp.cs.wisc.edu\n",
      "cd math-prog/cpo-dataset/machine-learn/WDBC/\n",
      "\n",
      ".. dropdown:: References\n",
      "\n",
      "  - W.N. Street, W.H. Wolberg and O.L. Mangasarian. Nuclear feature extraction\n",
      "    for breast tumor diagnosis. IS&T/SPIE 1993 International Symposium on\n",
      "    Electronic Imaging: Science and Technology, volume 1905, pages 861-870,\n",
      "    San Jose, CA, 1993.\n",
      "  - O.L. Mangasarian, W.N. Street and W.H. Wolberg. Breast cancer diagnosis and\n",
      "    prognosis via linear programming. Operations Research, 43(4), pages 570-577,\n",
      "    July-August 1995.\n",
      "  - W.H. Wolberg, W.N. Street, and O.L. Mangasarian. Machine learning techniques\n",
      "    to diagnose breast cancer from fine-needle aspirates. Cancer Letters 77 (1994)\n",
      "    163-171.\n",
      "\n"
     ]
    }
   ],
   "source": [
    "print(data.DESCR)"
   ]
  },
  {
   "cell_type": "markdown",
   "id": "REePt06v_YXq",
   "metadata": {
    "id": "REePt06v_YXq"
   },
   "source": [
    "Датасет загружен за вас, определены `X` и `y`."
   ]
  },
  {
   "cell_type": "code",
   "execution_count": 7,
   "id": "TWpkugD0_YXq",
   "metadata": {
    "colab": {
     "base_uri": "https://localhost:8080/",
     "height": 272
    },
    "id": "TWpkugD0_YXq",
    "outputId": "3a646f08-ff6d-414f-a8fb-29c067944202"
   },
   "outputs": [
    {
     "data": {
      "text/html": [
       "<div>\n",
       "<style scoped>\n",
       "    .dataframe tbody tr th:only-of-type {\n",
       "        vertical-align: middle;\n",
       "    }\n",
       "\n",
       "    .dataframe tbody tr th {\n",
       "        vertical-align: top;\n",
       "    }\n",
       "\n",
       "    .dataframe thead th {\n",
       "        text-align: right;\n",
       "    }\n",
       "</style>\n",
       "<table border=\"1\" class=\"dataframe\">\n",
       "  <thead>\n",
       "    <tr style=\"text-align: right;\">\n",
       "      <th></th>\n",
       "      <th>mean radius</th>\n",
       "      <th>mean texture</th>\n",
       "      <th>mean perimeter</th>\n",
       "      <th>mean area</th>\n",
       "      <th>mean smoothness</th>\n",
       "      <th>mean compactness</th>\n",
       "      <th>mean concavity</th>\n",
       "      <th>mean concave points</th>\n",
       "      <th>mean symmetry</th>\n",
       "      <th>mean fractal dimension</th>\n",
       "      <th>...</th>\n",
       "      <th>worst radius</th>\n",
       "      <th>worst texture</th>\n",
       "      <th>worst perimeter</th>\n",
       "      <th>worst area</th>\n",
       "      <th>worst smoothness</th>\n",
       "      <th>worst compactness</th>\n",
       "      <th>worst concavity</th>\n",
       "      <th>worst concave points</th>\n",
       "      <th>worst symmetry</th>\n",
       "      <th>worst fractal dimension</th>\n",
       "    </tr>\n",
       "  </thead>\n",
       "  <tbody>\n",
       "    <tr>\n",
       "      <th>0</th>\n",
       "      <td>17.99</td>\n",
       "      <td>10.38</td>\n",
       "      <td>122.8</td>\n",
       "      <td>1001.0</td>\n",
       "      <td>0.11840</td>\n",
       "      <td>0.27760</td>\n",
       "      <td>0.3001</td>\n",
       "      <td>0.14710</td>\n",
       "      <td>0.2419</td>\n",
       "      <td>0.07871</td>\n",
       "      <td>...</td>\n",
       "      <td>25.38</td>\n",
       "      <td>17.33</td>\n",
       "      <td>184.6</td>\n",
       "      <td>2019.0</td>\n",
       "      <td>0.1622</td>\n",
       "      <td>0.6656</td>\n",
       "      <td>0.7119</td>\n",
       "      <td>0.2654</td>\n",
       "      <td>0.4601</td>\n",
       "      <td>0.11890</td>\n",
       "    </tr>\n",
       "    <tr>\n",
       "      <th>1</th>\n",
       "      <td>20.57</td>\n",
       "      <td>17.77</td>\n",
       "      <td>132.9</td>\n",
       "      <td>1326.0</td>\n",
       "      <td>0.08474</td>\n",
       "      <td>0.07864</td>\n",
       "      <td>0.0869</td>\n",
       "      <td>0.07017</td>\n",
       "      <td>0.1812</td>\n",
       "      <td>0.05667</td>\n",
       "      <td>...</td>\n",
       "      <td>24.99</td>\n",
       "      <td>23.41</td>\n",
       "      <td>158.8</td>\n",
       "      <td>1956.0</td>\n",
       "      <td>0.1238</td>\n",
       "      <td>0.1866</td>\n",
       "      <td>0.2416</td>\n",
       "      <td>0.1860</td>\n",
       "      <td>0.2750</td>\n",
       "      <td>0.08902</td>\n",
       "    </tr>\n",
       "    <tr>\n",
       "      <th>2</th>\n",
       "      <td>19.69</td>\n",
       "      <td>21.25</td>\n",
       "      <td>130.0</td>\n",
       "      <td>1203.0</td>\n",
       "      <td>0.10960</td>\n",
       "      <td>0.15990</td>\n",
       "      <td>0.1974</td>\n",
       "      <td>0.12790</td>\n",
       "      <td>0.2069</td>\n",
       "      <td>0.05999</td>\n",
       "      <td>...</td>\n",
       "      <td>23.57</td>\n",
       "      <td>25.53</td>\n",
       "      <td>152.5</td>\n",
       "      <td>1709.0</td>\n",
       "      <td>0.1444</td>\n",
       "      <td>0.4245</td>\n",
       "      <td>0.4504</td>\n",
       "      <td>0.2430</td>\n",
       "      <td>0.3613</td>\n",
       "      <td>0.08758</td>\n",
       "    </tr>\n",
       "  </tbody>\n",
       "</table>\n",
       "<p>3 rows × 30 columns</p>\n",
       "</div>"
      ],
      "text/plain": [
       "   mean radius  mean texture  mean perimeter  mean area  mean smoothness  \\\n",
       "0        17.99         10.38           122.8     1001.0          0.11840   \n",
       "1        20.57         17.77           132.9     1326.0          0.08474   \n",
       "2        19.69         21.25           130.0     1203.0          0.10960   \n",
       "\n",
       "   mean compactness  mean concavity  mean concave points  mean symmetry  \\\n",
       "0           0.27760          0.3001              0.14710         0.2419   \n",
       "1           0.07864          0.0869              0.07017         0.1812   \n",
       "2           0.15990          0.1974              0.12790         0.2069   \n",
       "\n",
       "   mean fractal dimension  ...  worst radius  worst texture  worst perimeter  \\\n",
       "0                 0.07871  ...         25.38          17.33            184.6   \n",
       "1                 0.05667  ...         24.99          23.41            158.8   \n",
       "2                 0.05999  ...         23.57          25.53            152.5   \n",
       "\n",
       "   worst area  worst smoothness  worst compactness  worst concavity  \\\n",
       "0      2019.0            0.1622             0.6656           0.7119   \n",
       "1      1956.0            0.1238             0.1866           0.2416   \n",
       "2      1709.0            0.1444             0.4245           0.4504   \n",
       "\n",
       "   worst concave points  worst symmetry  worst fractal dimension  \n",
       "0                0.2654          0.4601                  0.11890  \n",
       "1                0.1860          0.2750                  0.08902  \n",
       "2                0.2430          0.3613                  0.08758  \n",
       "\n",
       "[3 rows x 30 columns]"
      ]
     },
     "execution_count": 7,
     "metadata": {},
     "output_type": "execute_result"
    }
   ],
   "source": [
    "data['data'].head(3)"
   ]
  },
  {
   "cell_type": "code",
   "execution_count": 8,
   "id": "d2OS8-8k_YXq",
   "metadata": {
    "id": "d2OS8-8k_YXq"
   },
   "outputs": [],
   "source": [
    "X = data['data']\n",
    "y = data['target']"
   ]
  },
  {
   "cell_type": "markdown",
   "id": "weP4l7Qn_YXr",
   "metadata": {
    "id": "weP4l7Qn_YXr"
   },
   "source": [
    "**Разбейте X и y на тренировочную и тестовую выборки**, как в лекции. Соотношение train/test поставьте равным 4:1.\\\n",
    "*Подсказка*: воспользуйтесь функцией `train_test_split`."
   ]
  },
  {
   "cell_type": "code",
   "execution_count": 9,
   "id": "FOCGMCZE_YXr",
   "metadata": {
    "id": "FOCGMCZE_YXr"
   },
   "outputs": [],
   "source": [
    "from sklearn.model_selection import train_test_split\n",
    "\n",
    "X_train, X_test, y_train, y_test = train_test_split(X, y, test_size=0.7, random_state=666)"
   ]
  },
  {
   "cell_type": "markdown",
   "id": "33dmyx-Q_YXr",
   "metadata": {
    "id": "33dmyx-Q_YXr"
   },
   "source": [
    "**Осуществите стандартизацию признаков в выборке**."
   ]
  },
  {
   "cell_type": "code",
   "execution_count": 10,
   "id": "el3uzMob_YXr",
   "metadata": {
    "id": "el3uzMob_YXr"
   },
   "outputs": [
    {
     "data": {
      "text/plain": [
       "'\\nfig, axes = plt.subplots(1,2, figsize=(15,10))\\n\\naxes[0].plot(X_train_temp[:,0], X_train_temp[:,1], \\'b.\\')\\naxes[1].plot(X_train[:,0], X_train[:,1], \\'b.\\')\\naxes[0].set_xlim(axes[1].get_xlim())\\naxes[0].set_title(\"До стандартизации признаков\", size=16)\\naxes[1].set_title(\"После стандартизации\", size=16);\\n'"
      ]
     },
     "execution_count": 10,
     "metadata": {},
     "output_type": "execute_result"
    }
   ],
   "source": [
    "from sklearn.preprocessing import StandardScaler\n",
    "scaler = StandardScaler()\n",
    "\n",
    "scaler.fit(X_train)\n",
    "X_train_temp = X_train\n",
    "X_train = scaler.transform(X_train)\n",
    "X_test = scaler.transform(X_test)\n",
    "'''\n",
    "fig, axes = plt.subplots(1,2, figsize=(15,10))\n",
    "\n",
    "axes[0].plot(X_train_temp[:,0], X_train_temp[:,1], 'b.')\n",
    "axes[1].plot(X_train[:,0], X_train[:,1], 'b.')\n",
    "axes[0].set_xlim(axes[1].get_xlim())\n",
    "axes[0].set_title(\"До стандартизации признаков\", size=16)\n",
    "axes[1].set_title(\"После стандартизации\", size=16);\n",
    "'''"
   ]
  },
  {
   "cell_type": "markdown",
   "id": "617cPhQH_YXr",
   "metadata": {
    "id": "617cPhQH_YXr"
   },
   "source": [
    "**Импортируйте модель классификации k-NN и обучите ее (`model.fit`)**.\\\n",
    "*Вопрос*: на какой части выборки происходит обучение: тренировочной или тестовой?"
   ]
  },
  {
   "cell_type": "code",
   "execution_count": 11,
   "id": "2UHXb9aW_YXr",
   "metadata": {
    "id": "2UHXb9aW_YXr"
   },
   "outputs": [
    {
     "data": {
      "text/html": [
       "<style>#sk-container-id-1 {\n",
       "  /* Definition of color scheme common for light and dark mode */\n",
       "  --sklearn-color-text: black;\n",
       "  --sklearn-color-line: gray;\n",
       "  /* Definition of color scheme for unfitted estimators */\n",
       "  --sklearn-color-unfitted-level-0: #fff5e6;\n",
       "  --sklearn-color-unfitted-level-1: #f6e4d2;\n",
       "  --sklearn-color-unfitted-level-2: #ffe0b3;\n",
       "  --sklearn-color-unfitted-level-3: chocolate;\n",
       "  /* Definition of color scheme for fitted estimators */\n",
       "  --sklearn-color-fitted-level-0: #f0f8ff;\n",
       "  --sklearn-color-fitted-level-1: #d4ebff;\n",
       "  --sklearn-color-fitted-level-2: #b3dbfd;\n",
       "  --sklearn-color-fitted-level-3: cornflowerblue;\n",
       "\n",
       "  /* Specific color for light theme */\n",
       "  --sklearn-color-text-on-default-background: var(--sg-text-color, var(--theme-code-foreground, var(--jp-content-font-color1, black)));\n",
       "  --sklearn-color-background: var(--sg-background-color, var(--theme-background, var(--jp-layout-color0, white)));\n",
       "  --sklearn-color-border-box: var(--sg-text-color, var(--theme-code-foreground, var(--jp-content-font-color1, black)));\n",
       "  --sklearn-color-icon: #696969;\n",
       "\n",
       "  @media (prefers-color-scheme: dark) {\n",
       "    /* Redefinition of color scheme for dark theme */\n",
       "    --sklearn-color-text-on-default-background: var(--sg-text-color, var(--theme-code-foreground, var(--jp-content-font-color1, white)));\n",
       "    --sklearn-color-background: var(--sg-background-color, var(--theme-background, var(--jp-layout-color0, #111)));\n",
       "    --sklearn-color-border-box: var(--sg-text-color, var(--theme-code-foreground, var(--jp-content-font-color1, white)));\n",
       "    --sklearn-color-icon: #878787;\n",
       "  }\n",
       "}\n",
       "\n",
       "#sk-container-id-1 {\n",
       "  color: var(--sklearn-color-text);\n",
       "}\n",
       "\n",
       "#sk-container-id-1 pre {\n",
       "  padding: 0;\n",
       "}\n",
       "\n",
       "#sk-container-id-1 input.sk-hidden--visually {\n",
       "  border: 0;\n",
       "  clip: rect(1px 1px 1px 1px);\n",
       "  clip: rect(1px, 1px, 1px, 1px);\n",
       "  height: 1px;\n",
       "  margin: -1px;\n",
       "  overflow: hidden;\n",
       "  padding: 0;\n",
       "  position: absolute;\n",
       "  width: 1px;\n",
       "}\n",
       "\n",
       "#sk-container-id-1 div.sk-dashed-wrapped {\n",
       "  border: 1px dashed var(--sklearn-color-line);\n",
       "  margin: 0 0.4em 0.5em 0.4em;\n",
       "  box-sizing: border-box;\n",
       "  padding-bottom: 0.4em;\n",
       "  background-color: var(--sklearn-color-background);\n",
       "}\n",
       "\n",
       "#sk-container-id-1 div.sk-container {\n",
       "  /* jupyter's `normalize.less` sets `[hidden] { display: none; }`\n",
       "     but bootstrap.min.css set `[hidden] { display: none !important; }`\n",
       "     so we also need the `!important` here to be able to override the\n",
       "     default hidden behavior on the sphinx rendered scikit-learn.org.\n",
       "     See: https://github.com/scikit-learn/scikit-learn/issues/21755 */\n",
       "  display: inline-block !important;\n",
       "  position: relative;\n",
       "}\n",
       "\n",
       "#sk-container-id-1 div.sk-text-repr-fallback {\n",
       "  display: none;\n",
       "}\n",
       "\n",
       "div.sk-parallel-item,\n",
       "div.sk-serial,\n",
       "div.sk-item {\n",
       "  /* draw centered vertical line to link estimators */\n",
       "  background-image: linear-gradient(var(--sklearn-color-text-on-default-background), var(--sklearn-color-text-on-default-background));\n",
       "  background-size: 2px 100%;\n",
       "  background-repeat: no-repeat;\n",
       "  background-position: center center;\n",
       "}\n",
       "\n",
       "/* Parallel-specific style estimator block */\n",
       "\n",
       "#sk-container-id-1 div.sk-parallel-item::after {\n",
       "  content: \"\";\n",
       "  width: 100%;\n",
       "  border-bottom: 2px solid var(--sklearn-color-text-on-default-background);\n",
       "  flex-grow: 1;\n",
       "}\n",
       "\n",
       "#sk-container-id-1 div.sk-parallel {\n",
       "  display: flex;\n",
       "  align-items: stretch;\n",
       "  justify-content: center;\n",
       "  background-color: var(--sklearn-color-background);\n",
       "  position: relative;\n",
       "}\n",
       "\n",
       "#sk-container-id-1 div.sk-parallel-item {\n",
       "  display: flex;\n",
       "  flex-direction: column;\n",
       "}\n",
       "\n",
       "#sk-container-id-1 div.sk-parallel-item:first-child::after {\n",
       "  align-self: flex-end;\n",
       "  width: 50%;\n",
       "}\n",
       "\n",
       "#sk-container-id-1 div.sk-parallel-item:last-child::after {\n",
       "  align-self: flex-start;\n",
       "  width: 50%;\n",
       "}\n",
       "\n",
       "#sk-container-id-1 div.sk-parallel-item:only-child::after {\n",
       "  width: 0;\n",
       "}\n",
       "\n",
       "/* Serial-specific style estimator block */\n",
       "\n",
       "#sk-container-id-1 div.sk-serial {\n",
       "  display: flex;\n",
       "  flex-direction: column;\n",
       "  align-items: center;\n",
       "  background-color: var(--sklearn-color-background);\n",
       "  padding-right: 1em;\n",
       "  padding-left: 1em;\n",
       "}\n",
       "\n",
       "\n",
       "/* Toggleable style: style used for estimator/Pipeline/ColumnTransformer box that is\n",
       "clickable and can be expanded/collapsed.\n",
       "- Pipeline and ColumnTransformer use this feature and define the default style\n",
       "- Estimators will overwrite some part of the style using the `sk-estimator` class\n",
       "*/\n",
       "\n",
       "/* Pipeline and ColumnTransformer style (default) */\n",
       "\n",
       "#sk-container-id-1 div.sk-toggleable {\n",
       "  /* Default theme specific background. It is overwritten whether we have a\n",
       "  specific estimator or a Pipeline/ColumnTransformer */\n",
       "  background-color: var(--sklearn-color-background);\n",
       "}\n",
       "\n",
       "/* Toggleable label */\n",
       "#sk-container-id-1 label.sk-toggleable__label {\n",
       "  cursor: pointer;\n",
       "  display: block;\n",
       "  width: 100%;\n",
       "  margin-bottom: 0;\n",
       "  padding: 0.5em;\n",
       "  box-sizing: border-box;\n",
       "  text-align: center;\n",
       "}\n",
       "\n",
       "#sk-container-id-1 label.sk-toggleable__label-arrow:before {\n",
       "  /* Arrow on the left of the label */\n",
       "  content: \"▸\";\n",
       "  float: left;\n",
       "  margin-right: 0.25em;\n",
       "  color: var(--sklearn-color-icon);\n",
       "}\n",
       "\n",
       "#sk-container-id-1 label.sk-toggleable__label-arrow:hover:before {\n",
       "  color: var(--sklearn-color-text);\n",
       "}\n",
       "\n",
       "/* Toggleable content - dropdown */\n",
       "\n",
       "#sk-container-id-1 div.sk-toggleable__content {\n",
       "  max-height: 0;\n",
       "  max-width: 0;\n",
       "  overflow: hidden;\n",
       "  text-align: left;\n",
       "  /* unfitted */\n",
       "  background-color: var(--sklearn-color-unfitted-level-0);\n",
       "}\n",
       "\n",
       "#sk-container-id-1 div.sk-toggleable__content.fitted {\n",
       "  /* fitted */\n",
       "  background-color: var(--sklearn-color-fitted-level-0);\n",
       "}\n",
       "\n",
       "#sk-container-id-1 div.sk-toggleable__content pre {\n",
       "  margin: 0.2em;\n",
       "  border-radius: 0.25em;\n",
       "  color: var(--sklearn-color-text);\n",
       "  /* unfitted */\n",
       "  background-color: var(--sklearn-color-unfitted-level-0);\n",
       "}\n",
       "\n",
       "#sk-container-id-1 div.sk-toggleable__content.fitted pre {\n",
       "  /* unfitted */\n",
       "  background-color: var(--sklearn-color-fitted-level-0);\n",
       "}\n",
       "\n",
       "#sk-container-id-1 input.sk-toggleable__control:checked~div.sk-toggleable__content {\n",
       "  /* Expand drop-down */\n",
       "  max-height: 200px;\n",
       "  max-width: 100%;\n",
       "  overflow: auto;\n",
       "}\n",
       "\n",
       "#sk-container-id-1 input.sk-toggleable__control:checked~label.sk-toggleable__label-arrow:before {\n",
       "  content: \"▾\";\n",
       "}\n",
       "\n",
       "/* Pipeline/ColumnTransformer-specific style */\n",
       "\n",
       "#sk-container-id-1 div.sk-label input.sk-toggleable__control:checked~label.sk-toggleable__label {\n",
       "  color: var(--sklearn-color-text);\n",
       "  background-color: var(--sklearn-color-unfitted-level-2);\n",
       "}\n",
       "\n",
       "#sk-container-id-1 div.sk-label.fitted input.sk-toggleable__control:checked~label.sk-toggleable__label {\n",
       "  background-color: var(--sklearn-color-fitted-level-2);\n",
       "}\n",
       "\n",
       "/* Estimator-specific style */\n",
       "\n",
       "/* Colorize estimator box */\n",
       "#sk-container-id-1 div.sk-estimator input.sk-toggleable__control:checked~label.sk-toggleable__label {\n",
       "  /* unfitted */\n",
       "  background-color: var(--sklearn-color-unfitted-level-2);\n",
       "}\n",
       "\n",
       "#sk-container-id-1 div.sk-estimator.fitted input.sk-toggleable__control:checked~label.sk-toggleable__label {\n",
       "  /* fitted */\n",
       "  background-color: var(--sklearn-color-fitted-level-2);\n",
       "}\n",
       "\n",
       "#sk-container-id-1 div.sk-label label.sk-toggleable__label,\n",
       "#sk-container-id-1 div.sk-label label {\n",
       "  /* The background is the default theme color */\n",
       "  color: var(--sklearn-color-text-on-default-background);\n",
       "}\n",
       "\n",
       "/* On hover, darken the color of the background */\n",
       "#sk-container-id-1 div.sk-label:hover label.sk-toggleable__label {\n",
       "  color: var(--sklearn-color-text);\n",
       "  background-color: var(--sklearn-color-unfitted-level-2);\n",
       "}\n",
       "\n",
       "/* Label box, darken color on hover, fitted */\n",
       "#sk-container-id-1 div.sk-label.fitted:hover label.sk-toggleable__label.fitted {\n",
       "  color: var(--sklearn-color-text);\n",
       "  background-color: var(--sklearn-color-fitted-level-2);\n",
       "}\n",
       "\n",
       "/* Estimator label */\n",
       "\n",
       "#sk-container-id-1 div.sk-label label {\n",
       "  font-family: monospace;\n",
       "  font-weight: bold;\n",
       "  display: inline-block;\n",
       "  line-height: 1.2em;\n",
       "}\n",
       "\n",
       "#sk-container-id-1 div.sk-label-container {\n",
       "  text-align: center;\n",
       "}\n",
       "\n",
       "/* Estimator-specific */\n",
       "#sk-container-id-1 div.sk-estimator {\n",
       "  font-family: monospace;\n",
       "  border: 1px dotted var(--sklearn-color-border-box);\n",
       "  border-radius: 0.25em;\n",
       "  box-sizing: border-box;\n",
       "  margin-bottom: 0.5em;\n",
       "  /* unfitted */\n",
       "  background-color: var(--sklearn-color-unfitted-level-0);\n",
       "}\n",
       "\n",
       "#sk-container-id-1 div.sk-estimator.fitted {\n",
       "  /* fitted */\n",
       "  background-color: var(--sklearn-color-fitted-level-0);\n",
       "}\n",
       "\n",
       "/* on hover */\n",
       "#sk-container-id-1 div.sk-estimator:hover {\n",
       "  /* unfitted */\n",
       "  background-color: var(--sklearn-color-unfitted-level-2);\n",
       "}\n",
       "\n",
       "#sk-container-id-1 div.sk-estimator.fitted:hover {\n",
       "  /* fitted */\n",
       "  background-color: var(--sklearn-color-fitted-level-2);\n",
       "}\n",
       "\n",
       "/* Specification for estimator info (e.g. \"i\" and \"?\") */\n",
       "\n",
       "/* Common style for \"i\" and \"?\" */\n",
       "\n",
       ".sk-estimator-doc-link,\n",
       "a:link.sk-estimator-doc-link,\n",
       "a:visited.sk-estimator-doc-link {\n",
       "  float: right;\n",
       "  font-size: smaller;\n",
       "  line-height: 1em;\n",
       "  font-family: monospace;\n",
       "  background-color: var(--sklearn-color-background);\n",
       "  border-radius: 1em;\n",
       "  height: 1em;\n",
       "  width: 1em;\n",
       "  text-decoration: none !important;\n",
       "  margin-left: 1ex;\n",
       "  /* unfitted */\n",
       "  border: var(--sklearn-color-unfitted-level-1) 1pt solid;\n",
       "  color: var(--sklearn-color-unfitted-level-1);\n",
       "}\n",
       "\n",
       ".sk-estimator-doc-link.fitted,\n",
       "a:link.sk-estimator-doc-link.fitted,\n",
       "a:visited.sk-estimator-doc-link.fitted {\n",
       "  /* fitted */\n",
       "  border: var(--sklearn-color-fitted-level-1) 1pt solid;\n",
       "  color: var(--sklearn-color-fitted-level-1);\n",
       "}\n",
       "\n",
       "/* On hover */\n",
       "div.sk-estimator:hover .sk-estimator-doc-link:hover,\n",
       ".sk-estimator-doc-link:hover,\n",
       "div.sk-label-container:hover .sk-estimator-doc-link:hover,\n",
       ".sk-estimator-doc-link:hover {\n",
       "  /* unfitted */\n",
       "  background-color: var(--sklearn-color-unfitted-level-3);\n",
       "  color: var(--sklearn-color-background);\n",
       "  text-decoration: none;\n",
       "}\n",
       "\n",
       "div.sk-estimator.fitted:hover .sk-estimator-doc-link.fitted:hover,\n",
       ".sk-estimator-doc-link.fitted:hover,\n",
       "div.sk-label-container:hover .sk-estimator-doc-link.fitted:hover,\n",
       ".sk-estimator-doc-link.fitted:hover {\n",
       "  /* fitted */\n",
       "  background-color: var(--sklearn-color-fitted-level-3);\n",
       "  color: var(--sklearn-color-background);\n",
       "  text-decoration: none;\n",
       "}\n",
       "\n",
       "/* Span, style for the box shown on hovering the info icon */\n",
       ".sk-estimator-doc-link span {\n",
       "  display: none;\n",
       "  z-index: 9999;\n",
       "  position: relative;\n",
       "  font-weight: normal;\n",
       "  right: .2ex;\n",
       "  padding: .5ex;\n",
       "  margin: .5ex;\n",
       "  width: min-content;\n",
       "  min-width: 20ex;\n",
       "  max-width: 50ex;\n",
       "  color: var(--sklearn-color-text);\n",
       "  box-shadow: 2pt 2pt 4pt #999;\n",
       "  /* unfitted */\n",
       "  background: var(--sklearn-color-unfitted-level-0);\n",
       "  border: .5pt solid var(--sklearn-color-unfitted-level-3);\n",
       "}\n",
       "\n",
       ".sk-estimator-doc-link.fitted span {\n",
       "  /* fitted */\n",
       "  background: var(--sklearn-color-fitted-level-0);\n",
       "  border: var(--sklearn-color-fitted-level-3);\n",
       "}\n",
       "\n",
       ".sk-estimator-doc-link:hover span {\n",
       "  display: block;\n",
       "}\n",
       "\n",
       "/* \"?\"-specific style due to the `<a>` HTML tag */\n",
       "\n",
       "#sk-container-id-1 a.estimator_doc_link {\n",
       "  float: right;\n",
       "  font-size: 1rem;\n",
       "  line-height: 1em;\n",
       "  font-family: monospace;\n",
       "  background-color: var(--sklearn-color-background);\n",
       "  border-radius: 1rem;\n",
       "  height: 1rem;\n",
       "  width: 1rem;\n",
       "  text-decoration: none;\n",
       "  /* unfitted */\n",
       "  color: var(--sklearn-color-unfitted-level-1);\n",
       "  border: var(--sklearn-color-unfitted-level-1) 1pt solid;\n",
       "}\n",
       "\n",
       "#sk-container-id-1 a.estimator_doc_link.fitted {\n",
       "  /* fitted */\n",
       "  border: var(--sklearn-color-fitted-level-1) 1pt solid;\n",
       "  color: var(--sklearn-color-fitted-level-1);\n",
       "}\n",
       "\n",
       "/* On hover */\n",
       "#sk-container-id-1 a.estimator_doc_link:hover {\n",
       "  /* unfitted */\n",
       "  background-color: var(--sklearn-color-unfitted-level-3);\n",
       "  color: var(--sklearn-color-background);\n",
       "  text-decoration: none;\n",
       "}\n",
       "\n",
       "#sk-container-id-1 a.estimator_doc_link.fitted:hover {\n",
       "  /* fitted */\n",
       "  background-color: var(--sklearn-color-fitted-level-3);\n",
       "}\n",
       "</style><div id=\"sk-container-id-1\" class=\"sk-top-container\"><div class=\"sk-text-repr-fallback\"><pre>KNeighborsClassifier(n_neighbors=3)</pre><b>In a Jupyter environment, please rerun this cell to show the HTML representation or trust the notebook. <br />On GitHub, the HTML representation is unable to render, please try loading this page with nbviewer.org.</b></div><div class=\"sk-container\" hidden><div class=\"sk-item\"><div class=\"sk-estimator fitted sk-toggleable\"><input class=\"sk-toggleable__control sk-hidden--visually\" id=\"sk-estimator-id-1\" type=\"checkbox\" checked><label for=\"sk-estimator-id-1\" class=\"sk-toggleable__label fitted sk-toggleable__label-arrow fitted\">&nbsp;&nbsp;KNeighborsClassifier<a class=\"sk-estimator-doc-link fitted\" rel=\"noreferrer\" target=\"_blank\" href=\"https://scikit-learn.org/1.5/modules/generated/sklearn.neighbors.KNeighborsClassifier.html\">?<span>Documentation for KNeighborsClassifier</span></a><span class=\"sk-estimator-doc-link fitted\">i<span>Fitted</span></span></label><div class=\"sk-toggleable__content fitted\"><pre>KNeighborsClassifier(n_neighbors=3)</pre></div> </div></div></div></div>"
      ],
      "text/plain": [
       "KNeighborsClassifier(n_neighbors=3)"
      ]
     },
     "execution_count": 11,
     "metadata": {},
     "output_type": "execute_result"
    }
   ],
   "source": [
    "from sklearn.neighbors import KNeighborsClassifier\n",
    "\n",
    "model = KNeighborsClassifier(n_neighbors=3)\n",
    "model.fit(X_train, y_train)"
   ]
  },
  {
   "cell_type": "markdown",
   "id": "fFqtL6JM_YXs",
   "metadata": {
    "id": "fFqtL6JM_YXs"
   },
   "source": [
    "**Получите предсказание на оставшейся выборке**. Оцените его качество метриками бинарной классификации: precision, recall, F1-score."
   ]
  },
  {
   "cell_type": "code",
   "execution_count": 14,
   "id": "_CeT2jsk_YXt",
   "metadata": {
    "id": "_CeT2jsk_YXt"
   },
   "outputs": [
    {
     "name": "stdout",
     "output_type": "stream",
     "text": [
      "classification_report:\n",
      "              precision    recall  f1-score   support\n",
      "\n",
      "           0       0.96      0.90      0.93       146\n",
      "           1       0.95      0.98      0.96       253\n",
      "\n",
      "    accuracy                           0.95       399\n",
      "   macro avg       0.95      0.94      0.95       399\n",
      "weighted avg       0.95      0.95      0.95       399\n",
      "\n"
     ]
    }
   ],
   "source": [
    "from sklearn.metrics import classification_report\n",
    "from sklearn.metrics import f1_score\n",
    "\n",
    "y_test_pred = model.predict(X_test)\n",
    "\n",
    "print(\"classification_report:\")\n",
    "print(classification_report(y_true=y_test, y_pred=y_test_pred)) #F1-score хорший\n",
    "\n",
    "#print(\"classification_report:\")\n",
    "#print(f1_score(y_true=y_test, y_pred=y_test_pred)) "
   ]
  },
  {
   "cell_type": "markdown",
   "id": "1JOg8lTQ_YXt",
   "metadata": {
    "id": "1JOg8lTQ_YXt"
   },
   "source": [
    "Следующая функция строит график зависимости качества на тестовой и тренировочной выборках от параметра модели.\\\n",
    "Измените помеченную строку в функции так, чтобы ее можно было использовать **для построения графика зависимости качества от количества соседей для модели k-NN**."
   ]
  },
  {
   "cell_type": "code",
   "execution_count": 21,
   "id": "3flxEHJn_YXt",
   "metadata": {
    "id": "3flxEHJn_YXt"
   },
   "outputs": [],
   "source": [
    "from sklearn.metrics import f1_score\n",
    "\n",
    "def make_qual_chart(X_train, X_test, y_train, y_test, metric=f1_score, limit=50):\n",
    "    train_quals = np.zeros(limit)\n",
    "    test_quals = np.zeros(limit)\n",
    "    param_range = np.arange(1, limit  + 1)\n",
    "\n",
    "    for ind, value in enumerate(param_range):\n",
    "        ### CHANGE THE NEXT LINE!\n",
    "        model = KNeighborsClassifier(n_neighbors=value)\n",
    "        # FIT\n",
    "        model.fit(X_train, y_train)\n",
    "        # PREDICT\n",
    "        y_train_pred = model.predict(X_train)\n",
    "        y_test_pred = model.predict(X_test)\n",
    "        # EVALUATE QUALITY\n",
    "        train_quals[ind] = metric(y_true=y_train, y_pred=y_train_pred)\n",
    "        test_quals[ind] = metric(y_true=y_test, y_pred=y_test_pred)\n",
    "\n",
    "\n",
    "    # TRACING CHART\n",
    "    plt.figure(figsize=(10, 7))\n",
    "    plt.plot(param_range, train_quals, label=\"Train\")\n",
    "    plt.plot(param_range, test_quals, label=\"Test\")\n",
    "\n",
    "    plt.legend()\n",
    "    plt.show()\n",
    "    return param_range, train_quals, test_quals"
   ]
  },
  {
   "cell_type": "code",
   "execution_count": 22,
   "id": "EiDnyCxI_YXu",
   "metadata": {
    "id": "EiDnyCxI_YXu"
   },
   "outputs": [
    {
     "data": {
      "image/png": "[encoded data removed]",
      "text/plain": [
       "<Figure size 1000x700 with 1 Axes>"
      ]
     },
     "metadata": {},
     "output_type": "display_data"
    },
    {
     "data": {
      "text/plain": [
       "(array([ 1,  2,  3,  4,  5,  6,  7,  8,  9, 10, 11, 12, 13, 14, 15, 16, 17,\n",
       "        18, 19, 20, 21, 22, 23, 24, 25, 26, 27, 28, 29, 30, 31, 32, 33, 34,\n",
       "        35, 36, 37, 38, 39, 40, 41, 42, 43, 44, 45, 46, 47, 48, 49, 50]),\n",
       " array([1.        , 0.98039216, 0.97630332, 0.98095238, 0.97169811,\n",
       "        0.97630332, 0.97652582, 0.97652582, 0.97196262, 0.98578199,\n",
       "        0.97196262, 0.97196262, 0.94977169, 0.96296296, 0.95852535,\n",
       "        0.96296296, 0.96296296, 0.96296296, 0.96296296, 0.96296296,\n",
       "        0.94977169, 0.94930876, 0.94063927, 0.94063927, 0.94063927,\n",
       "        0.94063927, 0.93636364, 0.94495413, 0.93636364, 0.93636364,\n",
       "        0.93693694, 0.93693694, 0.93693694, 0.93693694, 0.93693694,\n",
       "        0.93693694, 0.93693694, 0.93693694, 0.93693694, 0.93693694,\n",
       "        0.93693694, 0.93693694, 0.93693694, 0.93693694, 0.93273543,\n",
       "        0.93693694, 0.93273543, 0.93273543, 0.92857143, 0.92857143]),\n",
       " array([0.96267191, 0.96177062, 0.96108949, 0.97029703, 0.9688716 ,\n",
       "        0.97445972, 0.96899225, 0.97076023, 0.96699029, 0.9668616 ,\n",
       "        0.96511628, 0.96699029, 0.96138996, 0.96699029, 0.96339114,\n",
       "        0.96511628, 0.96525097, 0.96711799, 0.96737044, 0.96911197,\n",
       "        0.96551724, 0.96153846, 0.96168582, 0.96324952, 0.95602294,\n",
       "        0.96153846, 0.95785441, 0.96153846, 0.95602294, 0.95585413,\n",
       "        0.95238095, 0.95402299, 0.95635674, 0.95402299, 0.95238095,\n",
       "        0.95419847, 0.95057034, 0.95057034, 0.9487666 , 0.95057034,\n",
       "        0.94517958, 0.95057034, 0.9469697 , 0.9487666 , 0.9469697 ,\n",
       "        0.9469697 , 0.94517958, 0.94318182, 0.94339623, 0.94318182]))"
      ]
     },
     "execution_count": 22,
     "metadata": {},
     "output_type": "execute_result"
    }
   ],
   "source": [
    "make_qual_chart(X_train, X_test, y_train, y_test)"
   ]
  },
  {
   "cell_type": "markdown",
   "id": "Q7RJZabI_YXu",
   "metadata": {
    "id": "Q7RJZabI_YXu"
   },
   "source": [
    "Сделайте вывод о том, **какое число соседей является оптимальным для данной задачи**."
   ]
  },
  {
   "cell_type": "code",
   "execution_count": null,
   "id": "752fd9b2-4a62-4bcf-a36b-96c0da837055",
   "metadata": {
    "id": "752fd9b2-4a62-4bcf-a36b-96c0da837055"
   },
   "outputs": [],
   "source": [
    "13-20 можно выбрать по больше k, "
   ]
  },
  {
   "cell_type": "markdown",
   "id": "a87d79ba-c9b2-4fcd-bb61-e3a3561b7309",
   "metadata": {
    "id": "a87d79ba-c9b2-4fcd-bb61-e3a3561b7309"
   },
   "source": [
    "### Задача 2: Обучение на геномных эмбеддингах"
   ]
  },
  {
   "cell_type": "code",
   "execution_count": 54,
   "id": "PzATEW84i9do",
   "metadata": {
    "id": "PzATEW84i9do"
   },
   "outputs": [],
   "source": [
    "# сделать трехклассовую классификацию с помощью kNN различных однонуклеотидных замен в ДНК на нейросетевых эмбеддингах.\n",
    "# был набор замен в ДНК, для них нейросеть выдала какие-то чиселки (много). Это не суть важно. Просто есть числа, содержащие информацию о замене.\n",
    "\n"
   ]
  },
  {
   "cell_type": "markdown",
   "id": "018a8ba8-9f12-4aab-9b98-560553982e3b",
   "metadata": {
    "id": "018a8ba8-9f12-4aab-9b98-560553982e3b"
   },
   "source": [
    "В этой задаче предлагается произвести трехклассовую классификацию разных однонуклеотидных замен в ДНК, основываясь на их нейросетевых геномных эмбеддингах."
   ]
  },
  {
   "cell_type": "code",
   "execution_count": 55,
   "id": "DRbz9nBPPHo3",
   "metadata": {
    "colab": {
     "base_uri": "https://localhost:8080/"
    },
    "id": "DRbz9nBPPHo3",
    "outputId": "35215b45-87cc-4c18-d946-b49255dd6883"
   },
   "outputs": [
    {
     "name": "stderr",
     "output_type": "stream",
     "text": [
      "\"wget\" ­Ґ пў«пҐвбп ў­гваҐ­­Ґ© Ё«Ё ў­Ґи­Ґ©\n",
      "Є®¬ ­¤®©, ЁбЇ®«­пҐ¬®© Їа®Ја ¬¬®© Ё«Ё Ї ЄҐв­л¬ д ©«®¬.\n",
      "\"id\" ­Ґ пў«пҐвбп ў­гваҐ­­Ґ© Ё«Ё ў­Ґи­Ґ©\n",
      "Є®¬ ­¤®©, ЁбЇ®«­пҐ¬®© Їа®Ја ¬¬®© Ё«Ё Ї ЄҐв­л¬ д ©«®¬.\n"
     ]
    }
   ],
   "source": [
    "!wget --no-check-certificate 'https://docs.google.com/uc?export=download&id=1RDTcTnhOcMX4DnJbzdPalWENNFtXi2r8' -O tfs_deepsea.csv"
   ]
  },
  {
   "cell_type": "markdown",
   "id": "a9c427c4-a23b-4452-92b4-26ed2624ab5f",
   "metadata": {
    "id": "a9c427c4-a23b-4452-92b4-26ed2624ab5f"
   },
   "source": [
    "Загрузите датасет `tfs_deepsea.csv`, в качестве `y` используйте колонку `Direction`, в качестве `X` - все колонки, начиная с девятой."
   ]
  },
  {
   "cell_type": "code",
   "execution_count": 107,
   "id": "10bdbee0-9e71-4ad7-8e20-3ba96a47e0c4",
   "metadata": {
    "colab": {
     "base_uri": "https://localhost:8080/",
     "height": 210
    },
    "id": "10bdbee0-9e71-4ad7-8e20-3ba96a47e0c4",
    "outputId": "60ffcd49-0b91-4477-c98b-137d6823be37"
   },
   "outputs": [
    {
     "data": {
      "text/html": [
       "<div>\n",
       "<style scoped>\n",
       "    .dataframe tbody tr th:only-of-type {\n",
       "        vertical-align: middle;\n",
       "    }\n",
       "\n",
       "    .dataframe tbody tr th {\n",
       "        vertical-align: top;\n",
       "    }\n",
       "\n",
       "    .dataframe thead th {\n",
       "        text-align: right;\n",
       "    }\n",
       "</style>\n",
       "<table border=\"1\" class=\"dataframe\">\n",
       "  <thead>\n",
       "    <tr style=\"text-align: right;\">\n",
       "      <th></th>\n",
       "      <th>Chrom</th>\n",
       "      <th>Pos</th>\n",
       "      <th>Ref</th>\n",
       "      <th>Alt</th>\n",
       "      <th>Value</th>\n",
       "      <th>Confidence</th>\n",
       "      <th>Direction</th>\n",
       "      <th>construction</th>\n",
       "      <th>alt@BRCA1@ds_HepG2_normal</th>\n",
       "      <th>alt@CTCF@ds_HCM_normal</th>\n",
       "      <th>...</th>\n",
       "      <th>ref@GATA3@ds_MCF-7_normal</th>\n",
       "      <th>ref@JunD@ds_H1-hESC_None.1</th>\n",
       "      <th>ref@MafK@ds_K562_normal</th>\n",
       "      <th>ref@NRSF@ds_A549_EtOH_0.02pct</th>\n",
       "      <th>ref@Pol2-4H8@ds_GM12891_normal</th>\n",
       "      <th>ref@Pol2@ds_GM12878_None.2</th>\n",
       "      <th>ref@Pol2@ds_GM12878_None.3</th>\n",
       "      <th>ref@Pol2@ds_GM12878_normal</th>\n",
       "      <th>ref@c-Fos@ds_K562_normal</th>\n",
       "      <th>ref@c-Myc@ds_K562_normal</th>\n",
       "    </tr>\n",
       "  </thead>\n",
       "  <tbody>\n",
       "    <tr>\n",
       "      <th>0</th>\n",
       "      <td>9</td>\n",
       "      <td>104195582</td>\n",
       "      <td>G</td>\n",
       "      <td>C</td>\n",
       "      <td>-0.009418</td>\n",
       "      <td>0.001075</td>\n",
       "      <td>0</td>\n",
       "      <td>ALDOB</td>\n",
       "      <td>0.000056</td>\n",
       "      <td>0.000949</td>\n",
       "      <td>...</td>\n",
       "      <td>0.00934</td>\n",
       "      <td>0.000637</td>\n",
       "      <td>0.082889</td>\n",
       "      <td>0.007880</td>\n",
       "      <td>0.000568</td>\n",
       "      <td>0.000095</td>\n",
       "      <td>0.000287</td>\n",
       "      <td>0.000147</td>\n",
       "      <td>0.000588</td>\n",
       "      <td>0.001214</td>\n",
       "    </tr>\n",
       "    <tr>\n",
       "      <th>1</th>\n",
       "      <td>9</td>\n",
       "      <td>104195582</td>\n",
       "      <td>G</td>\n",
       "      <td>T</td>\n",
       "      <td>-0.212088</td>\n",
       "      <td>0.034187</td>\n",
       "      <td>0</td>\n",
       "      <td>ALDOB</td>\n",
       "      <td>0.000051</td>\n",
       "      <td>0.000857</td>\n",
       "      <td>...</td>\n",
       "      <td>0.00934</td>\n",
       "      <td>0.000637</td>\n",
       "      <td>0.082889</td>\n",
       "      <td>0.007880</td>\n",
       "      <td>0.000568</td>\n",
       "      <td>0.000095</td>\n",
       "      <td>0.000287</td>\n",
       "      <td>0.000147</td>\n",
       "      <td>0.000588</td>\n",
       "      <td>0.001214</td>\n",
       "    </tr>\n",
       "    <tr>\n",
       "      <th>2</th>\n",
       "      <td>9</td>\n",
       "      <td>104195700</td>\n",
       "      <td>T</td>\n",
       "      <td>A</td>\n",
       "      <td>0.709840</td>\n",
       "      <td>0.364072</td>\n",
       "      <td>1</td>\n",
       "      <td>ALDOB</td>\n",
       "      <td>0.000089</td>\n",
       "      <td>0.001784</td>\n",
       "      <td>...</td>\n",
       "      <td>0.00292</td>\n",
       "      <td>0.001019</td>\n",
       "      <td>0.100890</td>\n",
       "      <td>0.004289</td>\n",
       "      <td>0.000554</td>\n",
       "      <td>0.000142</td>\n",
       "      <td>0.000209</td>\n",
       "      <td>0.000282</td>\n",
       "      <td>0.001091</td>\n",
       "      <td>0.000891</td>\n",
       "    </tr>\n",
       "  </tbody>\n",
       "</table>\n",
       "<p>3 rows × 108 columns</p>\n",
       "</div>"
      ],
      "text/plain": [
       "   Chrom        Pos Ref Alt     Value  Confidence  Direction construction  \\\n",
       "0      9  104195582   G   C -0.009418    0.001075          0        ALDOB   \n",
       "1      9  104195582   G   T -0.212088    0.034187          0        ALDOB   \n",
       "2      9  104195700   T   A  0.709840    0.364072          1        ALDOB   \n",
       "\n",
       "   alt@BRCA1@ds_HepG2_normal  alt@CTCF@ds_HCM_normal  ...  \\\n",
       "0                   0.000056                0.000949  ...   \n",
       "1                   0.000051                0.000857  ...   \n",
       "2                   0.000089                0.001784  ...   \n",
       "\n",
       "   ref@GATA3@ds_MCF-7_normal  ref@JunD@ds_H1-hESC_None.1  \\\n",
       "0                    0.00934                    0.000637   \n",
       "1                    0.00934                    0.000637   \n",
       "2                    0.00292                    0.001019   \n",
       "\n",
       "   ref@MafK@ds_K562_normal  ref@NRSF@ds_A549_EtOH_0.02pct  \\\n",
       "0                 0.082889                       0.007880   \n",
       "1                 0.082889                       0.007880   \n",
       "2                 0.100890                       0.004289   \n",
       "\n",
       "   ref@Pol2-4H8@ds_GM12891_normal  ref@Pol2@ds_GM12878_None.2  \\\n",
       "0                        0.000568                    0.000095   \n",
       "1                        0.000568                    0.000095   \n",
       "2                        0.000554                    0.000142   \n",
       "\n",
       "   ref@Pol2@ds_GM12878_None.3  ref@Pol2@ds_GM12878_normal  \\\n",
       "0                    0.000287                    0.000147   \n",
       "1                    0.000287                    0.000147   \n",
       "2                    0.000209                    0.000282   \n",
       "\n",
       "   ref@c-Fos@ds_K562_normal  ref@c-Myc@ds_K562_normal  \n",
       "0                  0.000588                  0.001214  \n",
       "1                  0.000588                  0.001214  \n",
       "2                  0.001091                  0.000891  \n",
       "\n",
       "[3 rows x 108 columns]"
      ]
     },
     "execution_count": 107,
     "metadata": {},
     "output_type": "execute_result"
    }
   ],
   "source": [
    "tfs = pd.read_csv(\"tfs_deepsea.csv\", header=0)\n",
    "tfs.head(3)"
   ]
  },
  {
   "cell_type": "code",
   "execution_count": null,
   "id": "CV9eatU4mIzX",
   "metadata": {
    "id": "CV9eatU4mIzX"
   },
   "outputs": [],
   "source": [
    "# Колонка Direction - предсказываемые классы (0, 1, -1)."
   ]
  },
  {
   "cell_type": "code",
   "execution_count": 108,
   "id": "7e5fba7c-2ca3-44eb-9604-68d8cecd8c99",
   "metadata": {
    "id": "7e5fba7c-2ca3-44eb-9604-68d8cecd8c99"
   },
   "outputs": [],
   "source": [
    "X = tfs.iloc[:,9:len(tfs)]\n",
    "y = tfs['Direction']"
   ]
  },
  {
   "cell_type": "markdown",
   "id": "de761526-7be2-4f21-b92d-1df55ec1e59e",
   "metadata": {
    "id": "de761526-7be2-4f21-b92d-1df55ec1e59e"
   },
   "source": [
    "**Разбейте X и y на тренировочную и тестовую выборки**, как в лекции. Соотношение train/test поставьте равным 4:1.\\\n",
    "*Подсказка*: воспользуйтесь функцией `train_test_split`."
   ]
  },
  {
   "cell_type": "code",
   "execution_count": 109,
   "id": "2685d7e6-1f7a-4c22-9e7d-c4312c39bb53",
   "metadata": {
    "id": "2685d7e6-1f7a-4c22-9e7d-c4312c39bb53"
   },
   "outputs": [],
   "source": [
    "from sklearn.model_selection import train_test_split\n",
    "\n",
    "X_train, X_test, y_train, y_test = train_test_split(X, y, test_size=0.5, random_state=666)"
   ]
  },
  {
   "cell_type": "markdown",
   "id": "ec0a711a-5755-4bba-9bed-0a4718d1248d",
   "metadata": {
    "id": "ec0a711a-5755-4bba-9bed-0a4718d1248d"
   },
   "source": [
    "**Осуществите стандартизацию признаков в выборке**."
   ]
  },
  {
   "cell_type": "code",
   "execution_count": 110,
   "id": "4ebe265e-aa17-47a7-9faa-727eb06ec19a",
   "metadata": {
    "id": "4ebe265e-aa17-47a7-9faa-727eb06ec19a"
   },
   "outputs": [],
   "source": [
    "from sklearn.preprocessing import StandardScaler\n",
    "\n",
    "scaler = StandardScaler()\n",
    "scaler.fit(X_train)\n",
    "X_train = scaler.transform(X_train)\n",
    "\n",
    "scaler = StandardScaler()\n",
    "scaler.fit(X_test)\n",
    "X_test = scaler.transform(X_test)"
   ]
  },
  {
   "cell_type": "markdown",
   "id": "74eb7e2b-4dc8-4d36-83ab-9ef5cf252886",
   "metadata": {
    "id": "74eb7e2b-4dc8-4d36-83ab-9ef5cf252886"
   },
   "source": [
    "**Импортируйте модель классификации k-NN и обучите ее (`model.fit`)**."
   ]
  },
  {
   "cell_type": "code",
   "execution_count": 111,
   "id": "4a24c5cf-6993-4c8a-8f87-6c061a9bfafa",
   "metadata": {
    "id": "4a24c5cf-6993-4c8a-8f87-6c061a9bfafa"
   },
   "outputs": [
    {
     "data": {
      "text/html": [
       "<style>#sk-container-id-11 {\n",
       "  /* Definition of color scheme common for light and dark mode */\n",
       "  --sklearn-color-text: black;\n",
       "  --sklearn-color-line: gray;\n",
       "  /* Definition of color scheme for unfitted estimators */\n",
       "  --sklearn-color-unfitted-level-0: #fff5e6;\n",
       "  --sklearn-color-unfitted-level-1: #f6e4d2;\n",
       "  --sklearn-color-unfitted-level-2: #ffe0b3;\n",
       "  --sklearn-color-unfitted-level-3: chocolate;\n",
       "  /* Definition of color scheme for fitted estimators */\n",
       "  --sklearn-color-fitted-level-0: #f0f8ff;\n",
       "  --sklearn-color-fitted-level-1: #d4ebff;\n",
       "  --sklearn-color-fitted-level-2: #b3dbfd;\n",
       "  --sklearn-color-fitted-level-3: cornflowerblue;\n",
       "\n",
       "  /* Specific color for light theme */\n",
       "  --sklearn-color-text-on-default-background: var(--sg-text-color, var(--theme-code-foreground, var(--jp-content-font-color1, black)));\n",
       "  --sklearn-color-background: var(--sg-background-color, var(--theme-background, var(--jp-layout-color0, white)));\n",
       "  --sklearn-color-border-box: var(--sg-text-color, var(--theme-code-foreground, var(--jp-content-font-color1, black)));\n",
       "  --sklearn-color-icon: #696969;\n",
       "\n",
       "  @media (prefers-color-scheme: dark) {\n",
       "    /* Redefinition of color scheme for dark theme */\n",
       "    --sklearn-color-text-on-default-background: var(--sg-text-color, var(--theme-code-foreground, var(--jp-content-font-color1, white)));\n",
       "    --sklearn-color-background: var(--sg-background-color, var(--theme-background, var(--jp-layout-color0, #111)));\n",
       "    --sklearn-color-border-box: var(--sg-text-color, var(--theme-code-foreground, var(--jp-content-font-color1, white)));\n",
       "    --sklearn-color-icon: #878787;\n",
       "  }\n",
       "}\n",
       "\n",
       "#sk-container-id-11 {\n",
       "  color: var(--sklearn-color-text);\n",
       "}\n",
       "\n",
       "#sk-container-id-11 pre {\n",
       "  padding: 0;\n",
       "}\n",
       "\n",
       "#sk-container-id-11 input.sk-hidden--visually {\n",
       "  border: 0;\n",
       "  clip: rect(1px 1px 1px 1px);\n",
       "  clip: rect(1px, 1px, 1px, 1px);\n",
       "  height: 1px;\n",
       "  margin: -1px;\n",
       "  overflow: hidden;\n",
       "  padding: 0;\n",
       "  position: absolute;\n",
       "  width: 1px;\n",
       "}\n",
       "\n",
       "#sk-container-id-11 div.sk-dashed-wrapped {\n",
       "  border: 1px dashed var(--sklearn-color-line);\n",
       "  margin: 0 0.4em 0.5em 0.4em;\n",
       "  box-sizing: border-box;\n",
       "  padding-bottom: 0.4em;\n",
       "  background-color: var(--sklearn-color-background);\n",
       "}\n",
       "\n",
       "#sk-container-id-11 div.sk-container {\n",
       "  /* jupyter's `normalize.less` sets `[hidden] { display: none; }`\n",
       "     but bootstrap.min.css set `[hidden] { display: none !important; }`\n",
       "     so we also need the `!important` here to be able to override the\n",
       "     default hidden behavior on the sphinx rendered scikit-learn.org.\n",
       "     See: https://github.com/scikit-learn/scikit-learn/issues/21755 */\n",
       "  display: inline-block !important;\n",
       "  position: relative;\n",
       "}\n",
       "\n",
       "#sk-container-id-11 div.sk-text-repr-fallback {\n",
       "  display: none;\n",
       "}\n",
       "\n",
       "div.sk-parallel-item,\n",
       "div.sk-serial,\n",
       "div.sk-item {\n",
       "  /* draw centered vertical line to link estimators */\n",
       "  background-image: linear-gradient(var(--sklearn-color-text-on-default-background), var(--sklearn-color-text-on-default-background));\n",
       "  background-size: 2px 100%;\n",
       "  background-repeat: no-repeat;\n",
       "  background-position: center center;\n",
       "}\n",
       "\n",
       "/* Parallel-specific style estimator block */\n",
       "\n",
       "#sk-container-id-11 div.sk-parallel-item::after {\n",
       "  content: \"\";\n",
       "  width: 100%;\n",
       "  border-bottom: 2px solid var(--sklearn-color-text-on-default-background);\n",
       "  flex-grow: 1;\n",
       "}\n",
       "\n",
       "#sk-container-id-11 div.sk-parallel {\n",
       "  display: flex;\n",
       "  align-items: stretch;\n",
       "  justify-content: center;\n",
       "  background-color: var(--sklearn-color-background);\n",
       "  position: relative;\n",
       "}\n",
       "\n",
       "#sk-container-id-11 div.sk-parallel-item {\n",
       "  display: flex;\n",
       "  flex-direction: column;\n",
       "}\n",
       "\n",
       "#sk-container-id-11 div.sk-parallel-item:first-child::after {\n",
       "  align-self: flex-end;\n",
       "  width: 50%;\n",
       "}\n",
       "\n",
       "#sk-container-id-11 div.sk-parallel-item:last-child::after {\n",
       "  align-self: flex-start;\n",
       "  width: 50%;\n",
       "}\n",
       "\n",
       "#sk-container-id-11 div.sk-parallel-item:only-child::after {\n",
       "  width: 0;\n",
       "}\n",
       "\n",
       "/* Serial-specific style estimator block */\n",
       "\n",
       "#sk-container-id-11 div.sk-serial {\n",
       "  display: flex;\n",
       "  flex-direction: column;\n",
       "  align-items: center;\n",
       "  background-color: var(--sklearn-color-background);\n",
       "  padding-right: 1em;\n",
       "  padding-left: 1em;\n",
       "}\n",
       "\n",
       "\n",
       "/* Toggleable style: style used for estimator/Pipeline/ColumnTransformer box that is\n",
       "clickable and can be expanded/collapsed.\n",
       "- Pipeline and ColumnTransformer use this feature and define the default style\n",
       "- Estimators will overwrite some part of the style using the `sk-estimator` class\n",
       "*/\n",
       "\n",
       "/* Pipeline and ColumnTransformer style (default) */\n",
       "\n",
       "#sk-container-id-11 div.sk-toggleable {\n",
       "  /* Default theme specific background. It is overwritten whether we have a\n",
       "  specific estimator or a Pipeline/ColumnTransformer */\n",
       "  background-color: var(--sklearn-color-background);\n",
       "}\n",
       "\n",
       "/* Toggleable label */\n",
       "#sk-container-id-11 label.sk-toggleable__label {\n",
       "  cursor: pointer;\n",
       "  display: block;\n",
       "  width: 100%;\n",
       "  margin-bottom: 0;\n",
       "  padding: 0.5em;\n",
       "  box-sizing: border-box;\n",
       "  text-align: center;\n",
       "}\n",
       "\n",
       "#sk-container-id-11 label.sk-toggleable__label-arrow:before {\n",
       "  /* Arrow on the left of the label */\n",
       "  content: \"▸\";\n",
       "  float: left;\n",
       "  margin-right: 0.25em;\n",
       "  color: var(--sklearn-color-icon);\n",
       "}\n",
       "\n",
       "#sk-container-id-11 label.sk-toggleable__label-arrow:hover:before {\n",
       "  color: var(--sklearn-color-text);\n",
       "}\n",
       "\n",
       "/* Toggleable content - dropdown */\n",
       "\n",
       "#sk-container-id-11 div.sk-toggleable__content {\n",
       "  max-height: 0;\n",
       "  max-width: 0;\n",
       "  overflow: hidden;\n",
       "  text-align: left;\n",
       "  /* unfitted */\n",
       "  background-color: var(--sklearn-color-unfitted-level-0);\n",
       "}\n",
       "\n",
       "#sk-container-id-11 div.sk-toggleable__content.fitted {\n",
       "  /* fitted */\n",
       "  background-color: var(--sklearn-color-fitted-level-0);\n",
       "}\n",
       "\n",
       "#sk-container-id-11 div.sk-toggleable__content pre {\n",
       "  margin: 0.2em;\n",
       "  border-radius: 0.25em;\n",
       "  color: var(--sklearn-color-text);\n",
       "  /* unfitted */\n",
       "  background-color: var(--sklearn-color-unfitted-level-0);\n",
       "}\n",
       "\n",
       "#sk-container-id-11 div.sk-toggleable__content.fitted pre {\n",
       "  /* unfitted */\n",
       "  background-color: var(--sklearn-color-fitted-level-0);\n",
       "}\n",
       "\n",
       "#sk-container-id-11 input.sk-toggleable__control:checked~div.sk-toggleable__content {\n",
       "  /* Expand drop-down */\n",
       "  max-height: 200px;\n",
       "  max-width: 100%;\n",
       "  overflow: auto;\n",
       "}\n",
       "\n",
       "#sk-container-id-11 input.sk-toggleable__control:checked~label.sk-toggleable__label-arrow:before {\n",
       "  content: \"▾\";\n",
       "}\n",
       "\n",
       "/* Pipeline/ColumnTransformer-specific style */\n",
       "\n",
       "#sk-container-id-11 div.sk-label input.sk-toggleable__control:checked~label.sk-toggleable__label {\n",
       "  color: var(--sklearn-color-text);\n",
       "  background-color: var(--sklearn-color-unfitted-level-2);\n",
       "}\n",
       "\n",
       "#sk-container-id-11 div.sk-label.fitted input.sk-toggleable__control:checked~label.sk-toggleable__label {\n",
       "  background-color: var(--sklearn-color-fitted-level-2);\n",
       "}\n",
       "\n",
       "/* Estimator-specific style */\n",
       "\n",
       "/* Colorize estimator box */\n",
       "#sk-container-id-11 div.sk-estimator input.sk-toggleable__control:checked~label.sk-toggleable__label {\n",
       "  /* unfitted */\n",
       "  background-color: var(--sklearn-color-unfitted-level-2);\n",
       "}\n",
       "\n",
       "#sk-container-id-11 div.sk-estimator.fitted input.sk-toggleable__control:checked~label.sk-toggleable__label {\n",
       "  /* fitted */\n",
       "  background-color: var(--sklearn-color-fitted-level-2);\n",
       "}\n",
       "\n",
       "#sk-container-id-11 div.sk-label label.sk-toggleable__label,\n",
       "#sk-container-id-11 div.sk-label label {\n",
       "  /* The background is the default theme color */\n",
       "  color: var(--sklearn-color-text-on-default-background);\n",
       "}\n",
       "\n",
       "/* On hover, darken the color of the background */\n",
       "#sk-container-id-11 div.sk-label:hover label.sk-toggleable__label {\n",
       "  color: var(--sklearn-color-text);\n",
       "  background-color: var(--sklearn-color-unfitted-level-2);\n",
       "}\n",
       "\n",
       "/* Label box, darken color on hover, fitted */\n",
       "#sk-container-id-11 div.sk-label.fitted:hover label.sk-toggleable__label.fitted {\n",
       "  color: var(--sklearn-color-text);\n",
       "  background-color: var(--sklearn-color-fitted-level-2);\n",
       "}\n",
       "\n",
       "/* Estimator label */\n",
       "\n",
       "#sk-container-id-11 div.sk-label label {\n",
       "  font-family: monospace;\n",
       "  font-weight: bold;\n",
       "  display: inline-block;\n",
       "  line-height: 1.2em;\n",
       "}\n",
       "\n",
       "#sk-container-id-11 div.sk-label-container {\n",
       "  text-align: center;\n",
       "}\n",
       "\n",
       "/* Estimator-specific */\n",
       "#sk-container-id-11 div.sk-estimator {\n",
       "  font-family: monospace;\n",
       "  border: 1px dotted var(--sklearn-color-border-box);\n",
       "  border-radius: 0.25em;\n",
       "  box-sizing: border-box;\n",
       "  margin-bottom: 0.5em;\n",
       "  /* unfitted */\n",
       "  background-color: var(--sklearn-color-unfitted-level-0);\n",
       "}\n",
       "\n",
       "#sk-container-id-11 div.sk-estimator.fitted {\n",
       "  /* fitted */\n",
       "  background-color: var(--sklearn-color-fitted-level-0);\n",
       "}\n",
       "\n",
       "/* on hover */\n",
       "#sk-container-id-11 div.sk-estimator:hover {\n",
       "  /* unfitted */\n",
       "  background-color: var(--sklearn-color-unfitted-level-2);\n",
       "}\n",
       "\n",
       "#sk-container-id-11 div.sk-estimator.fitted:hover {\n",
       "  /* fitted */\n",
       "  background-color: var(--sklearn-color-fitted-level-2);\n",
       "}\n",
       "\n",
       "/* Specification for estimator info (e.g. \"i\" and \"?\") */\n",
       "\n",
       "/* Common style for \"i\" and \"?\" */\n",
       "\n",
       ".sk-estimator-doc-link,\n",
       "a:link.sk-estimator-doc-link,\n",
       "a:visited.sk-estimator-doc-link {\n",
       "  float: right;\n",
       "  font-size: smaller;\n",
       "  line-height: 1em;\n",
       "  font-family: monospace;\n",
       "  background-color: var(--sklearn-color-background);\n",
       "  border-radius: 1em;\n",
       "  height: 1em;\n",
       "  width: 1em;\n",
       "  text-decoration: none !important;\n",
       "  margin-left: 1ex;\n",
       "  /* unfitted */\n",
       "  border: var(--sklearn-color-unfitted-level-1) 1pt solid;\n",
       "  color: var(--sklearn-color-unfitted-level-1);\n",
       "}\n",
       "\n",
       ".sk-estimator-doc-link.fitted,\n",
       "a:link.sk-estimator-doc-link.fitted,\n",
       "a:visited.sk-estimator-doc-link.fitted {\n",
       "  /* fitted */\n",
       "  border: var(--sklearn-color-fitted-level-1) 1pt solid;\n",
       "  color: var(--sklearn-color-fitted-level-1);\n",
       "}\n",
       "\n",
       "/* On hover */\n",
       "div.sk-estimator:hover .sk-estimator-doc-link:hover,\n",
       ".sk-estimator-doc-link:hover,\n",
       "div.sk-label-container:hover .sk-estimator-doc-link:hover,\n",
       ".sk-estimator-doc-link:hover {\n",
       "  /* unfitted */\n",
       "  background-color: var(--sklearn-color-unfitted-level-3);\n",
       "  color: var(--sklearn-color-background);\n",
       "  text-decoration: none;\n",
       "}\n",
       "\n",
       "div.sk-estimator.fitted:hover .sk-estimator-doc-link.fitted:hover,\n",
       ".sk-estimator-doc-link.fitted:hover,\n",
       "div.sk-label-container:hover .sk-estimator-doc-link.fitted:hover,\n",
       ".sk-estimator-doc-link.fitted:hover {\n",
       "  /* fitted */\n",
       "  background-color: var(--sklearn-color-fitted-level-3);\n",
       "  color: var(--sklearn-color-background);\n",
       "  text-decoration: none;\n",
       "}\n",
       "\n",
       "/* Span, style for the box shown on hovering the info icon */\n",
       ".sk-estimator-doc-link span {\n",
       "  display: none;\n",
       "  z-index: 9999;\n",
       "  position: relative;\n",
       "  font-weight: normal;\n",
       "  right: .2ex;\n",
       "  padding: .5ex;\n",
       "  margin: .5ex;\n",
       "  width: min-content;\n",
       "  min-width: 20ex;\n",
       "  max-width: 50ex;\n",
       "  color: var(--sklearn-color-text);\n",
       "  box-shadow: 2pt 2pt 4pt #999;\n",
       "  /* unfitted */\n",
       "  background: var(--sklearn-color-unfitted-level-0);\n",
       "  border: .5pt solid var(--sklearn-color-unfitted-level-3);\n",
       "}\n",
       "\n",
       ".sk-estimator-doc-link.fitted span {\n",
       "  /* fitted */\n",
       "  background: var(--sklearn-color-fitted-level-0);\n",
       "  border: var(--sklearn-color-fitted-level-3);\n",
       "}\n",
       "\n",
       ".sk-estimator-doc-link:hover span {\n",
       "  display: block;\n",
       "}\n",
       "\n",
       "/* \"?\"-specific style due to the `<a>` HTML tag */\n",
       "\n",
       "#sk-container-id-11 a.estimator_doc_link {\n",
       "  float: right;\n",
       "  font-size: 1rem;\n",
       "  line-height: 1em;\n",
       "  font-family: monospace;\n",
       "  background-color: var(--sklearn-color-background);\n",
       "  border-radius: 1rem;\n",
       "  height: 1rem;\n",
       "  width: 1rem;\n",
       "  text-decoration: none;\n",
       "  /* unfitted */\n",
       "  color: var(--sklearn-color-unfitted-level-1);\n",
       "  border: var(--sklearn-color-unfitted-level-1) 1pt solid;\n",
       "}\n",
       "\n",
       "#sk-container-id-11 a.estimator_doc_link.fitted {\n",
       "  /* fitted */\n",
       "  border: var(--sklearn-color-fitted-level-1) 1pt solid;\n",
       "  color: var(--sklearn-color-fitted-level-1);\n",
       "}\n",
       "\n",
       "/* On hover */\n",
       "#sk-container-id-11 a.estimator_doc_link:hover {\n",
       "  /* unfitted */\n",
       "  background-color: var(--sklearn-color-unfitted-level-3);\n",
       "  color: var(--sklearn-color-background);\n",
       "  text-decoration: none;\n",
       "}\n",
       "\n",
       "#sk-container-id-11 a.estimator_doc_link.fitted:hover {\n",
       "  /* fitted */\n",
       "  background-color: var(--sklearn-color-fitted-level-3);\n",
       "}\n",
       "</style><div id=\"sk-container-id-11\" class=\"sk-top-container\"><div class=\"sk-text-repr-fallback\"><pre>KNeighborsClassifier(n_neighbors=3)</pre><b>In a Jupyter environment, please rerun this cell to show the HTML representation or trust the notebook. <br />On GitHub, the HTML representation is unable to render, please try loading this page with nbviewer.org.</b></div><div class=\"sk-container\" hidden><div class=\"sk-item\"><div class=\"sk-estimator fitted sk-toggleable\"><input class=\"sk-toggleable__control sk-hidden--visually\" id=\"sk-estimator-id-11\" type=\"checkbox\" checked><label for=\"sk-estimator-id-11\" class=\"sk-toggleable__label fitted sk-toggleable__label-arrow fitted\">&nbsp;&nbsp;KNeighborsClassifier<a class=\"sk-estimator-doc-link fitted\" rel=\"noreferrer\" target=\"_blank\" href=\"https://scikit-learn.org/1.5/modules/generated/sklearn.neighbors.KNeighborsClassifier.html\">?<span>Documentation for KNeighborsClassifier</span></a><span class=\"sk-estimator-doc-link fitted\">i<span>Fitted</span></span></label><div class=\"sk-toggleable__content fitted\"><pre>KNeighborsClassifier(n_neighbors=3)</pre></div> </div></div></div></div>"
      ],
      "text/plain": [
       "KNeighborsClassifier(n_neighbors=3)"
      ]
     },
     "execution_count": 111,
     "metadata": {},
     "output_type": "execute_result"
    }
   ],
   "source": [
    "from sklearn.neighbors import KNeighborsClassifier\n",
    "\n",
    "model2 = KNeighborsClassifier(n_neighbors=3)\n",
    "model2.fit(X_train, y_train)"
   ]
  },
  {
   "cell_type": "markdown",
   "id": "04d4e9d0-8122-46e1-9341-e5000f3ee715",
   "metadata": {
    "id": "04d4e9d0-8122-46e1-9341-e5000f3ee715"
   },
   "source": [
    "**Получите предсказание на оставшейся выборке**. Оцените его качество метриками из отчета о классификации (`classification_report`)."
   ]
  },
  {
   "cell_type": "code",
   "execution_count": null,
   "id": "XZ1B7OMcyGwk",
   "metadata": {
    "id": "XZ1B7OMcyGwk"
   },
   "outputs": [],
   "source": [
    "# перед обучением не забудьте также стандартизовать значения тест"
   ]
  },
  {
   "cell_type": "code",
   "execution_count": 112,
   "id": "wks5sfkExvkJ",
   "metadata": {
    "id": "wks5sfkExvkJ"
   },
   "outputs": [],
   "source": [
    "y_test_pred = model2.predict(X_test)"
   ]
  },
  {
   "cell_type": "code",
   "execution_count": 113,
   "id": "c7062e89-3cff-4167-96ee-7b1b3df74f8e",
   "metadata": {
    "id": "c7062e89-3cff-4167-96ee-7b1b3df74f8e"
   },
   "outputs": [
    {
     "name": "stdout",
     "output_type": "stream",
     "text": [
      "              precision    recall  f1-score   support\n",
      "\n",
      "          -1       0.48      0.54      0.51        57\n",
      "           0       0.91      0.93      0.92       424\n",
      "           1       0.33      0.11      0.16        19\n",
      "\n",
      "    accuracy                           0.85       500\n",
      "   macro avg       0.58      0.53      0.53       500\n",
      "weighted avg       0.84      0.85      0.84       500\n",
      "\n"
     ]
    }
   ],
   "source": [
    "from sklearn.metrics import classification_report\n",
    "\n",
    "print(classification_report(y_test, y_test_pred))\n",
    "#класс 1 слишком мало представлен, поэтому его выяление довольно слабо"
   ]
  },
  {
   "cell_type": "markdown",
   "id": "cd886df0-66f0-4e46-8754-ba221400048e",
   "metadata": {
    "id": "cd886df0-66f0-4e46-8754-ba221400048e"
   },
   "source": [
    "Разбейте X и y на тренировочную и тестовую выборки, **так, как указано в ячейке ниже**. Повторите все шаги, чтобы определить качество классификации."
   ]
  },
  {
   "cell_type": "code",
   "execution_count": 121,
   "id": "64ed362f-42ad-4fa8-b833-80745c8c962e",
   "metadata": {
    "id": "64ed362f-42ad-4fa8-b833-80745c8c962e"
   },
   "outputs": [],
   "source": [
    "X_train = X[tfs[\"construction\"] == \"ECR11\"].values\n",
    "X_test = X[tfs[\"construction\"] == \"ALDOB\"].values\n",
    "y_train = y[tfs[\"construction\"] == \"ECR11\"].values\n",
    "y_test = y[tfs[\"construction\"] == \"ALDOB\"].values"
   ]
  },
  {
   "cell_type": "code",
   "execution_count": 122,
   "id": "e42a113c-3483-4887-b526-cdde56fba6f9",
   "metadata": {
    "id": "e42a113c-3483-4887-b526-cdde56fba6f9"
   },
   "outputs": [
    {
     "name": "stdout",
     "output_type": "stream",
     "text": [
      "              precision    recall  f1-score   support\n",
      "\n",
      "          -1       0.20      0.34      0.25        94\n",
      "           0       0.79      0.66      0.72       382\n",
      "           1       0.33      0.21      0.26        24\n",
      "\n",
      "    accuracy                           0.58       500\n",
      "   macro avg       0.44      0.40      0.41       500\n",
      "weighted avg       0.65      0.58      0.61       500\n",
      "\n"
     ]
    }
   ],
   "source": [
    "scaler = StandardScaler()\n",
    "scaler.fit(X_train)\n",
    "X_train = scaler.transform(X_train)\n",
    "X_test = scaler.transform(X_test)\n",
    "\n",
    "model2.fit(X_train, y_train)\n",
    "\n",
    "y_test_pred = model2.predict(X_test)\n",
    "print(classification_report(y_test, y_test_pred))"
   ]
  },
  {
   "cell_type": "markdown",
   "id": "16bcf556-47ef-460c-aaaf-97442ca77692",
   "metadata": {
    "id": "16bcf556-47ef-460c-aaaf-97442ca77692"
   },
   "source": [
    "**Сделайте выводы об изменении качества**."
   ]
  },
  {
   "cell_type": "code",
   "execution_count": null,
   "id": "0795fe2e-eef2-4c35-9777-a7220f4c83fe",
   "metadata": {
    "id": "0795fe2e-eef2-4c35-9777-a7220f4c83fe"
   },
   "outputs": [],
   "source": [
    "Теперь класс 1 имеет хоть какуюто выраженость"
   ]
  },
  {
   "cell_type": "markdown",
   "id": "e8482c12-6d88-4916-a847-6b5353fe55c1",
   "metadata": {
    "id": "e8482c12-6d88-4916-a847-6b5353fe55c1"
   },
   "source": [
    "### Задача 3: Классификация химических веществ"
   ]
  },
  {
   "cell_type": "code",
   "execution_count": null,
   "id": "-r3XZfzYPOBO",
   "metadata": {
    "colab": {
     "base_uri": "https://localhost:8080/"
    },
    "id": "-r3XZfzYPOBO",
    "outputId": "8556f76a-6459-4ea5-fb2b-32ecca80cdce"
   },
   "outputs": [
    {
     "name": "stdout",
     "output_type": "stream",
     "text": [
      "--2021-09-29 21:27:25--  https://docs.google.com/uc?export=download&id=1SYdyTbPD01GYcdz7hkyWZGoA5RV44fg7\n",
      "Resolving docs.google.com (docs.google.com)... 108.177.13.100, 108.177.13.113, 108.177.13.139, ...\n",
      "Connecting to docs.google.com (docs.google.com)|108.177.13.100|:443... connected.\n",
      "HTTP request sent, awaiting response... 302 Moved Temporarily\n",
      "Location: https://doc-0c-50-docs.googleusercontent.com/docs/securesc/ha0ro937gcuc7l7deffksulhg5h7mbp1/uiqd2ruq60rohrbolgubauq25irqtb6p/1632950775000/10688067377005935076/*/1SYdyTbPD01GYcdz7hkyWZGoA5RV44fg7?e=download [following]\n",
      "Warning: wildcards not supported in HTTP.\n",
      "--2021-09-29 21:27:26--  https://doc-0c-50-docs.googleusercontent.com/docs/securesc/ha0ro937gcuc7l7deffksulhg5h7mbp1/uiqd2ruq60rohrbolgubauq25irqtb6p/1632950775000/10688067377005935076/*/1SYdyTbPD01GYcdz7hkyWZGoA5RV44fg7?e=download\n",
      "Resolving doc-0c-50-docs.googleusercontent.com (doc-0c-50-docs.googleusercontent.com)... 74.125.141.132, 2607:f8b0:400c:c06::84\n",
      "Connecting to doc-0c-50-docs.googleusercontent.com (doc-0c-50-docs.googleusercontent.com)|74.125.141.132|:443... connected.\n",
      "HTTP request sent, awaiting response... 200 OK\n",
      "Length: unspecified [text/csv]\n",
      "Saving to: ‘bace.csv’\n",
      "\n",
      "bace.csv                [ <=>                ]   3.72M  --.-KB/s    in 0.04s   \n",
      "\n",
      "2021-09-29 21:27:27 (96.6 MB/s) - ‘bace.csv’ saved [3897767]\n",
      "\n"
     ]
    }
   ],
   "source": [
    "!wget --no-check-certificate 'https://docs.google.com/uc?export=download&id=1SYdyTbPD01GYcdz7hkyWZGoA5RV44fg7' -O bace.csv"
   ]
  },
  {
   "cell_type": "markdown",
   "id": "c6e33fae-8f5c-4207-abe5-b27cf4d47436",
   "metadata": {
    "id": "c6e33fae-8f5c-4207-abe5-b27cf4d47436"
   },
   "source": [
    "Датасет [BACE](http://moleculenet.ai/datasets-1) загружен за вас, определены `X`, `y` и `smiles`."
   ]
  },
  {
   "cell_type": "code",
   "execution_count": null,
   "id": "26b131ae-2a07-48f3-a24f-d406471a99b1",
   "metadata": {
    "id": "26b131ae-2a07-48f3-a24f-d406471a99b1"
   },
   "outputs": [],
   "source": [
    "bace = pd.read_csv(\"./bace.csv\", header=0)\n",
    "bace.head(3)"
   ]
  },
  {
   "cell_type": "code",
   "execution_count": null,
   "id": "4d7630b3-92e2-4d1f-b305-30e211de181e",
   "metadata": {
    "id": "4d7630b3-92e2-4d1f-b305-30e211de181e"
   },
   "outputs": [],
   "source": [
    "X = bace.iloc[:,4:].values\n",
    "y = bace[\"Class\"].values\n",
    "smiles = bace[\"mol\"].values"
   ]
  },
  {
   "cell_type": "markdown",
   "id": "b82862fa-1ac5-4418-ba1f-8db8173ebd8b",
   "metadata": {
    "id": "b82862fa-1ac5-4418-ba1f-8db8173ebd8b"
   },
   "source": [
    "**Разбейте X и y на тренировочную и тестовую выборки**, как в лекции. Соотношение train/test поставьте равным 3:1.\\\n",
    "*Подсказка*: воспользуйтесь функцией `train_test_split`."
   ]
  },
  {
   "cell_type": "code",
   "execution_count": null,
   "id": "3be4f823-3b68-4988-a597-bae25c8ddd73",
   "metadata": {
    "id": "3be4f823-3b68-4988-a597-bae25c8ddd73"
   },
   "outputs": [],
   "source": []
  },
  {
   "cell_type": "markdown",
   "id": "e8413973-d3b5-49f4-8234-c115fd15ad23",
   "metadata": {
    "id": "e8413973-d3b5-49f4-8234-c115fd15ad23"
   },
   "source": [
    "**Осуществите стандартизацию признаков в выборке**."
   ]
  },
  {
   "cell_type": "code",
   "execution_count": null,
   "id": "7d2574c1-bc21-4dc6-b983-1303269b3bed",
   "metadata": {
    "id": "7d2574c1-bc21-4dc6-b983-1303269b3bed"
   },
   "outputs": [],
   "source": [
    "# your code here"
   ]
  },
  {
   "cell_type": "markdown",
   "id": "6c71dc81-9935-4493-b1a2-56fb5be672d0",
   "metadata": {
    "id": "6c71dc81-9935-4493-b1a2-56fb5be672d0"
   },
   "source": [
    "**Импортируйте модель классификации k-NN и обучите ее (`model.fit`)**."
   ]
  },
  {
   "cell_type": "code",
   "execution_count": null,
   "id": "f674454a-45e0-4427-960a-94c82e78d7d1",
   "metadata": {
    "id": "f674454a-45e0-4427-960a-94c82e78d7d1"
   },
   "outputs": [],
   "source": [
    "# your code here"
   ]
  },
  {
   "cell_type": "markdown",
   "id": "b12d7f89-ee99-47aa-b0ff-52e312a0938f",
   "metadata": {
    "id": "b12d7f89-ee99-47aa-b0ff-52e312a0938f"
   },
   "source": [
    "**Получите предсказание на оставшейся выборке**. Оцените его качество метриками из отчета о классификации (`classification_report`)."
   ]
  },
  {
   "cell_type": "code",
   "execution_count": null,
   "id": "a4561cf9-15ca-4d45-903f-14b478ac8448",
   "metadata": {
    "id": "a4561cf9-15ca-4d45-903f-14b478ac8448"
   },
   "outputs": [],
   "source": [
    "# your code here"
   ]
  },
  {
   "cell_type": "markdown",
   "id": "258f3c59-f419-4394-aa87-fa5c58a8c2d1",
   "metadata": {
    "id": "258f3c59-f419-4394-aa87-fa5c58a8c2d1"
   },
   "source": [
    "Функция `fingerprint_train_test_split`, приведенная ниже, осуществляет **разбиение train/test на основании молекулярных \"отпечатков\" (molecular fingerprints)**. Воспользуйтесь ей, чтобы получить **неслучайное разбиение на train/test** и повторите предыдущие шаги, чтобы оценить качество модели на таком случае."
   ]
  },
  {
   "cell_type": "code",
   "execution_count": 123,
   "id": "w03_Vi4MQLX_",
   "metadata": {
    "colab": {
     "base_uri": "https://localhost:8080/"
    },
    "id": "w03_Vi4MQLX_",
    "outputId": "3b9fcdcc-39d4-4644-ca4b-ced65eaf03e4"
   },
   "outputs": [
    {
     "name": "stdout",
     "output_type": "stream",
     "text": [
      "Looking in indexes: https://pypi.org/simple, https://pypi.ngc.nvidia.com\n"
     ]
    },
    {
     "name": "stderr",
     "output_type": "stream",
     "text": [
      "WARNING: Ignoring invalid distribution ~ip (C:\\Users\\LKDat\\AppData\\Local\\Programs\\Python\\Python312\\Lib\\site-packages)\n",
      "ERROR: Could not find a version that satisfies the requirement rdkit-pypi (from versions: none)\n",
      "\n",
      "[notice] A new release of pip is available: 24.2 -> 24.3.1\n",
      "[notice] To update, run: python.exe -m pip install --upgrade pip\n",
      "ERROR: No matching distribution found for rdkit-pypi\n"
     ]
    }
   ],
   "source": [
    "!pip install rdkit-pypi"
   ]
  },
  {
   "cell_type": "code",
   "execution_count": null,
   "id": "9a29ae65-3c94-4bf3-8a17-204607b8dc57",
   "metadata": {
    "id": "9a29ae65-3c94-4bf3-8a17-204607b8dc57"
   },
   "outputs": [],
   "source": [
    "from rdkit import Chem\n",
    "from rdkit.Chem import AllChem\n",
    "from rdkit import DataStructs"
   ]
  },
  {
   "cell_type": "code",
   "execution_count": null,
   "id": "7b6cb627-57fc-4bcb-971c-40a30e850f75",
   "metadata": {
    "id": "7b6cb627-57fc-4bcb-971c-40a30e850f75"
   },
   "outputs": [],
   "source": [
    "def _split_fingerprints(fps, size1, size2):\n",
    "    \"\"\"This is called by fingerprint_train_test_split to divide a list of fingerprints into\n",
    "    two groups.\n",
    "    \"\"\"\n",
    "    assert len(fps) == size1 + size2\n",
    "\n",
    "    # Begin by assigning the first molecule to the first group.\n",
    "\n",
    "    fp_in_group = [[fps[0]], []]\n",
    "    indices_in_group = ([0], [])\n",
    "    remaining_fp = fps[1:]\n",
    "    remaining_indices = list(range(1, len(fps)))\n",
    "    max_similarity_to_group = [\n",
    "        DataStructs.BulkTanimotoSimilarity(fps[0], remaining_fp),\n",
    "        [0] * len(remaining_fp)\n",
    "    ]\n",
    "    while len(remaining_fp) > 0:\n",
    "    # Decide which group to assign a molecule to.\n",
    "        group = 0 if len(fp_in_group[0]) / size1 <= len(\n",
    "            fp_in_group[1]) / size2 else 1\n",
    "\n",
    "        # Identify the unassigned molecule that is least similar to everything in\n",
    "        # the other group.\n",
    "\n",
    "        i = np.argmin(max_similarity_to_group[1 - group])\n",
    "\n",
    "        # Add it to the group.\n",
    "\n",
    "        fp = remaining_fp[i]\n",
    "        fp_in_group[group].append(fp)\n",
    "        indices_in_group[group].append(remaining_indices[i])\n",
    "\n",
    "        # Update the data on unassigned molecules.\n",
    "\n",
    "        similarity = DataStructs.BulkTanimotoSimilarity(fp, remaining_fp)\n",
    "        max_similarity_to_group[group] = np.delete(\n",
    "            np.maximum(similarity, max_similarity_to_group[group]), i)\n",
    "        max_similarity_to_group[1 - group] = np.delete(\n",
    "            max_similarity_to_group[1 - group], i)\n",
    "        del remaining_fp[i]\n",
    "        del remaining_indices[i]\n",
    "    return indices_in_group"
   ]
  },
  {
   "cell_type": "code",
   "execution_count": null,
   "id": "cfe6c073-0fc4-4f23-8fab-8744f725db28",
   "metadata": {
    "id": "cfe6c073-0fc4-4f23-8fab-8744f725db28"
   },
   "outputs": [],
   "source": [
    "def fingerprint_train_test_split(X, y, smiles, test_size=0.1):\n",
    "    assert X.shape[0] == y.shape[0] == smiles.shape[0]\n",
    "    mols = [Chem.MolFromSmiles(s) for s in smiles]\n",
    "    fps = [AllChem.GetMorganFingerprintAsBitVect(x, 2, 1024) for x in mols]\n",
    "\n",
    "    # Split into two groups: training set and everything else.\n",
    "\n",
    "    test_size = int(test_size * len(y))\n",
    "    train_size = len(y) - test_size\n",
    "    train_inds, test_inds = _split_fingerprints(fps, train_size, test_size)\n",
    "\n",
    "    X_train = X[train_inds,:]\n",
    "    X_test = X[test_inds,:]\n",
    "    y_train = y[train_inds]\n",
    "    y_test = y[test_inds]\n",
    "\n",
    "    return X_train, X_test, y_train, y_test"
   ]
  },
  {
   "cell_type": "code",
   "execution_count": null,
   "id": "bac99465-3e69-4eb6-a05e-2abfffe97fe1",
   "metadata": {
    "id": "bac99465-3e69-4eb6-a05e-2abfffe97fe1"
   },
   "outputs": [],
   "source": [
    "# your code here"
   ]
  },
  {
   "cell_type": "markdown",
   "id": "d1051f3a-d90a-4cfb-887c-97aad6b31158",
   "metadata": {
    "id": "d1051f3a-d90a-4cfb-887c-97aad6b31158"
   },
   "source": [
    "**Сделайте выводы**."
   ]
  },
  {
   "cell_type": "code",
   "execution_count": null,
   "id": "e26b8e9c-1824-406c-a423-d006bfdbc9e8",
   "metadata": {
    "id": "e26b8e9c-1824-406c-a423-d006bfdbc9e8"
   },
   "outputs": [],
   "source": [
    "# your answer here"
   ]
  },
  {
   "cell_type": "markdown",
   "id": "8e230a47-c382-40eb-8512-57353a4a8df0",
   "metadata": {
    "id": "8e230a47-c382-40eb-8512-57353a4a8df0"
   },
   "source": [
    "---"
   ]
  }
 ],
 "metadata": {
  "colab": {
   "include_colab_link": true,
   "provenance": []
  },
  "kernelspec": {
   "display_name": "Python 3 (ipykernel)",
   "language": "python",
   "name": "python3"
  },
  "language_info": {
   "codemirror_mode": {
    "name": "ipython",
    "version": 3
   },
   "file_extension": ".py",
   "mimetype": "text/x-python",
   "name": "python",
   "nbconvert_exporter": "python",
   "pygments_lexer": "ipython3",
   "version": "3.12.6"
  }
 },
 "nbformat": 4,
 "nbformat_minor": 5
}
